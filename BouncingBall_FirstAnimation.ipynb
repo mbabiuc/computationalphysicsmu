{
 "cells": [
  {
   "cell_type": "markdown",
   "id": "dd9a5101",
   "metadata": {},
   "source": [
    "# First Animation\n",
    "---\n",
    "\n",
    "by Maria Hamilton\n"
   ]
  },
  {
   "cell_type": "markdown",
   "id": "abeef9f8",
   "metadata": {},
   "source": [
    "We draw a ball, and will also define its center, radius and color of the sphere. The nominal colors are *reb, blue, green, yellow, cyan, magenta, white and black*. \n",
    "You can also specify the color using *rgb* with ``color=vector(r,g,b)``. \n",
    "Run the following code snippet:"
   ]
  },
  {
   "cell_type": "code",
   "execution_count": 1,
   "id": "9283e4c4",
   "metadata": {},
   "outputs": [
    {
     "data": {
      "text/html": [
       "<div id=\"glowscript\" class=\"glowscript\"></div>"
      ],
      "text/plain": [
       "<IPython.core.display.HTML object>"
      ]
     },
     "metadata": {},
     "output_type": "display_data"
    },
    {
     "data": {
      "application/javascript": [
       "if (typeof Jupyter !== \"undefined\") { window.__context = { glowscript_container: $(\"#glowscript\").removeAttr(\"id\")};}else{ element.textContent = ' ';}"
      ],
      "text/plain": [
       "<IPython.core.display.Javascript object>"
      ]
     },
     "metadata": {},
     "output_type": "display_data"
    }
   ],
   "source": [
    "from vpython import *\n",
    "from math import *"
   ]
  },
  {
   "cell_type": "code",
   "execution_count": 2,
   "id": "7ec0e1d6",
   "metadata": {},
   "outputs": [
    {
     "data": {
      "application/javascript": [
       "if (typeof Jupyter !== \"undefined\") {require.undef(\"nbextensions/vpython_libraries/glow.min\");}else{element.textContent = ' ';}"
      ],
      "text/plain": [
       "<IPython.core.display.Javascript object>"
      ]
     },
     "metadata": {},
     "output_type": "display_data"
    },
    {
     "data": {
      "application/javascript": [
       "if (typeof Jupyter !== \"undefined\") {require.undef(\"nbextensions/vpython_libraries/glowcomm\");}else{element.textContent = ' ';}"
      ],
      "text/plain": [
       "<IPython.core.display.Javascript object>"
      ]
     },
     "metadata": {},
     "output_type": "display_data"
    },
    {
     "data": {
      "application/javascript": [
       "if (typeof Jupyter !== \"undefined\") {require.undef(\"nbextensions/vpython_libraries/jquery-ui.custom.min\");}else{element.textContent = ' ';}"
      ],
      "text/plain": [
       "<IPython.core.display.Javascript object>"
      ]
     },
     "metadata": {},
     "output_type": "display_data"
    },
    {
     "data": {
      "application/javascript": [
       "if (typeof Jupyter !== \"undefined\") {require([\"nbextensions/vpython_libraries/glow.min\"], function(){console.log(\"GLOW LOADED\");});}else{element.textContent = ' ';}"
      ],
      "text/plain": [
       "<IPython.core.display.Javascript object>"
      ]
     },
     "metadata": {},
     "output_type": "display_data"
    },
    {
     "data": {
      "application/javascript": [
       "if (typeof Jupyter !== \"undefined\") {require([\"nbextensions/vpython_libraries/glowcomm\"], function(){console.log(\"GLOWCOMM LOADED\");});}else{element.textContent = ' ';}"
      ],
      "text/plain": [
       "<IPython.core.display.Javascript object>"
      ]
     },
     "metadata": {},
     "output_type": "display_data"
    },
    {
     "data": {
      "application/javascript": [
       "if (typeof Jupyter !== \"undefined\") {require([\"nbextensions/vpython_libraries/jquery-ui.custom.min\"], function(){console.log(\"JQUERY LOADED\");});}else{element.textContent = ' ';}"
      ],
      "text/plain": [
       "<IPython.core.display.Javascript object>"
      ]
     },
     "metadata": {},
     "output_type": "display_data"
    }
   ],
   "source": [
    "ball = sphere(pos=vector(0,0,0),radius=0.5,color=color.cyan)\n",
    "wallL = box(pos=vector(-10,0,0),size=vector(0.1,10,5),color=color.blue)\n",
    "wallR = box(pos=vector(10,0,0),size=vector(0.1,10,5),color=color.blue)"
   ]
  },
  {
   "cell_type": "markdown",
   "id": "29a7f2ad",
   "metadata": {},
   "source": [
    "We also entered two more commands, that draw the walls, at the left and right sides of the screen. You can now explore the varios zoom and perspective functions with this image. \n",
    "You can also change the position of the ball this way:"
   ]
  },
  {
   "cell_type": "code",
   "execution_count": 3,
   "id": "29bb8390",
   "metadata": {},
   "outputs": [],
   "source": [
    "ball.pos.x = ball.pos.x - 5"
   ]
  },
  {
   "cell_type": "markdown",
   "id": "bafc8272",
   "metadata": {},
   "source": [
    "Now add the following lines to your code:"
   ]
  },
  {
   "cell_type": "code",
   "execution_count": 4,
   "id": "bdbb016d",
   "metadata": {},
   "outputs": [],
   "source": [
    "v = 1\n",
    "dt = 0.1\n",
    "while ball.pos.x < 10:\n",
    "    rate(20)\n",
    "    ball.pos.x = ball.pos.x + v*dt"
   ]
  },
  {
   "cell_type": "markdown",
   "id": "a9e4484e",
   "metadata": {},
   "source": [
    "And that’s your first 3-D animation! \n",
    "The rate(20) line just slows down the computer to make the animation rate about right. You can adjust this parameter.\n",
    "If you want to repeat the process, or run into a problem, select ``Kernel -> Restart`` or the *double arrows* button. \n",
    "Now try to modify the animation to have the ball bounce between the walls. Try this:"
   ]
  },
  {
   "cell_type": "code",
   "execution_count": 5,
   "id": "d36c9052",
   "metadata": {},
   "outputs": [],
   "source": [
    "t = 0\n",
    "while t<1000:\n",
    "    rate(100)\n",
    "    ball.pos.x = ball.pos.x + v*dt\n",
    "    t += dt\n",
    "    if ball.pos.x > 10:\n",
    "        v = -1"
   ]
  },
  {
   "cell_type": "markdown",
   "id": "a7350946",
   "metadata": {},
   "source": [
    "Note that if we run this, the ball just goes off through the wall for a very long time. It knows nothing about walls!\n",
    "If you want to end the loop earlier, stop the process by selecting ``Kernel -> Restart & Clear Output``"
   ]
  },
  {
   "cell_type": "markdown",
   "id": "c205a7f8",
   "metadata": {},
   "source": [
    "## Assignment\n",
    "Get the program working with the ball bouncing off of both walls. For example, you can add another if statement to handle bounces off the second wall. If you have time you can think about improving and generalizing your script by letting v be a vector."
   ]
  },
  {
   "cell_type": "code",
   "execution_count": null,
   "id": "9a7c7cd2",
   "metadata": {},
   "outputs": [],
   "source": []
  }
 ],
 "metadata": {
  "kernelspec": {
   "display_name": "VPython",
   "language": "python",
   "name": "vpython"
  },
  "language_info": {
   "codemirror_mode": {
    "name": "ipython",
    "version": 3
   },
   "file_extension": ".py",
   "mimetype": "text/x-python",
   "name": "python",
   "nbconvert_exporter": "python",
   "pygments_lexer": "ipython3",
   "version": "3.7.6"
  }
 },
 "nbformat": 4,
 "nbformat_minor": 5
}
