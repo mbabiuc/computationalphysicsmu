{
 "cells": [
  {
   "cell_type": "markdown",
   "id": "6722a5dd",
   "metadata": {},
   "source": [
    "# The Earth-Moon System\n",
    "\n",
    "This is a tutorial modeling the motion of two planets or stars that orbit around each other due to the force of gravity.\n",
    "We will build a script for the motion of the Earth and the Moon. \n",
    "The force between Earth and Moon is given by Newton's Law of Universal Gravity:\n",
    "$$ F_{gravity} = -G \\frac{M_{Earth}M_{Moon}} {r^2}\\frac{\\overrightarrow{r}}{r}$$\n",
    "Here the distance is $r = r_{Moon} - r_{Earth} $.\n",
    "We will implement this in VPython or GlowScript, with the following steps:\n",
    "\n",
    "* import vpython and create a scene"
   ]
  },
  {
   "cell_type": "code",
   "execution_count": 1,
   "id": "0b43274e",
   "metadata": {},
   "outputs": [
    {
     "data": {
      "text/html": [
       "<div id=\"glowscript\" class=\"glowscript\"></div>"
      ],
      "text/plain": [
       "<IPython.core.display.HTML object>"
      ]
     },
     "metadata": {},
     "output_type": "display_data"
    },
    {
     "data": {
      "application/javascript": [
       "if (typeof Jupyter !== \"undefined\") { window.__context = { glowscript_container: $(\"#glowscript\").removeAttr(\"id\")};}else{ element.textContent = ' ';}"
      ],
      "text/plain": [
       "<IPython.core.display.Javascript object>"
      ]
     },
     "metadata": {},
     "output_type": "display_data"
    }
   ],
   "source": [
    "from vpython import *"
   ]
  },
  {
   "cell_type": "markdown",
   "id": "1b7a619b",
   "metadata": {},
   "source": [
    "* enter all the constants that we need"
   ]
  },
  {
   "cell_type": "code",
   "execution_count": 2,
   "id": "0623b2a3",
   "metadata": {},
   "outputs": [],
   "source": [
    "#constans\n",
    "G = 6.7e-11 #gravitational constant\n",
    "mE = 5.972e24 # mass of the Earth\n",
    "mM = 7.346e22 # mass of the Moon\n",
    "dEM = 3.844e8 # distance from Earth to the Moon\n",
    "rE = 6.378e6 # radius of the Earth\n",
    "rM = 1.737e6 # radius of the Moon"
   ]
  },
  {
   "cell_type": "markdown",
   "id": "e79d4023",
   "metadata": {},
   "source": [
    "* create the celestial objects"
   ]
  },
  {
   "cell_type": "code",
   "execution_count": 3,
   "id": "f971dfd6",
   "metadata": {
    "scrolled": true
   },
   "outputs": [
    {
     "data": {
      "text/html": [
       "<div id=\"glowscript\" class=\"glowscript\"></div>"
      ],
      "text/plain": [
       "<IPython.core.display.HTML object>"
      ]
     },
     "metadata": {},
     "output_type": "display_data"
    },
    {
     "data": {
      "application/javascript": [
       "if (typeof Jupyter !== \"undefined\") { window.__context = { glowscript_container: $(\"#glowscript\").removeAttr(\"id\")};}else{ element.textContent = ' ';}"
      ],
      "text/plain": [
       "<IPython.core.display.Javascript object>"
      ]
     },
     "metadata": {},
     "output_type": "display_data"
    },
    {
     "data": {
      "application/javascript": [
       "if (typeof Jupyter !== \"undefined\") {require.undef(\"nbextensions/vpython_libraries/glow.min\");}else{element.textContent = ' ';}"
      ],
      "text/plain": [
       "<IPython.core.display.Javascript object>"
      ]
     },
     "metadata": {},
     "output_type": "display_data"
    },
    {
     "data": {
      "application/javascript": [
       "if (typeof Jupyter !== \"undefined\") {require.undef(\"nbextensions/vpython_libraries/glowcomm\");}else{element.textContent = ' ';}"
      ],
      "text/plain": [
       "<IPython.core.display.Javascript object>"
      ]
     },
     "metadata": {},
     "output_type": "display_data"
    },
    {
     "data": {
      "application/javascript": [
       "if (typeof Jupyter !== \"undefined\") {require.undef(\"nbextensions/vpython_libraries/jquery-ui.custom.min\");}else{element.textContent = ' ';}"
      ],
      "text/plain": [
       "<IPython.core.display.Javascript object>"
      ]
     },
     "metadata": {},
     "output_type": "display_data"
    },
    {
     "data": {
      "application/javascript": [
       "if (typeof Jupyter !== \"undefined\") {require([\"nbextensions/vpython_libraries/glow.min\"], function(){console.log(\"GLOW LOADED\");});}else{element.textContent = ' ';}"
      ],
      "text/plain": [
       "<IPython.core.display.Javascript object>"
      ]
     },
     "metadata": {},
     "output_type": "display_data"
    },
    {
     "data": {
      "application/javascript": [
       "if (typeof Jupyter !== \"undefined\") {require([\"nbextensions/vpython_libraries/glowcomm\"], function(){console.log(\"GLOWCOMM LOADED\");});}else{element.textContent = ' ';}"
      ],
      "text/plain": [
       "<IPython.core.display.Javascript object>"
      ]
     },
     "metadata": {},
     "output_type": "display_data"
    },
    {
     "data": {
      "application/javascript": [
       "if (typeof Jupyter !== \"undefined\") {require([\"nbextensions/vpython_libraries/jquery-ui.custom.min\"], function(){console.log(\"JQUERY LOADED\");});}else{element.textContent = ' ';}"
      ],
      "text/plain": [
       "<IPython.core.display.Javascript object>"
      ]
     },
     "metadata": {},
     "output_type": "display_data"
    }
   ],
   "source": [
    "#build the objects\n",
    "scene = canvas()\n",
    "scene.forward = vec(0,-.3,-1)\n",
    "Earth= sphere(pos=vec(0,0,0), radius=2*rE, color=color.cyan,\n",
    "               make_trail=True, trail_type='points', interval=10, retain=20)\n",
    "Earth.mass = mE\n",
    "Moon = sphere(pos=vec(dEM,0,0), radius=4*rM, color=color.yellow, \n",
    "              make_trail=True, trail_type='points', interval=20, retain=200)\n",
    "Moon.mass = mM\n",
    "light = local_light(pos=vec(0,0,0), color=color.yellow) "
   ]
  },
  {
   "cell_type": "markdown",
   "id": "07fde499",
   "metadata": {},
   "source": [
    "The gravitational force of the Earth on the Moon is the same as the gravitational force of the Moon on the Earth, but because each body has different mass, their accelerations will differ:\n",
    "$$ a_{Earth} = \\frac{F_{gravity}}{M_{Earth}}$$\n",
    "$$ a_{Moon} = -\\frac{F_{gravity}}{M_{Moon}}$$\n",
    "\n",
    "We need to give the moon an initial velocity, perpendicular to the distance to the Earth, otherwise instead of rotating around the Earth, it will crush into it. \n",
    "To calculate this velocity, we us the fact that the Moon is moving in a circle. Then:\n",
    "$$F_{gravity} = \\frac{M_{Moon}v_{Moon}^2}{r}$$\n",
    "Thus, the velocity of the Moon is:\n",
    "$$v_{Moon} = \\sqrt{F_{gravity}\\frac{r}{M_{Moon}}}\n",
    "=  \\sqrt{G\\frac{M_{Earth}}{r}} $$\n",
    "Let's choose $y$ as the direction of this velocity."
   ]
  },
  {
   "cell_type": "code",
   "execution_count": 4,
   "id": "cbf13f17",
   "metadata": {
    "scrolled": true
   },
   "outputs": [
    {
     "name": "stdout",
     "output_type": "stream",
     "text": [
      "Moon velocity around center of mass is = 1009.646\n",
      "Earth velocity around center of mass is = -12.419\n"
     ]
    }
   ],
   "source": [
    "#Calculate the velocity of the Moon\n",
    "from math import sqrt\n",
    "vM = sqrt(G*mE/(dEM+rE+rM))\n",
    "vE = -vM*mM/mE\n",
    "print(\"Moon velocity around center of mass is = %.3f\" %vM)\n",
    "print(\"Earth velocity around center of mass is = %.3f\" %vE)"
   ]
  },
  {
   "cell_type": "code",
   "execution_count": 5,
   "id": "a2cfaac5",
   "metadata": {},
   "outputs": [],
   "source": [
    "# Initialize velocities\n",
    "vMc = vM\n",
    "Moon.v = vector(0, 0, vMc)\n",
    "Earth.v = -Moon.v*Moon.mass/Earth.mass"
   ]
  },
  {
   "cell_type": "markdown",
   "id": "c7c9d237",
   "metadata": {},
   "source": [
    "* Now let's implement the loop.\n",
    "The algorithm to be repeated at each time step will be the following:\n",
    "1. calculate the distance between Earth and Moon\n",
    "2. calculate the force of gravity at that distance between Earth and Moon\n",
    "3. calculate the acceleration experienced by the Earth and by the Moon for that force of gravity.\n",
    "4. use the Euler-Cromer method to calculate the velocity\n",
    "5. use the Euler-Cromer method to calculate the position\n",
    "6. update the time\n",
    "\n",
    "Before we start though, what time step shall we chose? \n",
    "The Moon orbits the Earth in about 28 days, so if we pick an interval of 0.01 seconds, as we did for the projectile motion, it will take forever to run!\n",
    "I suggest to start with a time interval of 1 hour, which gives a dt = 3600, and decrease if the orbit is unstable. "
   ]
  },
  {
   "cell_type": "code",
   "execution_count": 6,
   "id": "17f4dbc8",
   "metadata": {},
   "outputs": [
    {
     "ename": "KeyboardInterrupt",
     "evalue": "",
     "output_type": "error",
     "traceback": [
      "\u001b[0;31m---------------------------------------------------------------------------\u001b[0m",
      "\u001b[0;31mKeyboardInterrupt\u001b[0m                         Traceback (most recent call last)",
      "\u001b[0;32m<ipython-input-6-fcb4e974dd98>\u001b[0m in \u001b[0;36m<module>\u001b[0;34m\u001b[0m\n\u001b[1;32m      4\u001b[0m \u001b[0;34m\u001b[0m\u001b[0m\n\u001b[1;32m      5\u001b[0m \u001b[0;32mwhile\u001b[0m \u001b[0;32mTrue\u001b[0m\u001b[0;34m:\u001b[0m \u001b[0;31m#mag(r)>(rE+rM):\u001b[0m\u001b[0;34m\u001b[0m\u001b[0;34m\u001b[0m\u001b[0m\n\u001b[0;32m----> 6\u001b[0;31m     \u001b[0mrate\u001b[0m\u001b[0;34m(\u001b[0m\u001b[0;36m300\u001b[0m\u001b[0;34m)\u001b[0m\u001b[0;34m\u001b[0m\u001b[0;34m\u001b[0m\u001b[0m\n\u001b[0m\u001b[1;32m      7\u001b[0m     \u001b[0;31m# calculate the distance between Earth and Moon\u001b[0m\u001b[0;34m\u001b[0m\u001b[0;34m\u001b[0m\u001b[0;34m\u001b[0m\u001b[0m\n\u001b[1;32m      8\u001b[0m     \u001b[0mr\u001b[0m \u001b[0;34m=\u001b[0m \u001b[0mMoon\u001b[0m\u001b[0;34m.\u001b[0m\u001b[0mpos\u001b[0m \u001b[0;34m-\u001b[0m \u001b[0mEarth\u001b[0m\u001b[0;34m.\u001b[0m\u001b[0mpos\u001b[0m\u001b[0;34m\u001b[0m\u001b[0;34m\u001b[0m\u001b[0m\n",
      "\u001b[0;32m/usr/local/anaconda3/lib/python3.7/site-packages/vpython/rate_control.py\u001b[0m in \u001b[0;36m__call__\u001b[0;34m(self, N)\u001b[0m\n\u001b[1;32m    264\u001b[0m         \u001b[0mself\u001b[0m\u001b[0;34m.\u001b[0m\u001b[0mrval\u001b[0m \u001b[0;34m=\u001b[0m \u001b[0mN\u001b[0m\u001b[0;34m\u001b[0m\u001b[0;34m\u001b[0m\u001b[0m\n\u001b[1;32m    265\u001b[0m         \u001b[0;32mif\u001b[0m \u001b[0mself\u001b[0m\u001b[0;34m.\u001b[0m\u001b[0mrval\u001b[0m \u001b[0;34m<\u001b[0m \u001b[0;36m1\u001b[0m\u001b[0;34m:\u001b[0m \u001b[0;32mraise\u001b[0m \u001b[0mValueError\u001b[0m\u001b[0;34m(\u001b[0m\u001b[0;34m\"rate value must be greater than or equal to 1\"\u001b[0m\u001b[0;34m)\u001b[0m\u001b[0;34m\u001b[0m\u001b[0;34m\u001b[0m\u001b[0m\n\u001b[0;32m--> 266\u001b[0;31m         \u001b[0msuper\u001b[0m\u001b[0;34m(\u001b[0m\u001b[0m_RateKeeper2\u001b[0m\u001b[0;34m,\u001b[0m \u001b[0mself\u001b[0m\u001b[0;34m)\u001b[0m\u001b[0;34m.\u001b[0m\u001b[0m__call__\u001b[0m\u001b[0;34m(\u001b[0m\u001b[0mself\u001b[0m\u001b[0;34m.\u001b[0m\u001b[0mrval\u001b[0m\u001b[0;34m)\u001b[0m \u001b[0;31m## calls __call__ in rate_control.py\u001b[0m\u001b[0;34m\u001b[0m\u001b[0;34m\u001b[0m\u001b[0m\n\u001b[0m\u001b[1;32m    267\u001b[0m \u001b[0;34m\u001b[0m\u001b[0m\n\u001b[1;32m    268\u001b[0m \u001b[0;34m\u001b[0m\u001b[0m\n",
      "\u001b[0;32m/usr/local/anaconda3/lib/python3.7/site-packages/vpython/rate_control.py\u001b[0m in \u001b[0;36m__call__\u001b[0;34m(self, maxRate)\u001b[0m\n\u001b[1;32m    218\u001b[0m             \u001b[0mdt\u001b[0m \u001b[0;34m=\u001b[0m \u001b[0mself\u001b[0m\u001b[0;34m.\u001b[0m\u001b[0mlastSleep\u001b[0m \u001b[0;34m+\u001b[0m \u001b[0mself\u001b[0m\u001b[0;34m.\u001b[0m\u001b[0mcalls\u001b[0m\u001b[0;34m*\u001b[0m\u001b[0;34m(\u001b[0m\u001b[0mself\u001b[0m\u001b[0;34m.\u001b[0m\u001b[0muserTime\u001b[0m \u001b[0;34m+\u001b[0m \u001b[0mself\u001b[0m\u001b[0;34m.\u001b[0m\u001b[0mcallTime\u001b[0m \u001b[0;34m+\u001b[0m \u001b[0mself\u001b[0m\u001b[0;34m.\u001b[0m\u001b[0mdelay\u001b[0m\u001b[0;34m)\u001b[0m \u001b[0;34m+\u001b[0m\u001b[0;31m \u001b[0m\u001b[0;31m\\\u001b[0m\u001b[0;34m\u001b[0m\u001b[0;34m\u001b[0m\u001b[0m\n\u001b[1;32m    219\u001b[0m                  \u001b[0mrenders\u001b[0m\u001b[0;34m*\u001b[0m\u001b[0mself\u001b[0m\u001b[0;34m.\u001b[0m\u001b[0mrenderTime\u001b[0m \u001b[0;34m+\u001b[0m \u001b[0msleeps\u001b[0m\u001b[0;34m*\u001b[0m\u001b[0mself\u001b[0m\u001b[0;34m.\u001b[0m\u001b[0minteractionPeriod\u001b[0m \u001b[0;34m-\u001b[0m \u001b[0m_clock\u001b[0m\u001b[0;34m(\u001b[0m\u001b[0;34m)\u001b[0m\u001b[0;34m\u001b[0m\u001b[0;34m\u001b[0m\u001b[0m\n\u001b[0;32m--> 220\u001b[0;31m             \u001b[0m_sleep\u001b[0m\u001b[0;34m(\u001b[0m\u001b[0mdt\u001b[0m\u001b[0;34m)\u001b[0m\u001b[0;34m\u001b[0m\u001b[0;34m\u001b[0m\u001b[0m\n\u001b[0m\u001b[1;32m    221\u001b[0m             \u001b[0mself\u001b[0m\u001b[0;34m.\u001b[0m\u001b[0mlastSleep\u001b[0m \u001b[0;34m=\u001b[0m \u001b[0m_clock\u001b[0m\u001b[0;34m(\u001b[0m\u001b[0;34m)\u001b[0m\u001b[0;34m\u001b[0m\u001b[0;34m\u001b[0m\u001b[0m\n\u001b[1;32m    222\u001b[0m             \u001b[0mself\u001b[0m\u001b[0;34m.\u001b[0m\u001b[0mcalls\u001b[0m \u001b[0;34m=\u001b[0m \u001b[0;36m0\u001b[0m\u001b[0;34m\u001b[0m\u001b[0;34m\u001b[0m\u001b[0m\n",
      "\u001b[0;32m/usr/local/anaconda3/lib/python3.7/site-packages/vpython/rate_control.py\u001b[0m in \u001b[0;36m_sleep\u001b[0;34m(dt)\u001b[0m\n\u001b[1;32m     60\u001b[0m         \u001b[0mdtsleep\u001b[0m \u001b[0;34m=\u001b[0m \u001b[0mnticks\u001b[0m\u001b[0;34m*\u001b[0m\u001b[0m_tick\u001b[0m\u001b[0;34m\u001b[0m\u001b[0;34m\u001b[0m\u001b[0m\n\u001b[1;32m     61\u001b[0m         \u001b[0mt\u001b[0m \u001b[0;34m=\u001b[0m \u001b[0m_clock\u001b[0m\u001b[0;34m(\u001b[0m\u001b[0;34m)\u001b[0m\u001b[0;34m\u001b[0m\u001b[0;34m\u001b[0m\u001b[0m\n\u001b[0;32m---> 62\u001b[0;31m         \u001b[0mtime\u001b[0m\u001b[0;34m.\u001b[0m\u001b[0msleep\u001b[0m\u001b[0;34m(\u001b[0m\u001b[0mdtsleep\u001b[0m\u001b[0;34m)\u001b[0m\u001b[0;34m\u001b[0m\u001b[0;34m\u001b[0m\u001b[0m\n\u001b[0m\u001b[1;32m     63\u001b[0m         \u001b[0mt\u001b[0m \u001b[0;34m=\u001b[0m \u001b[0m_clock\u001b[0m\u001b[0;34m(\u001b[0m\u001b[0;34m)\u001b[0m\u001b[0;34m-\u001b[0m\u001b[0mt\u001b[0m\u001b[0;34m\u001b[0m\u001b[0;34m\u001b[0m\u001b[0m\n\u001b[1;32m     64\u001b[0m         \u001b[0mdt\u001b[0m \u001b[0;34m-=\u001b[0m \u001b[0mt\u001b[0m\u001b[0;34m\u001b[0m\u001b[0;34m\u001b[0m\u001b[0m\n",
      "\u001b[0;31mKeyboardInterrupt\u001b[0m: "
     ]
    }
   ],
   "source": [
    "# timestep in seconds, of about 1 hour.\n",
    "\n",
    "dt = 1800\n",
    "\n",
    "while True: #mag(r)>(rE+rM):\n",
    "    rate(300)\n",
    "    # calculate the distance between Earth and Moon \n",
    "    r = Moon.pos - Earth.pos\n",
    "    # Newton's force of Gravity \n",
    "    F = G * Earth.mass * Moon.mass * norm(r) / mag2(r)\n",
    "    # acceleration on the Earth\n",
    "    aE = + F/Earth.mass\n",
    "    # acceleration on the Moon: note the \"-\" sign because forces are equal and opposite\n",
    "    aM = - F/Moon.mass\n",
    "    # Euler-Cromer method for velocities\n",
    "    Earth.v = Earth.v + aE*dt\n",
    "    Moon.v = Moon.v + aM*dt\n",
    "    # Euler-Cromer method for positions\n",
    "    Earth.pos = Earth.pos + Earth.v * dt\n",
    "    Moon.pos = Moon.pos + Moon.v * dt"
   ]
  }
 ],
 "metadata": {
  "kernelspec": {
   "display_name": "VPython",
   "language": "python",
   "name": "vpython"
  },
  "language_info": {
   "codemirror_mode": {
    "name": "ipython",
    "version": 3
   },
   "file_extension": ".py",
   "mimetype": "text/x-python",
   "name": "python",
   "nbconvert_exporter": "python",
   "pygments_lexer": "ipython3",
   "version": "3.7.10"
  }
 },
 "nbformat": 4,
 "nbformat_minor": 5
}
