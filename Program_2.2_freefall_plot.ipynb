{
 "cells": [
  {
   "cell_type": "code",
   "execution_count": null,
   "metadata": {},
   "outputs": [],
   "source": [
    "#\n",
    "# Program 2.2: Free fall with Euler's method (freefall_plot.ipynb)\n",
    "# J Wang, Computational modeling and visualization with Python\n",
    "#\n",
    "\n",
    "import matplotlib.pyplot as plt # get matplotlib plot functions\n",
    "%matplotlib notebook\n",
    "\n",
    "g, h = 9.8, 0.02    # $g$, step size. Multiple assignments in one line\n",
    "y, v0 = 0.0, 5.0    # initial position, velocity\n",
    "ta, ya = [], []     # time and position arrays for plotting\n",
    "t, yb = 0.0, []     # yb[] holds analytic solution\n",
    "\n",
    "while t<1.0:        # loop for one second\n",
    "    ta.append(t)    # record time and position\n",
    "    ya.append(y)\n",
    "    yb.append(v0*t-g*t*t/2.0)   # analytic solution\n",
    "    v = v0 - g*t                # calc v(t)\n",
    "    y = y + v*h                 # Euler's method\n",
    "    t = t + h\n",
    "\n",
    "plt.figure()                    # start a figure\n",
    "plt.plot(ta,ya, ta,yb,'--')     # draw 2nd curve as dashed\n",
    "plt.xlabel('t (s)')             # add labels\n",
    "plt.ylabel('y (m)')\n",
    "plt.show()                      # show figure"
   ]
  },
  {
   "cell_type": "code",
   "execution_count": null,
   "metadata": {
    "collapsed": true
   },
   "outputs": [],
   "source": []
  }
 ],
 "metadata": {
  "kernelspec": {
   "display_name": "Python 3",
   "language": "python",
   "name": "python3"
  },
  "language_info": {
   "codemirror_mode": {
    "name": "ipython",
    "version": 3
   },
   "file_extension": ".py",
   "mimetype": "text/x-python",
   "name": "python",
   "nbconvert_exporter": "python",
   "pygments_lexer": "ipython3",
   "version": "3.6.1"
  }
 },
 "nbformat": 4,
 "nbformat_minor": 2
}
