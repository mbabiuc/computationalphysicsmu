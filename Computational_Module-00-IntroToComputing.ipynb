{
 "cells": [
  {
   "cell_type": "markdown",
   "metadata": {},
   "source": [
    "# <font face=\"times\"><font size=\"6pt\"><p style = 'text-align: center;'> BRYN MAWR COLLEGE\n",
    "\n",
    "<font face=\"times\"><font size=\"6pt\"><p style = 'text-align: center;'><b>Computational Methods in the Physical Sciences</b><br/><br/>\n",
    "\n",
    "<p style = 'text-align: center;'><font face=\"times\"><b>Module 1:  A Brief Introduction to Python and Programming</b><br/><br/>\n",
    "\n",
    "<p style = 'text-align: center;'><b>Part 1 -- Basics</b><br/><br/>\n",
    "\n",
    "<p style = 'text-align: center;'><font size=\"3pt\"> Adapted from *A Crash Course in Python for Scientists*, version 0.6 <br/>\n",
    "[Rick Muller](http://www.cs.sandia.gov/~rmuller/), Sandia National Laboratories </p>"
   ]
  },
  {
   "cell_type": "markdown",
   "metadata": {},
   "source": [
    " ***Prerequisite modules***: None \n",
    "\n",
    " ***Estimated completion time***: 1-5 hours\n",
    "\n",
    " ***Learning objectives***: Become familiar with, and gain practice in using, basic Python constructs"
   ]
  },
  {
   "cell_type": "markdown",
   "metadata": {},
   "source": [
    "   "
   ]
  },
  {
   "cell_type": "markdown",
   "metadata": {},
   "source": [
    "<img src=\"https://imgs.xkcd.com/comics/learning_to_cook.png\" width=\"350\" height=\"350\"/>\n",
    "<p style = 'text-align: center;'>Image credit: https://xkcd.com/854/<br/><br/>"
   ]
  },
  {
   "cell_type": "markdown",
   "metadata": {},
   "source": [
    "## Computational Modules\n",
    "\n",
    "This document is the first in a series of computational modules designed to allow you to build up computational skills by working through the example problems in the modules, answering questions posed in the modules, and completing mastery exercises at the end of each module. Some modules, including this one, may require that you consult other resources for additional information. Modules that should be worked through prior to the one being read will be indicated under Prerequisite modules at the top of the first page of the module. Each module also indicates an estimated time range for reading the module and completing the exercises. If you have used Python before or have other computing experience, the lower end of the range may apply to you; if you have not had such experience, the upper end may be more applicable.\n",
    "\n",
    "In addition to **Exercises** you also will find **Breakpoint questions** sprinkled throughout. \n",
    "In debugging environments for programming languages, breakpoints are markers that can be put into code to pause the execution of a program, enabling the programmer to inspect the values of variables and otherwise confirm that the program is doing what it is supposed to be doing at that point. \n",
    "The module Breakpoint questions are meant to serve a similar purpose: usually, they get you to pause in your reading, to think about what you've read in order to confirm that your brain is doing what it should be with the material at that point! \n",
    "The answers to the Breakpoint questions are provided at the end of each module."
   ]
  },
  {
   "cell_type": "markdown",
   "metadata": {},
   "source": [
    "## Why Learn Computer Programming?\n",
    "\n",
    "For hundreds of years, progress was made in physics, chemistry, geology, astronomy, etc. without the use of computers. \n",
    "However, as those fields evolved, the problems tackled by scientists grew more complicated and more challenging to solve, due either to the complexity of the systems involved or to the vast amounts of data that needed to be analyzed. \n",
    "The advent of electronic computers made it feasible to attempt to solve some of these problems. \n",
    "Nowadays, the computer is indispensable for applications ranging from genomics (e.g., the Human Genome Project), to computational chemistry (used, for example, to predict the molecular structures of potential new pharmaceutical drugs), to climate modeling (needed to assess the impacts of climate change), to the search for planets beyond our solar system, to modeling the formation of large-scale structure during the evolution of the universe.\n",
    "\n",
    "Besides enabling scientists to address the very important applications listed above (and countless others!), learning computer programming is very valuable for another reason: it teaches the programmer to think in an algorithmic way. (Computers can “think” only in that way, at least for now, so we – the more mentally-adaptable “species” – are forced to adopt their mode of thought!) By algorithmic thinking we simply mean thinking according to an ordered, logical sequence of steps: a recipe is a good everyday example of an algorithm. \n",
    "Algorithmic thinking arguably is the best way to solve most scientific problems (apart, perhaps, from those situations in which intuition might be needed), so becoming more proficient at such thinking can help one become a more effective scientist. \n",
    "Developing your algorithmic thinking skills is, in fact, the primary purpose of these modules. Learning the tools of programming is a secondary (but very important) focus."
   ]
  },
  {
   "cell_type": "markdown",
   "metadata": {},
   "source": [
    "## Modern Computer Capabilities\n",
    "\n",
    "Computer speeds often are characterized in terms of flops (or FLOPS) – floating-point operations per second – where a floating point operation might be the addition of two floating-point numbers (numbers requiring a decimal representation, in contrast to integers). \n",
    "According to Wikipedia, a typical single-core processor in a laptop or desktop computer can perform roughly 10 billion floating-point operations per second; therefore, its speed would be rated at 10 gigaflops, or 1010 flops. As of this writing (Jan. 2015), the fastest computer in the world is located in China, and it has a speed of nearly 34 petaflops, or $3.4 \\times 10^{16}$ flops. It has been projected that an exaflop (1018 flops) computer will be built by 2019. Computing power in the 100-10000 teraflop ($10^{14}-10^{16}$ flops) range makes physically realistic simulations and analyses of structures and processes possible in reasonable time frames."
   ]
  },
  {
   "cell_type": "markdown",
   "metadata": {},
   "source": [
    "## Programming Concepts\n",
    "\n",
    "Computers are instructed to do what we want them to do through the use of computer code, written in a programming language. \n",
    "The very earliest programmers used machine code to program their computers: it can be directly understood and executed by a computer's hardware, but is very difficult to program in. \n",
    "Modern “high level” programming languages readable by humans generally fall into two categories (although the distinctions between them are not precise). \n",
    "Compiled languages – e.g., some versions of Basic, C/C++, Fortran, and Java in some forms – are converted by compilers (other software) into machine code before the user's software is run. \n",
    "These languages tend to produce code that runs very fast – a boon to a programmer doing complicated calculations with large data sets. \n",
    "Their disadvantage is that one must “compile” the code before being able to run it. Interpreted languages – including Mathematica, MATLAB, and some other versions of Basic – use interpreters (other software) to translate the code into machine-executable form when the code is run: no pre-compilation is required. \n",
    "This approach allows the programmer to see the results of her program sooner, but leads to code that may not run as fast as compiled code. (As already noted, the distinctions between these two types of languages are not clear-cut, and there are other ways of coding that fall in between these two categories.) Python – the language used in these modules – actually employs a hybrid approach, so it is easy to see results quickly but the code also runs quickly.\n",
    "\n",
    "In addition to the compiled/interpreted language distinction, another important distinction associated with modern computing languages is the one between numeric and symbolic computing. \n",
    "As the name suggests, numeric computing involves the processing of actual numbers; e.g., the numerical derivative of $\\sin(x)$ would involve computing the differences between its values for nearby points $x$ and $x + \\Delta x$, with $x$ having particular values. \n",
    "Some modern languages also can perform symbolic computations; e.g. the symbolic derivative of $\\sin(x)$ would be reported as $\\cos(x)$, with no numbers involved. \n",
    "\n",
    "Python has a set of functions that one can call on (called \"sympy,\" for symbolic Python) that allow for symbolic computation.\n",
    "\n",
    "It's important to keep in mind that computers are completely literal, no matter the programming language used. They operate based on precisely what you tell them, not on what they think you mean. If your code has an error in it, whether small or large, a computer will not understand and fix it. If you’re lucky, it will produce an error message; if you’re not, it simply will not do what you want it to, and you may not realize that.\n",
    "Therefore, in cases when incorrect output is not obvious, it's critical to test your code. A good way is to run it on data for which you know what the output should be. Don’t assume the output is right just because you get a result!"
   ]
  },
  {
   "cell_type": "markdown",
   "metadata": {},
   "source": [
    "## Starting with Python\n",
    "\n",
    "For these modules, we will use Python as the main programming language. Its advantages are numerous: it is open-source (free) software, its syntax is easy to learn, it is an interpreted language that allows the user to see the code's output easily, it has extensions that enable one to do sophisticated interactive numerical analysis and visualization (similar to MATLAB and Mathematica), it is a widely-used language (including within the scientific/engineering community), and it is object-oriented. Moreover, a variant known as IPython has been developed which can be run in a browser-based format called a notebook. These notebooks can incorporate not only code, but also text, LaTeX, graphics, videos, and more.\n",
    "These modules are not meant to teach you the full Python language. Module 1 presents a brief introduction to Python, but it won't be all the information you will need for the modules. \n",
    "\n",
    "Currently, there are several versions of Python in common use. The 3.X versions differ from 2.7 (and earlier 2.X versions) in several ways, three of which are relevant to us: in the syntax of the print statement, which displays text or numeric output onscreen; in their treatment of integer division – the division of one integer by another; and in the behavior of the input statement, which receives input from a user. \n",
    "\n",
    "For these modules, we will assume use of version 3.X, but beware that some Python packages may not have every associated extension fully implemented.\n",
    "Here's the prototypical example of a first program – the traditional starting point when learning any programming language:"
   ]
  },
  {
   "cell_type": "code",
   "execution_count": 1,
   "metadata": {},
   "outputs": [
    {
     "name": "stdout",
     "output_type": "stream",
     "text": [
      "Hello World!\n"
     ]
    }
   ],
   "source": [
    "print(\"Hello World!\")"
   ]
  },
  {
   "cell_type": "markdown",
   "metadata": {},
   "source": [
    "Note that, by itself, this is a complete (if uninteresting) Python program! Nothing is required before the print statement to make it run. In some languages, every program, even one this simple, requires some initial instructions to the computer. Already, we see here some of the simplicity of Python."
   ]
  },
  {
   "cell_type": "markdown",
   "metadata": {},
   "source": [
    "Another way in which Python is easy to learn is that it treats variables very simply. \n",
    "In computer programming languages, variables can be one of several types, most commonly integers, floating-point numbers, booleans, and characters/strings. \n",
    "A string is just a set of characters, e.g. “time” or “x_init”; a floating point number can be thought of simply as a real number; and a boolean is True or False. \n",
    "In some languages, such as C, each variable must have its type “declared” at the beginning of the program, before it is used (e.g., int x declares x as an integer); however, the Python language is not “statically typed,” which means that when you need a variable you simply define it, and Python assumes its type or figures out what kind of variable it is from the definition. For example, x = 1 creates x as an integer, while x = 1.0 or x = float(1) creates it as a floating-point number.\n",
    "Python also supports complex numbers as variables."
   ]
  },
  {
   "cell_type": "markdown",
   "metadata": {},
   "source": [
    "Besides variables, other key programming structures are operators (multiplication, exponentiation, etc.) loops (including for and while loops; these allow a particular calculation to be repeated multiple times in sequence), functions, lists, and branching statements (usually called if, or if-else statements; some languages call these switch or case statements; they allow the code to follow different logical paths depending on the state of the code or on user input). Higher level programming languages typically also allow the programmer to include comments, which the computer ignores. In Python, these are identified by a hash sign, # everything on a line following a hash is ignored. Multi-line comments are enclosed within triple sets of (single or double) quotes: \"\"\" This is a long comment\"\"\"."
   ]
  },
  {
   "cell_type": "code",
   "execution_count": 7,
   "metadata": {},
   "outputs": [
    {
     "name": "stdout",
     "output_type": "stream",
     "text": [
      "Hello World!\n"
     ]
    }
   ],
   "source": [
    "# everything on a line following a hash is ignored\n",
    "\"\"\"This is a really long comment that is broken \n",
    "into multi-line comments using double triple-quotes\"\"\"\n",
    "print(\"Hello World!\")"
   ]
  },
  {
   "cell_type": "markdown",
   "metadata": {},
   "source": [
    "One other important thing to know about modern programming languages is that user-written programs often acquire additional capabilities by bringing in functions from pre-existing programs. \n",
    "In Python, one speaks of this process as importing packages; in other languages, it's usually referred to as linking to libraries (a library being a collection of related functions, e.g., mathematical ones). Such sets of functions in the mathematical realm are designed for very efficient calculation. For example, performing more than simple mathematics in Python requires importing the **math library**.\n",
    "Important libraries for our purposes are math (function list at https://docs.python.org/2/library/math.html); the more extensive numpy (numerical python) library, with lots of additional functions (see http://docs.scipy.org/doc/numpy/reference/); the sympy (symbolic python) library, which has functions for doing symbolic mathematics (e.g., differentiating sin(x) to get cos(x); see http://docs.sympy.org/latest/index.html); and matplotlib, which provides MATLAB-like plotting capability (see http://matplotlib.org/py-modindex.html).\n",
    "With this very basic foundation established, the reader now is directed to read Module 1."
   ]
  },
  {
   "cell_type": "markdown",
   "metadata": {},
   "source": [
    "## Tips on Learning Scientific Programming\n",
    "\n",
    "The modules that follow this one deal with technical materials that may be a bit challenging to learn, depending on your prior experience with programming and algorithmic thinking more broadly. Here are some tips to keep in mind that might be helpful as you read and work through the exercises in the sequence of modules:\n",
    "\n",
    "* Technical writing cannot be read like a novel. You will need to read the same material more than once for the key ideas to become clear and understandable. In your first reading, you might want to simply skim the text to get a general overview of what it is presenting. On your subsequent readings you can progressively key in on finer details.\n",
    "\n",
    "* While reading, you might want to highlight or otherwise make note of what seem to be key terms and concepts. If you encounter a term you're not familiar with and its definition is not clear from the text, stop and look it up. While reading, it also could be very helpful to make notes on the passage. Imagine that you are going to give a mini-lecture to a fellow student – what would it be most important to tell them to make the material understandable? If you can identify the key ideas, you probably understand the material well yourself!\n",
    "\n",
    "* When writing code, and especially when trying to debug it, it can be very helpful to get input from someone else. Just like it's hard to notice poor grammar or typographical errors in your own writing when you've read through it many times, it can be difficult to find bugs in your own code: you know what you want the code to do, and your brain sees that rather than what's actually there.\n",
    "\n",
    "* You should feel free to work through the modules with other people, if that would be helpful!\n",
    "\n",
    "* When writing a big chunk of code, try to break it down into small, self-contained \"chunks.\" Get each of those working and test them with a reasonably broad (but relevant) set of inputs/ parameters, then combine the chunks appropriately to build the entire package. In this way, you can reduce the amount of code you have to search through to find a bug.\n",
    "\n",
    "* There usually are many ways of coding a particular functionality. Don't worry at first about finding the \"best\" method: get something that works, and then you can think about refining it, if you have the time and the need for greater efficiency. That said, your code should be clearly organized, well-commented, and what it's doing should be clear to another programmer. If it's not, then chances are that after not looking at it for a while even you won't be able to figure out what it's doing."
   ]
  },
  {
   "cell_type": "markdown",
   "metadata": {},
   "source": [
    "## Your E-Portfolio\n",
    "\n",
    "We hope that you will find many aspects of these modules to be useful to you. One way in which that might happen is that you could use the products of your work on the modules as evidence of your mastery of the programming skills presented in them. \n",
    "You might want to present such products as evidence of your ability to do research involving a computational component, or to a potential employer as evidence that you have the skills matching the requirements of the position they seek to fill. \n",
    "Even if you don’t end up using your work for these reasons, “packaging” it in a well-organized form might make it a valuable resource for you in the future if you need to re-learn some of the skills developed by the modules.\n",
    "\n",
    "For the reasons indicated above, you are asked you to compile an e-portfolio (“electronic” portfolio) of the materials that you develop in working through the set of modules. This e-portfolio should include: all of the Python code (in the form of IPython notebooks or .py files) you develop in solving the Exercises presented in the modules, your answers to the Breakpoint questions, and your responses to the Prompts."
   ]
  },
  {
   "cell_type": "markdown",
   "metadata": {},
   "source": [
    "## Programming Resources\n",
    "\n",
    "There are many valuable resources that one can use to supplement these modules. A good general resource on all aspects of computing is stackoverflow.com . If you search online for an answer to a question – which is a good way to get an answer – this site is likely to come up at or near the top of the list. The site https://www.python.org/ has lots of good material specifically on Python (and check out https://wiki.python.org/moin/BeginnersGuide/NonProgrammers#Graded_Introductory_Programming_Courses). Other useful resources for programming and Python include (as of this writing) those below. In each category, the top one or two resources might be the best places to start."
   ]
  },
  {
   "cell_type": "markdown",
   "metadata": {},
   "source": [
    "### Tutorials\n",
    "\n",
    "- https://docs.python.org/2/tutorial/ – non-interactive.\n",
    "www.codecademy.com – an extensive interactive introduction that will take a while to work through, but which is very suited to programming novices. Note that you choose Python as the language to learn at the bottom of the main page. (You do not have to create an account unless you want the website to keep track of your progress and remember where you leave off at the end of each session.)\n",
    "- http://www.python-course.eu/python3_course.php\n",
    "www.learnpython.org – a concise but fairly comprehensive introduction to Python programming.\n",
    "- http://interactivepython.org/runestone/static/thinkcspy/index.html – an \"interactive textbook.\"\n",
    "- http://www.afterhoursprogramming.com/tutorial/Python/Introduction/ – an interactive tutorial\n",
    "- http://software-carpentry.org/v5/novice/python/index.html – Contrary to the word in the URL, this is not for novices, but might be a good way to test your skills after you have done some Python programming.\n",
    "- http://quant-econ.net/py/index.html – Part 1 is a nice summary of Python basics.\n",
    "- http://www.tutorialspoint.com/python/ – a somewhat-interactive online tutorial that also provides a downloadable PDF tutorial. This site assumes that you have access to Python installed on a computer. It also has a nice online Quick Reference resource."
   ]
  },
  {
   "cell_type": "code",
   "execution_count": null,
   "metadata": {},
   "outputs": [],
   "source": []
  }
 ],
 "metadata": {
  "kernelspec": {
   "display_name": "Python 3",
   "language": "python",
   "name": "python3"
  },
  "language_info": {
   "codemirror_mode": {
    "name": "ipython",
    "version": 3
   },
   "file_extension": ".py",
   "mimetype": "text/x-python",
   "name": "python",
   "nbconvert_exporter": "python",
   "pygments_lexer": "ipython3",
   "version": "3.7.6"
  }
 },
 "nbformat": 4,
 "nbformat_minor": 1
}
