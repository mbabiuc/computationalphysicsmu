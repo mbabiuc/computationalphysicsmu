{
 "cells": [
  {
   "cell_type": "markdown",
   "metadata": {},
   "source": [
    "# <font face=\"times\"><font size=\"6pt\"><p style = 'text-align: center;'> BRYN MAWR COLLEGE\n",
    "\n",
    "<font face=\"times\"><font size=\"6pt\"><p style = 'text-align: center;'><b>Computational Methods in the Physical Sciences</b><br/><br/>\n",
    "\n",
    "<p style = 'text-align: center;'><b>Module 3:  Iterative Methods</b><br/><br/> "
   ]
  },
  {
   "cell_type": "markdown",
   "metadata": {},
   "source": [
    "***Prerequisite modules:*** Module 2\n",
    "   \n",
    "***Estimated completion time:*** 3-6 hours\n",
    "   \n",
    "***Learning objectives:*** Become familiar with iteration and a simple example of of an iterative method for solving differential equations."
   ]
  },
  {
   "cell_type": "markdown",
   "metadata": {},
   "source": [
    "   "
   ]
  },
  {
   "cell_type": "markdown",
   "metadata": {},
   "source": [
    "<img src=\" https://imgs.xkcd.com/comics/loop.png\" width=\"350\" height=\"350\"/>\n",
    "<p style = 'text-align: center;'>Image credit: https://xkcd.com/1411/<br/><br/>"
   ]
  },
  {
   "cell_type": "markdown",
   "metadata": {},
   "source": [
    "This module considers various versions of a familiar physical example -- projectile motion -- and how it might be studied **numerically**; i.e., by computer.  Such motion is described formally by differential equations, for which there are standard and sophisticated numerical solution techniques that will be explored in a later module.  As a gentler introduction to numerical methods, in this chapter we present a simple approach to numerically solving **ordinary differential equations**.  This method will not give the most accurate results in general, but the basic idea underlies more advanced methods, and it will get you \"warmed up\" for the techniques you will see in later modules."
   ]
  },
  {
   "cell_type": "markdown",
   "metadata": {},
   "source": [
    "***Prompt:*** Do you think that mental and academic abilities are mostly something we are born with or something that we can develop?  Please watch the 11-minute video below and write about what you take away from it.  Provide your own definitions of \"fixed\" and \"growth\" mindsets."
   ]
  },
  {
   "cell_type": "markdown",
   "metadata": {},
   "source": [
    "### <font color=\"blue\">3.1  One-dimensional Motion Without Drag</font>"
   ]
  },
  {
   "cell_type": "markdown",
   "metadata": {},
   "source": [
    "Let's start by modeling simple one-dimensional (1-D) motion with constant acceleration, $a$, and without resistance.  Such motion is described by two variables that are functions of time $t$: position $x(t)$ and velocity $v(t)$.  Since velocity is rate of change of position with time, $v = \\dfrac{dx}{dt} \\simeq \\dfrac{\\Delta x}{\\Delta t}$, we can write \n",
    "\n",
    "\\begin{equation}\n",
    "v(t) \\simeq \\dfrac{x(t+ \\Delta t) - x(t)}{\\Delta t} .  \n",
    "%\\label{eq:Eulerv}\n",
    "\\end{equation}\n",
    "\n",
    "Rearranging this equation, we find the approximate expression (which becomes exact in the limit as $\\Delta t \\rightarrow 0$)\n",
    "\n",
    "\\begin{equation}\n",
    "x(t+ \\Delta t) \\simeq x(t) + v(t) \\Delta t .    \\hspace{50pt}  (1)       \n",
    "%\\label(eq:Eulerx}\n",
    "\\end{equation}\n",
    "\n",
    "This equation, depicted graphically in Fig. 1, represents the idea behind **Euler's method**: an approximate predicted value for $x$ at a later time $t + h$ ($\\Delta t = h$ here) can be obtained from the slope of the $x(t)$ function (i.e., $v$) at an earlier time $t$.  (The line labeled \"Slope at $t + h/2$\" represents the key to a more accurate approximation which will be presented in a later module.)  \n",
    "\n",
    "\n",
    "We also know that acceleration and velocity are related by $a \\simeq \\dfrac{\\Delta v}{\\Delta t} = \\dfrac{v(t+ \\Delta t) - v(t)}{\\Delta t}$, so we can get an approximate prediction for $v$ similar to that for $x$:\n",
    "\n",
    "\n",
    "\\begin{equation}\n",
    "v(t+ \\Delta t) \\simeq v(t) + a \\, \\Delta t .    \\hspace{50pt}  (2)\n",
    "\\end{equation}\n"
   ]
  },
  {
   "cell_type": "markdown",
   "metadata": {},
   "source": [
    "<font color=\"green\"><b>Breakpoint 1</b></font>: The same basic approach used to project $x$ and $v$ forward in time could be applied to project *any* (well-behaved) function $f(x)$, where $x$ need not represent position.  Write an expression for $f(x + h)$ analogous to Eqs. (1) and (2), where $h$ is an infinitesimal displacement.\n"
   ]
  },
  {
   "cell_type": "markdown",
   "metadata": {},
   "source": [
    "   "
   ]
  },
  {
   "cell_type": "markdown",
   "metadata": {},
   "source": [
    "<img src=\" http://www-personal.umich.edu/~mejn/cp/figures/fig8-2.png\" width=\"350\" height=\"350\"/>"
   ]
  },
  {
   "cell_type": "markdown",
   "metadata": {},
   "source": [
    "Image credit: Computational Physics, Newman(http://www-personal.umich.edu/~mejn/cp/index.html)"
   ]
  },
  {
   "cell_type": "markdown",
   "metadata": {},
   "source": [
    "<img src=\" https://i.stack.imgur.com/NIYp6.png\" width=\"250\" height=\"250\"/>  \n",
    "<img src=\" https://lazyprogrammer.me/wp-content/uploads/2018/12/EulerMethodGraph2.png\" width=\"250\" height=\"250\"/>\n",
    "\n",
    "Image credit: https://math.stackexchange.com/questions/1998912/how-do-i-explain-euler-method"
   ]
  },
  {
   "cell_type": "markdown",
   "metadata": {},
   "source": [
    "It turns out that the accuracy of the Euler method can be significantly improved by making a small change: instead of updating the position first and the velocity second, *the velocity is updated first, and the position then is updated using the* new *velocity*.  That is, the equations used are:\n",
    "\n",
    "\\begin{align}\n",
    "v(t + \\Delta t) & \\simeq v(t) + a \\, \\Delta t ,   \\hspace{78pt}  (3)  \\\\\n",
    "x(t + \\Delta t) & \\simeq x(t) + v(t + \\Delta t) \\, \\Delta t .   \\hspace{50pt}  (4)\n",
    "\\end{align}\n",
    "\n",
    "These modified equations embody the **Euler-Cromer method** (which sometimes goes by other names).  Note that this approach amounts to using the slope at the later time, rather than the one at the earlier time, to extrapolate the position at the later time.  The Euler-Cromer method does a much better job of conserving energy than does the Euler method, which often causes the energy to increase steadily.  \n",
    "\n",
    "We can use Eqs. (3) and (4) to evolve the position over time, starting from some initial position and velocity.  We put in the current position and velocity on the right-hand sides of the equations, compute the new values of those variables on the left-hand sides, then use those new values in the right-hand sides to get the next set of new values on the left, and so on.  This approach to solving differential equations exemplifies the process of **iteration** -- the output of one step of a process serves as the input for the next step.  It also is an example of a **finite-difference** method of solving differential equations, since it involves small but finite increments of a key parameter ($t$ here).  \n",
    "\n",
    "Below, we display some pseudocode for the Euler-Cromer method.  (Recall that lines beginning with a hash, #, are comments in Python.)  ***Starting with this module and continuing through the subsequent ones, you are strongly encouraged to write pseudocode for Exercise solutions before actually writing code (even when pseudocode is not requested).  This may allow you to avoid logic errors that would be hard to figure out from error messages or the code itself.***"
   ]
  },
  {
   "cell_type": "markdown",
   "metadata": {},
   "source": [
    "    #Set up constants and initial values\n",
    "    initial & final times\n",
    "    time step\n",
    "    initial position\n",
    "    initial velocity\n",
    "    acceleration\n",
    "   \n",
    "    while (time is less than end-time):\n",
    "      update velocity\n",
    "      update position\n",
    "       \n",
    "      store updated velocity\n",
    "      store updated position\n",
    "      \n",
    "      increment time\n",
    "      store updated time"
   ]
  },
  {
   "cell_type": "markdown",
   "metadata": {},
   "source": [
    "The Python code below shows how to do this motion computation (using variable `y` instead of `x`) with a typical set of initial parameter values and the case of zero acceleration.  It is explained in more detail below the code cell."
   ]
  },
  {
   "cell_type": "code",
   "execution_count": 1,
   "metadata": {
    "collapsed": true
   },
   "outputs": [],
   "source": [
    "# Set up constant and initial values (SI units)\n",
    "t = 0      # initial time\n",
    "tf = 10    # final time\n",
    "dt = 0.1   # time step\n",
    "y = 0      # initial position, at origin\n",
    "v = 50     # initial velocity, in positive-y direction\n",
    "a = 0      # constant acceleration \n",
    "\n",
    "# Create & initialize lists for variable values\n",
    "time = [t]\n",
    "ypos = [y]\n",
    "yvel = [v]\n",
    "\n",
    "while t <= tf - dt:\n",
    "    # Update variables using Eqs. (1) & (2)\n",
    "    v = v + a * dt\n",
    "    y = y + v * dt\n",
    "\n",
    "    # Add updated variables to the lists\n",
    "    yvel.append(v)\n",
    "    ypos.append(y)\n",
    "    \n",
    "    # Increment time\n",
    "    t = t + dt\n",
    "    time.append(t)\n"
   ]
  },
  {
   "cell_type": "markdown",
   "metadata": {},
   "source": [
    "The top group of lines simply defines the values of constants and the initial values of variables.  The middle set of lines creates and initializes lists that will be used to store the sequence of times at which the position and velocity are computed, as well as the corresponding values of those variables.  The lists at first contain just the initial values of the variables.  (It's possible, and sometimes desirable, to create a list without providing any initial values to it.  The syntax for that is `mylist = []`.)  Note that the various parameters and variables are given names that represent the corresponding quantities.  This isn't absolutely necessary, but it makes the code a lot more readable than it would be if the names were unrelated to the quantities they represent (e.g., `var1`, `gfxxq`, `Dumbledore`, etc.).  \n",
    "\n",
    "The bottom section of code uses a `while` loop to update variable values.  Recall that a `while` statement checks whether the indicated condition is met; if so, the loop is executed; if not, the program jumps to the first non-indented line following the `while` block.  (We use a `while` loop rather than a `for` loop here because we don't know ahead of time how many cycles through the loop we need to make, but we do know the stopping condition -- the final time.)  Note that the `while` condition here is written as `t <= tf - dt` (`dt` is playing the role of $\\Delta t$ in the earlier equations).  This condition is *not* checking whether the time `t` is less than or equal to the final time `tf`, but whether it's less than or equal to the *earlier* time, `tf - dt`.  That's because the `while` loop is going to calculate the variable values at the *next* time step.  If the condition were `t <= tf`, then when `t` became equal to `tf` and the program entered the loop, the loop would then calculate the variable values at `tf + dt`, which would be beyond the desired range.  \n",
    "\n",
    "In the `while` loop, the new values of `y`, `v`, and `t` are added to the storage lists using the `.append()` **method**.  (The term \"method\" comes from object-oriented programming, which will be discussed in a later module.)  The lists can be made as long as necessary (up to the limit of the computer's memory) in this way.\n",
    "\n",
    "Note that in this Euler-Cromer method, the code implements Eqs. (3) and (4) as exact, not approximate expressions.  \n",
    "\n",
    "***IMPORTANT***: A key issue that comes up when running code like this is what the timestep `dt` should be: too long a timestep may lead to highly inaccurate results, while too short a timestep might make the computation take too much time.  A reasonable rule of thumb might be to set the timestep to 1% or 0.1% of the total time expected for the motion and see how the results look and how long the computation takes.  If the results look poor or are not what was expected, decrease the time step by a factor of 5 or 10; if the results look good but the calculation takes too long, try increasing the timestep by a factor of 3 or 5.  \n",
    "\n",
    "There are several ways to run a program like this.  In a Python IDE like Anaconda or Canopy, you would type or copy-and-paste the code into a `.py` file in the IDE editor, and then run it using the editor's run controls (e.g., the double green arrow button in Anaconda's Spyder IDE).  To run it from the Python command line prompt, type the file name.  (The directory containing the file must be in your Python \"path\" variable.  If it's not, you will need to type the entire directory path of the file to identify it to Python; e.g. `python C:\\Users\\Anya\\Documents\\file.py`.)  To run it in an IPython notebook, you would type or copy the code, or sections of it, into code cells in the notebook and then run the cells in order, or else run the entire notebook.  There is no single protocol for how many lines of code should be placed in one notebook cell, but all the lines of a loop and all the lines of a user-defined function must be in one cell.  A reasonable approach might be for contiguous code lines of similar character (e.g., those initializing parameters, or those defining lists), or all of the code designed to perform some particular task, to be put into a single cell.  "
   ]
  },
  {
   "cell_type": "markdown",
   "metadata": {},
   "source": [
    "   "
   ]
  },
  {
   "cell_type": "markdown",
   "metadata": {},
   "source": [
    "### <font color=\"blue\">3.2  Two-dimensional Projectile Motion Without Drag</font>"
   ]
  },
  {
   "cell_type": "markdown",
   "metadata": {},
   "source": [
    "Extending the analysis of 1-D motion to two dimensions is not very difficult -- we simply have to add position, velocity, and acceleration variables for the new coordinate, $y$.  Again assuming constant acceleration, the expanded set of (approximate) kinematic equations in the Euler-Cromer approach then is \n",
    "\n",
    "\\begin{align}\n",
    "  v_x(t+ \\Delta t) & = v_x(t) + a_x \\, \\Delta t ,  \\\\\n",
    "  v_y(t+ \\Delta t) & = v_y(t) + a_y \\, \\Delta t ,   \\\\\n",
    "  x(t+ \\Delta t) & = x(t) + v_x(t+ \\Delta t) \\Delta t ,  \\\\\n",
    "  y(t+ \\Delta t) & = y(t) + v_y(t+ \\Delta t) \\Delta t .\n",
    "\\end{align}\n",
    "\n",
    "The extension of the earlier 1-D code to the 2-D case is straightforward and is left as an exercise."
   ]
  },
  {
   "cell_type": "markdown",
   "metadata": {},
   "source": [
    "   "
   ]
  },
  {
   "cell_type": "markdown",
   "metadata": {},
   "source": [
    "### <font color=\"blue\">3.3  Two-dimensional Motion with Drag</font>"
   ]
  },
  {
   "cell_type": "markdown",
   "metadata": {},
   "source": [
    "Although air drag often is considered negligible in kinematics problems, it actually plays an important role in the motion of many objects. In this section you will code in Python to solve for the position, velocity, and acceleration of a 2-D projectile motion with drag. \n",
    "\n",
    "At very low speeds for small particles, air drag is approximately proportional to the particle's speed -- this is **linear drag**.   For larger (everyday) objects traveling at higher speeds, air drag is approximately proportional to the speed squared -- this case is referred to as **quadratic drag**.  \n",
    "\n",
    "For the case of a linear drag force $\\mathbf{f}_{lin}$, the corresponding acceleration $\\mathbf{a}_{lin}$ of an object of mass $m$ would have the form "
   ]
  },
  {
   "cell_type": "markdown",
   "metadata": {},
   "source": [
    "\\begin{equation}\n",
    "\\mathbf{a}_{lin} = \\dfrac{\\mathbf{f}_{lin}}{m} = -\\dfrac{b  \\mathbf{v}}{m},  \n",
    "\\end{equation}"
   ]
  },
  {
   "cell_type": "markdown",
   "metadata": {},
   "source": [
    "where $b$ is a constant that depends on the object's size and shape, and on the material through which it travels.  Note that the acceleration and velocity are vectors; the \"$-$\" sign captures the fact that the drag force is in the opposite direction of the velocity.  \n",
    "\n",
    "In terms of components, which would be used (rather than full vectors) in a computer program, we have"
   ]
  },
  {
   "cell_type": "markdown",
   "metadata": {},
   "source": [
    "\\begin{equation}\n",
    "a_{lin, x} = - \\dfrac{b}{m} v_x \\hspace{2mm} ; \\hspace{5mm}  a_{lin, y} = - \\dfrac{b}{m} v_y .\n",
    "\\end{equation}"
   ]
  },
  {
   "cell_type": "markdown",
   "metadata": {},
   "source": [
    "The force $\\mathbf{f}_{quad}$ due to quadratic drag, and the corresponding acceleration $\\mathbf{a}_{quad}$ of an object of mass $m$, take the forms"
   ]
  },
  {
   "cell_type": "markdown",
   "metadata": {},
   "source": [
    "\\begin{equation}\n",
    "\\mathbf{a}_{quad} = \\dfrac{1}{m} \\, \\mathbf{f}_{quad} = - \\dfrac{1}{2m} \\, C_D \\rho A v \\, \\mathbf{v}, \n",
    "\\end{equation}"
   ]
  },
  {
   "cell_type": "markdown",
   "metadata": {},
   "source": [
    "where $C_D$ is the **coefficient of drag**, which depends on the shape of the object; $\\rho$ is the density of the fluid through which the object moves (air in this case); $A$ is the cross-sectional area of the object (perpendicular to the direction of travel); and $\\mathbf{v}$ is the object's instantaneous velocity ($v$ is its instantaneous speed).  Notice that there are *two* \"v\" factors in the quadratic acceleration expression above: one is the velocity vector $\\mathbf{v}$ itself, while the other is its magnitude $v$.\n",
    "\n",
    "Without air drag, an object in 2-D projectile motion has a horizontal acceleration of zero and a vertical acceleration of $-g$, so adding in (quadratic) air drag we have:\n"
   ]
  },
  {
   "cell_type": "markdown",
   "metadata": {},
   "source": [
    "\\begin{align}\n",
    "a_x = a_{quad, x} & = - \\dfrac{1}{2m} C_D \\rho A v \\, v_x ,  \\\\\n",
    "a_y = a_{quad, y} - g & = - \\dfrac{1}{2m} C_D \\rho A v \\, v_y - g .\n",
    "\\end{align}"
   ]
  },
  {
   "cell_type": "markdown",
   "metadata": {},
   "source": [
    "Again, each of these expressions contain *two* \"v\" factors: the magnitude $v$ and one of its components ($v_x$ or $v_y$)."
   ]
  },
  {
   "cell_type": "markdown",
   "metadata": {},
   "source": [
    "   "
   ]
  },
  {
   "cell_type": "markdown",
   "metadata": {},
   "source": [
    "### <font color=\"blue\">**Recap**</font>\n",
    "* The Euler-Cromer method --- which \"predicts\" the value of a function at time $t + h$ from its value at $t$ using a *linear approximation* --- can be used to analyze motion in one or more dimensions.  The analysis will be accurate only if the time step $h$ is chosen small enough.  (What is \"small enough\" is determined by the desired accuracy of the computation.)  \n",
    "<br>\n",
    "\n",
    "* The code to implement the Euler-Cromer method involves iteration, embodied most naturally in a `while` loop with the final time as the limit of iteration.  \n",
    "<br>\n",
    "\n",
    "* Pseudocode is useful for planning the construction of complex or extensive code.\n"
   ]
  },
  {
   "cell_type": "markdown",
   "metadata": {},
   "source": [
    "### <font color=\"blue\">**Reflection Prompts**</font>\n",
    "\n",
    "These questions are intended to help you think about what you learned from this module and how it might be useful to you in the future.  You are strongly encouraged to answer them before moving on to the next module.\n",
    "\n",
    "*  Which components of this module did you find you were easily able to work through, and why do you think they were especially easy for you? \n",
    "\n",
    "*  Which components of this module did you find more difficult to work through, and why do you think they were challenging?\n",
    "\n",
    "*  When you got stuck, what did you do to get unstuck?  Could this or similar actions be helpful if you get stuck in future work?\n",
    "\n",
    "*  What do you understand more deeply about this material?\n",
    "\n",
    "*  What questions or uncertainties remain for you regarding this material?"
   ]
  },
  {
   "cell_type": "markdown",
   "metadata": {},
   "source": [
    "### <font color=\"blue\">Exercises</font>  \n",
    "\n",
    "***Please put your solutions to each exercise directly after the statement of the exercise.***\n",
    "<br>\n",
    "\n",
    "***Whenever producing plots in the exercises below and in future modules, make sure that axes are labeled and show units.  If a plot displays more than one curve or one set of points, a legend also should be included.  (See Module 1B for information on making and formatting plots.)***  \n",
    "<br>"
   ]
  },
  {
   "cell_type": "markdown",
   "metadata": {},
   "source": [
    "<u>**Exercise \\#1**</u>  \n",
    "**(a)** Transfer the Euler-Cromer code presented above into a new code cell below, encapsulate it in a Python function, and run it to model vertical motion without gravity.  (Reminder: the creation of Python functions using the `def` command was discussed in Module 1B.  You might want your function to take the initial velocity, the acceleration, and the final time as arguments.)  For an initial speed of $300$ m/s, *predict* and then plot the $y$ vs $t$ data (with $y = 0$ at the Earth's surface).  (Remember that you will have to import the `plot` function from `matplotlib.pyplot`.)  **(b)** Change the acceleration so that it's appropriate for  vertical motion near the surface of the Earth with gravity, and *predict* what the plot should look like.  Run the function and check your prediction, plotting the *full motion above the surface*.  **(c)** Have your code print out the peak height of the motion.  \n",
    "\n",
    "***<font color = \"red\">Briefly discuss all of your results in a Markdown cell following your results -- you should do this for every exercise in this and future modules.</font>***  \n",
    "<br>"
   ]
  },
  {
   "cell_type": "markdown",
   "metadata": {},
   "source": [
    "<u>**Exercise \\#2**</u>  \n",
    "Suppose we want our code to model vertical motion near Earth, but not just close to its surface where $g$ is constant.  **(a)** Create a Python function to work in this situation where the gravitational force on a mass $m$ at a distance $r$ from Earth's center is $F = G m M_E / r^2$.  What is the percentage difference in the peak height *above the Earth's surface* compared to the case of constant $g$ if the initial velocity is $300$ m/s?  (You will want your function to print out the peak height.  You also will want to set the final time so that you can see most of the motion, starting from the Earth's surface and back down to it.  Don't plot the part of the trajectory below the surface, since that would be physically unrealistic.)  What happens if the initial speed is $3300$ m/s? (This is $30\\%$ of escape velocity.)  What's the percentage difference in the peak height in this case?  Is it legitimate that we usually ignore the height-dependence of $g$?  \n",
    "<br>"
   ]
  },
  {
   "cell_type": "markdown",
   "metadata": {},
   "source": [
    "<u>**Exercise \\#3**</u> \n",
    "The aim of this Exercise is to implement the equations in the section on 2-D motion without drag.  **(a)** Write out pseudocode for this extended program.  **(b)** Now write the code itself, and encapsulate it in a Python function to which you can pass the initial velocity components $v_{xo}$ and $v_{yo}$, as well as the gravitational acceleration $g$, as arguments.  You might want your function to return both position and velocity components, as well as the time.  \n",
    "\t\n",
    "For the following parts of the Exercise, let $v_{xo} = 20$ m/s and $v_{yo} = 30$ m/s, and use the standard value $g = 9.80$ m/s$^2$.  **(c)** Make plots of $x$ vs. $t$ and $y$ vs. $t$ for the time period when the object is at or above \"ground level.\"  Do they look as you'd expect?  **(d)** Plot the $v_x$ vs. $t$ and $v_y$ vs. $t$ graphs as well.  Are they as expected?  **(e)** Make a plot of $y$ versus $x$, and eyeball (or compute in your code) both the height of the peak and the *range* of the motion (the horizontal distance from the launch point to the point in the descent at which the projectile returns to the launch height).  **(f)** Determine the same values analytically and check if they match the numerical results.  \n",
    "<br>"
   ]
  },
  {
   "cell_type": "markdown",
   "metadata": {},
   "source": [
    "<u>**Exercise \\#4**</u>  \n",
    "Modify your Python function of Exercise \\#3 for the case of motion in the presence of quadratic drag.  Design your function to take $C_D$, $\\rho$, $m$, and $A$ as additional arguments.  **(a)** Model the motion of a ball of mass $m = 3.0$ kg and radius $0.05$ m, and use the same initial velocity components and $g$ value that you used in the previous exercise: the aim is to compare the motions with and without drag.  (Reasonable values of the constants, in MKS units, are $C_D = 0.5$, and $\\rho = 1.3$ for air.)  Plot graphs of $x$ and $y$ vs. $t$, and $y$ vs. $x$ for the case with drag.  Also make a plot of $y$ vs. $x$ showing both curves, with and without drag.  (Make sure to display a legend.)  Briefly discuss how the two trajectories compare.  Is the one with drag symmetric?  What are the times-of-flight (from ground level back to ground level) for the two motions?  **(b)** Repeat the comparison (with and without drag) with $v_{xo} = 60$ m/s and $v_{yo} = 90$ m/s.  What do you conclude from comparing the results of parts (a) and (b)?  \\[***Hint:*** In both parts above, you can easily treat the case of no drag with your current function.\\]  \n",
    "<br>"
   ]
  },
  {
   "cell_type": "markdown",
   "metadata": {},
   "source": [
    "<font size=\"3pt\">**Breakpoint Answers**</font>\n",
    "\n",
    "**Breakpoint 1**: $f(x + h) \\simeq f(x) + h \\, \\dfrac{df(x)}{dx}$.\n"
   ]
  },
  {
   "cell_type": "markdown",
   "metadata": {},
   "source": [
    "   "
   ]
  }
 ],
 "metadata": {
  "kernelspec": {
   "display_name": "Python 3",
   "language": "python",
   "name": "python3"
  },
  "language_info": {
   "codemirror_mode": {
    "name": "ipython",
    "version": 3
   },
   "file_extension": ".py",
   "mimetype": "text/x-python",
   "name": "python",
   "nbconvert_exporter": "python",
   "pygments_lexer": "ipython3",
   "version": "3.7.6"
  },
  "widgets": {
   "state": {},
   "version": "1.1.2"
  }
 },
 "nbformat": 4,
 "nbformat_minor": 1
}
