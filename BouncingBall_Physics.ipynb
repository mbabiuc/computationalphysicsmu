{
 "cells": [
  {
   "cell_type": "markdown",
   "id": "ae1341ea",
   "metadata": {},
   "source": [
    "# The Physics of a Bouncing Ball\n",
    "---\n",
    "\n",
    "Prerequisites: *BouncingBall_Introduction* and  *BouncingBall_FirstAnimation* \n",
    "\n",
    "---\n",
    "We are ready now to do some **Physics**!\n",
    "We will animate a ball so that it can move across the screen. \n",
    "To do this, we will need to define new attributes of the ball. \n",
    "We need a velocity, which we can set using the command below. \n",
    "We note that python knows nothing about units. \n",
    "We will defined positions and velocities as numbers, and for simplicity, we will assume that these are all in the International System of Units.\n",
    "\n",
    "We will start by loading the two necessary packages, and then we will initiate the time, and the time step."
   ]
  },
  {
   "cell_type": "code",
   "execution_count": 1,
   "id": "c2f2b769",
   "metadata": {},
   "outputs": [
    {
     "data": {
      "text/html": [
       "<div id=\"glowscript\" class=\"glowscript\"></div>"
      ],
      "text/plain": [
       "<IPython.core.display.HTML object>"
      ]
     },
     "metadata": {},
     "output_type": "display_data"
    },
    {
     "data": {
      "application/javascript": [
       "if (typeof Jupyter !== \"undefined\") { window.__context = { glowscript_container: $(\"#glowscript\").removeAttr(\"id\")};}else{ element.textContent = ' ';}"
      ],
      "text/plain": [
       "<IPython.core.display.Javascript object>"
      ]
     },
     "metadata": {},
     "output_type": "display_data"
    }
   ],
   "source": [
    "from vpython import *\n",
    "from math import *\n",
    "t=0\n",
    "dt = 0.1"
   ]
  },
  {
   "cell_type": "markdown",
   "id": "7067a049",
   "metadata": {},
   "source": [
    "We create a separate canvas, on which we will draw the ball and the two walls, as previously, then define the velocity of the ball as a vector in a 3 dimensional coordinate system (x, y, z):\n",
    "$$ \\vec v = (1,0,0) m/s $$"
   ]
  },
  {
   "cell_type": "code",
   "execution_count": 2,
   "id": "f6eab9a3",
   "metadata": {},
   "outputs": [
    {
     "data": {
      "text/html": [
       "<div id=\"glowscript\" class=\"glowscript\"></div>"
      ],
      "text/plain": [
       "<IPython.core.display.HTML object>"
      ]
     },
     "metadata": {},
     "output_type": "display_data"
    },
    {
     "data": {
      "application/javascript": [
       "if (typeof Jupyter !== \"undefined\") { window.__context = { glowscript_container: $(\"#glowscript\").removeAttr(\"id\")};}else{ element.textContent = ' ';}"
      ],
      "text/plain": [
       "<IPython.core.display.Javascript object>"
      ]
     },
     "metadata": {},
     "output_type": "display_data"
    },
    {
     "data": {
      "application/javascript": [
       "if (typeof Jupyter !== \"undefined\") {require.undef(\"nbextensions/vpython_libraries/glow.min\");}else{element.textContent = ' ';}"
      ],
      "text/plain": [
       "<IPython.core.display.Javascript object>"
      ]
     },
     "metadata": {},
     "output_type": "display_data"
    },
    {
     "data": {
      "application/javascript": [
       "if (typeof Jupyter !== \"undefined\") {require.undef(\"nbextensions/vpython_libraries/glowcomm\");}else{element.textContent = ' ';}"
      ],
      "text/plain": [
       "<IPython.core.display.Javascript object>"
      ]
     },
     "metadata": {},
     "output_type": "display_data"
    },
    {
     "data": {
      "application/javascript": [
       "if (typeof Jupyter !== \"undefined\") {require.undef(\"nbextensions/vpython_libraries/jquery-ui.custom.min\");}else{element.textContent = ' ';}"
      ],
      "text/plain": [
       "<IPython.core.display.Javascript object>"
      ]
     },
     "metadata": {},
     "output_type": "display_data"
    },
    {
     "data": {
      "application/javascript": [
       "if (typeof Jupyter !== \"undefined\") {require([\"nbextensions/vpython_libraries/glow.min\"], function(){console.log(\"GLOW LOADED\");});}else{element.textContent = ' ';}"
      ],
      "text/plain": [
       "<IPython.core.display.Javascript object>"
      ]
     },
     "metadata": {},
     "output_type": "display_data"
    },
    {
     "data": {
      "application/javascript": [
       "if (typeof Jupyter !== \"undefined\") {require([\"nbextensions/vpython_libraries/glowcomm\"], function(){console.log(\"GLOWCOMM LOADED\");});}else{element.textContent = ' ';}"
      ],
      "text/plain": [
       "<IPython.core.display.Javascript object>"
      ]
     },
     "metadata": {},
     "output_type": "display_data"
    },
    {
     "data": {
      "application/javascript": [
       "if (typeof Jupyter !== \"undefined\") {require([\"nbextensions/vpython_libraries/jquery-ui.custom.min\"], function(){console.log(\"JQUERY LOADED\");});}else{element.textContent = ' ';}"
      ],
      "text/plain": [
       "<IPython.core.display.Javascript object>"
      ]
     },
     "metadata": {},
     "output_type": "display_data"
    }
   ],
   "source": [
    "canvas()\n",
    "\n",
    "ball = sphere(pos=vector(0,0,0),radius=0.5,color=color.magenta)\n",
    "wallL = box(pos=vector(-10,0,0),size=vector(0.1,10,5),color=color.white)\n",
    "wallR = box(pos=vector(10,0,0),size=vector(0.1,10,5),color=color.white)\n",
    "ball.velocity = vector(1,0,0)"
   ]
  },
  {
   "cell_type": "markdown",
   "id": "0facef07",
   "metadata": {},
   "source": [
    "The underlying physical equation that characterizes the motion of the ball is:\n",
    "$$\\Delta \\vec r = \\vec v \\Delta t $$"
   ]
  },
  {
   "cell_type": "markdown",
   "id": "301e9c3e",
   "metadata": {},
   "source": [
    "We implement this equation using the logic that after one time step, the new position will be the old position plus the change in position. \n",
    "$$\\vec r_{new} = \\vec r_{old} + \\Delta \\vec r $$\n",
    "\n",
    "The previous expression represents three equations, one for each of the x, y and z coordinates! \n",
    "$$x_{new} = x_{old} + \\Delta x \\\\\n",
    "y_{new} = y_{old} + \\Delta y \\\\\n",
    "z_{new} = z_{old} + \\Delta z $$\n",
    "\n",
    "We can just let python worry about that detail! We also see that python is managing all the vectors for us. \n",
    "\n",
    "When coding, we implement this the object ball, and the atributes position and velocity: \n",
    "``ball.pos = ball.pos + ball.velocity * dt``\n",
    "We add this expression to a ``while`` loop. \n",
    "next, we want the ball to bounce off the walls. \n",
    "This is a simple reflection, in which the component of the velocity that is normal to the reflecting surface changes sign. \n",
    "This means that at the wall we need to reverse the x component of the velocity:\n",
    "$$v_x \\rightarrow -v_x$$\n",
    "We code this by adding two ``if`` conditional statements inside the ``while`` loop:\n",
    "``\n",
    "if ball.pos.x < wallL.pos.x:\n",
    "         ball.velocity.x = - ball.velocity.x\n",
    "    if ball.pos.x > wallR.pos.x:\n",
    "         ball.velocity.x = - bal.velocity.x\n",
    "``\n",
    "Let's implement this:"
   ]
  },
  {
   "cell_type": "code",
   "execution_count": 3,
   "id": "a2acbd6f",
   "metadata": {},
   "outputs": [],
   "source": [
    "while t < 100:\n",
    "    rate(100)\n",
    "    ball.pos = ball.pos + ball.velocity * dt\n",
    "    t = t + dt\n",
    "    if ball.pos.x < wallL.pos.x:\n",
    "         ball.velocity.x = - ball.velocity.x\n",
    "    if ball.pos.x > wallR.pos.x:\n",
    "         ball.velocity.x = - ball.velocity.x"
   ]
  },
  {
   "cell_type": "markdown",
   "id": "e998137f",
   "metadata": {},
   "source": [
    "## Drawing More Shapes \n",
    "\n",
    "Now that we have the ball bouncing around, we can introduce a couple of additional shapes to help us visualize the motion. Let's try the code again, this time by changing ball's velocity to be in more than one dimension ``ball.velocity = vector(1,0.1,0)``.\n",
    "We will start by drawing the ball again, such that it leaves a trail, with ``make_tail``, that retains 50 points along the path. \n",
    "We will also add an ``arrow`` that we will use to to indicate the direction of the ball. \n",
    "We need to create the arrow after we have defined both the ball and its velocity. The arrow will have to be updated every time the ball moves, so at the end our loop we will add the line\n",
    "\n",
    "Now let's write the program again, as below, then restart the kernel. "
   ]
  },
  {
   "cell_type": "code",
   "execution_count": 4,
   "id": "a9268021",
   "metadata": {},
   "outputs": [
    {
     "data": {
      "text/html": [
       "<div id=\"glowscript\" class=\"glowscript\"></div>"
      ],
      "text/plain": [
       "<IPython.core.display.HTML object>"
      ]
     },
     "metadata": {},
     "output_type": "display_data"
    },
    {
     "data": {
      "application/javascript": [
       "if (typeof Jupyter !== \"undefined\") { window.__context = { glowscript_container: $(\"#glowscript\").removeAttr(\"id\")};}else{ element.textContent = ' ';}"
      ],
      "text/plain": [
       "<IPython.core.display.Javascript object>"
      ]
     },
     "metadata": {},
     "output_type": "display_data"
    }
   ],
   "source": [
    "canvas()\n",
    "\n",
    "dot = sphere(pos=vector(0,0,0),radius=0.5,color=color.cyan,make_trail=True)\n",
    "dot.trail_color = color.magenta\n",
    "dot.interval = 10\n",
    "dot.retain = 50\n",
    "\n",
    "boxL = box(pos=vector(-10,0,0),size=vector(0.1,10,5),color=color.yellow)\n",
    "boxR = box(pos=vector(10,0,0),size=vector(0.1,10,5),color=color.yellow)\n",
    "\n",
    "dot.velocity = vector(1,0.1,0)\n",
    "dot.dir = arrow(pos=ball.pos,axis=dot.velocity,color=dot.color)"
   ]
  },
  {
   "cell_type": "code",
   "execution_count": 5,
   "id": "5e5d541b",
   "metadata": {},
   "outputs": [],
   "source": [
    "t = 0\n",
    "dt = 0.1\n",
    "while t < 100:\n",
    "    rate(100)\n",
    "    dot.pos = dot.pos + dot.velocity*dt\n",
    "    t = t + dt\n",
    "    if dot.pos.x < boxL.pos.x:\n",
    "        dot.velocity.x = -dot.velocity.x\n",
    "    if dot.pos.x > wallR.pos.x:\n",
    "        dot.velocity.x = -dot.velocity.x\n",
    "    dot.dir.pos = dot.pos\n",
    "    dot.dir.axis = dot.velocity\n",
    "    dot.dir.length = mag(dot.velocity)"
   ]
  },
  {
   "cell_type": "markdown",
   "id": "3605ab78",
   "metadata": {},
   "source": [
    "## Assignment\n",
    "Aadd top and bottom walls, and make them touch, and then modify your code so the ball bounces off all four walls. If you want you can add invisible front and back walls as well.\n",
    "If you have time, add a second ball bouncing around in the box. You can allow the two balls to interact if you would like."
   ]
  }
 ],
 "metadata": {
  "kernelspec": {
   "display_name": "VPython",
   "language": "python",
   "name": "vpython"
  },
  "language_info": {
   "codemirror_mode": {
    "name": "ipython",
    "version": 3
   },
   "file_extension": ".py",
   "mimetype": "text/x-python",
   "name": "python",
   "nbconvert_exporter": "python",
   "pygments_lexer": "ipython3",
   "version": "3.7.6"
  }
 },
 "nbformat": 4,
 "nbformat_minor": 5
}
