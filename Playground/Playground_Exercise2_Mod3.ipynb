{
 "cells": [
  {
   "cell_type": "markdown",
   "id": "c7db477c",
   "metadata": {},
   "source": [
    "# Playground for Exercise 2 Module 3"
   ]
  },
  {
   "cell_type": "markdown",
   "id": "f6c6f5b8",
   "metadata": {},
   "source": [
    "## Exercise 2 \n",
    "\n",
    "We want to model motion near Earth, but far enough from its surface, such as $g$ is not constant, but we must use Newton's gravitational force.\n",
    "* We know that the acceleration due to gravity is $g = 9.8 m/s^2$, and the gravitational force on a mass $m$ at a distance $r$ from Earth's center is: \n",
    "$$F = -G\\frac{ m M_{Earth}}{r^2}. $$\n",
    "* We also know that the gravitational constant is $G = 6.674\\times^{-11} \\frac{N m^2}{kg^2}$, the mass of the Earth is:$M_{Earth} = 5.972\\times 10^{24} kg$ and the radius of the Earth is: $R_{Earth} = 6.371\\times 10^{6} m$  \n",
    "    - Create a Python function to work in this situation\n",
    "    - What is the percentage difference in the peak height *above the Earth's surface* compared to the case of constant $g$ if the initial velocity is $300$ m/s?  \n",
    "    - What is the percentage difference in the peak height if the initial speed is $3300$ m/s? ($30\\%$ of escape velocity.) Is it legitimate that we usually ignore the height-dependence of $g$? \n",
    "    \n",
    "Note: *You will want your function to print out the peak height.  You will also want to set the final time so that you can see most of the motion, starting from the Earth's surface and back down to it.  Don't plot the part of the trajectory below the surface, since that would be physically unrealistic!*"
   ]
  },
  {
   "cell_type": "code",
   "execution_count": 1,
   "id": "2bd60399",
   "metadata": {},
   "outputs": [
    {
     "data": {
      "text/html": [
       "<div id=\"glowscript\" class=\"glowscript\"></div>"
      ],
      "text/plain": [
       "<IPython.core.display.HTML object>"
      ]
     },
     "metadata": {},
     "output_type": "display_data"
    },
    {
     "data": {
      "application/javascript": [
       "if (typeof Jupyter !== \"undefined\") { window.__context = { glowscript_container: $(\"#glowscript\").removeAttr(\"id\")};}else{ element.textContent = ' ';}"
      ],
      "text/plain": [
       "<IPython.core.display.Javascript object>"
      ]
     },
     "metadata": {},
     "output_type": "display_data"
    },
    {
     "name": "stdout",
     "output_type": "stream",
     "text": [
      "enter initial vertical velocity: 300\n"
     ]
    }
   ],
   "source": [
    "from vpython import *\n",
    "from math import *\n",
    "\n",
    "%matplotlib inline\n",
    "from matplotlib.pyplot import *\n",
    "\n",
    "v0 = eval(input(\"enter initial vertical velocity: \"))"
   ]
  },
  {
   "cell_type": "code",
   "execution_count": 2,
   "id": "30440717",
   "metadata": {},
   "outputs": [
    {
     "name": "stdout",
     "output_type": "stream",
     "text": [
      "enter final time for the vertical motion: 60\n"
     ]
    }
   ],
   "source": [
    "tf = eval(input(\"enter final time for the vertical motion: \"))"
   ]
  },
  {
   "cell_type": "code",
   "execution_count": 3,
   "id": "b0194913",
   "metadata": {},
   "outputs": [],
   "source": [
    "# Set up initial values and constants(SI units)\n",
    "t = 0          # initial time\n",
    "dt = 0.01      # time step\n",
    "y1, y2 = 0., 0.          # initial distance from Earth's surface\n",
    "\n",
    "G = 6.674E-11   # gravitational constant\n",
    "M = 5.972E24    # mass of Earth\n",
    "R = 6.371E6     # radius of Earth\n",
    "g = -G*M/(R**2) # gravitational acceleration at sea level\n",
    "\n",
    "r = R + y1      # initial distance\n",
    "v1, v2 = v0, v0         # initial velocity\n",
    "\n",
    "# Create empty lists for variables and append initial values to lists\n",
    "time = [] \n",
    "ypos1 = []\n",
    "yvel1 = []\n",
    "yacc = []\n",
    "ypos2 = []\n",
    "yvel2 = []\n",
    "\n",
    "time.append(t)\n",
    "ypos1.append(y1)\n",
    "yvel1.append(v1)\n",
    "yacc.append(g)\n",
    "ypos2.append(y2)\n",
    "yvel2.append(v2)"
   ]
  },
  {
   "cell_type": "code",
   "execution_count": 4,
   "id": "2fe0a564",
   "metadata": {},
   "outputs": [
    {
     "name": "stdout",
     "output_type": "stream",
     "text": [
      "The acceleration due to gravity at sea level is -9.819532032815959\n"
     ]
    }
   ],
   "source": [
    "print(\"The acceleration due to gravity at sea level is\", g)"
   ]
  },
  {
   "cell_type": "code",
   "execution_count": 5,
   "id": "2d06744e",
   "metadata": {},
   "outputs": [],
   "source": [
    "# Calculate new values for variables for Newton's law of gravity, and append to lists\n",
    "while t < tf:\n",
    "    ay = - G*M/ r**2   # height-dependent acceleration \n",
    "    v1 = v1 + ay * dt  # velocity\n",
    "    y1 = y1 + v1 * dt  # position\n",
    "    v2 = v2 + g * dt  # velocity\n",
    "    y2 = y2 + v2 * dt  # position\n",
    "    if y1 <= 0:        # bounce when it reaches the Earth\n",
    "        v1 = -v1\n",
    "    if y2 <= 0:        # bounce when it reaches the Earth\n",
    "        v2 = -v2\n",
    "    t = t + dt         # advance t by a step dt\n",
    "    r = R + y1          # update distance from earth\n",
    "    # append new values to lists\n",
    "    time.append(t)\n",
    "    ypos1.append(y1)\n",
    "    yvel1.append(v1)\n",
    "    yacc.append(ay)\n",
    "    ypos2.append(y2)\n",
    "    yvel2.append(v2)"
   ]
  },
  {
   "cell_type": "code",
   "execution_count": 6,
   "id": "d5c116cd",
   "metadata": {},
   "outputs": [
    {
     "name": "stdout",
     "output_type": "stream",
     "text": [
      "The maximum height from Newton's law of gravity 4584.499724005689 m\n",
      "The maximum height for constant gravitational acceleration is  4581.2031689533915 m\n"
     ]
    }
   ],
   "source": [
    "# Look at the results\n",
    "print(\"The maximum height from Newton's law of gravity\", max(ypos1), \"m\")\n",
    "print(\"The maximum height for constant gravitational acceleration is \", max(ypos2), \"m\")"
   ]
  },
  {
   "cell_type": "code",
   "execution_count": 7,
   "id": "0ddc0cef",
   "metadata": {},
   "outputs": [
    {
     "data": {
      "text/plain": [
       "Text(0, 0.5, 'Vertical Position (m)')"
      ]
     },
     "execution_count": 7,
     "metadata": {},
     "output_type": "execute_result"
    },
    {
     "data": {
      "image/png": "[encoded data removed]",
      "text/plain": [
       "<Figure size 432x288 with 1 Axes>"
      ]
     },
     "metadata": {
      "needs_background": "light"
     },
     "output_type": "display_data"
    }
   ],
   "source": [
    "# Look at the results\n",
    "\n",
    "\n",
    "plot(time, ypos1, time, ypos2,'--')\n",
    "xlabel(\"Time (s)\")\n",
    "ylabel(\"Vertical Position (m)\")"
   ]
  },
  {
   "cell_type": "markdown",
   "id": "73abec88",
   "metadata": {},
   "source": [
    "## Assignment\n",
    "Create a VPython animation to describe this motion."
   ]
  },
  {
   "cell_type": "code",
   "execution_count": null,
   "id": "4dd601ad",
   "metadata": {},
   "outputs": [],
   "source": []
  }
 ],
 "metadata": {
  "kernelspec": {
   "display_name": "VPython",
   "language": "python",
   "name": "vpython"
  },
  "language_info": {
   "codemirror_mode": {
    "name": "ipython",
    "version": 3
   },
   "file_extension": ".py",
   "mimetype": "text/x-python",
   "name": "python",
   "nbconvert_exporter": "python",
   "pygments_lexer": "ipython3",
   "version": "3.7.10"
  }
 },
 "nbformat": 4,
 "nbformat_minor": 5
}
