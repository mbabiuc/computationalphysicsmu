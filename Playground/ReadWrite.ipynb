{
 "cells": [
  {
   "cell_type": "markdown",
   "id": "0c0b2646",
   "metadata": {},
   "source": [
    "## Reading and Writing Data Files with Python"
   ]
  },
  {
   "cell_type": "code",
   "execution_count": 1,
   "id": "3be19b48",
   "metadata": {},
   "outputs": [],
   "source": [
    "from numpy import *\n",
    "\n",
    "x = array([0.0, 2.0, 4.0, 6.0, 8.0]) \n",
    "y = array([1.1, 1.9, 3.2, 4.0, 5.9]) \n",
    "yerr = array([0.1, 0.2, 0.1, 0.3, 0.3])"
   ]
  },
  {
   "cell_type": "markdown",
   "id": "32659e0a",
   "metadata": {},
   "source": [
    "The savetxt function from the numpy library can be used to write data to a text file. The column_stack function can be used to put each array written into a different column. you can use the optional delimiter argument to specify something else. The fmt argument can be used to specify the formatting. If one format is supplied, it will be used for all of the numbers. The form of the formatting string is “%(width).(precision)"
   ]
  },
  {
   "cell_type": "code",
   "execution_count": 2,
   "id": "1b885442",
   "metadata": {},
   "outputs": [],
   "source": [
    "p = 0.15 + y/10.0\n",
    "savetxt('data.dat', (x,p))\n",
    "#savetxt('data.dat', column_stack((x,p)) )\n",
    "#savetxt('data.dat', column_stack((x,p)), delimiter=',')\n",
    "#savetxt('data.dat',  column_stack((x,p)), fmt=('%i3', '%4.3f'))\n",
    "#savetxt('output.dat',  column_stack((x,p)), comments='# ', header='t (s) p (Pa)')\n",
    "#savetxt('output.dat',  column_stack((x,p)), comments='# ', header='First line\\nSecond line')"
   ]
  },
  {
   "cell_type": "code",
   "execution_count": 3,
   "id": "4e914cfe",
   "metadata": {},
   "outputs": [
    {
     "name": "stdout",
     "output_type": "stream",
     "text": [
      "[[0.   2.   4.   6.   8.  ]\n",
      " [0.26 0.34 0.47 0.55 0.74]]\n"
     ]
    }
   ],
   "source": [
    "from numpy import *\n",
    "DataIn = loadtxt('data.dat')\n",
    "print(DataIn)"
   ]
  },
  {
   "cell_type": "code",
   "execution_count": 4,
   "id": "ae807371",
   "metadata": {},
   "outputs": [
    {
     "name": "stdout",
     "output_type": "stream",
     "text": [
      "[0.   0.26]\n",
      "[2.   0.34]\n"
     ]
    }
   ],
   "source": [
    "x1, y1 = loadtxt('data.dat', unpack=True, usecols=[0,1])\n",
    "print(x1)\n",
    "print(y1)"
   ]
  },
  {
   "cell_type": "code",
   "execution_count": null,
   "id": "468b23cb",
   "metadata": {},
   "outputs": [],
   "source": []
  }
 ],
 "metadata": {
  "kernelspec": {
   "display_name": "Python 3",
   "language": "python",
   "name": "python3"
  },
  "language_info": {
   "codemirror_mode": {
    "name": "ipython",
    "version": 3
   },
   "file_extension": ".py",
   "mimetype": "text/x-python",
   "name": "python",
   "nbconvert_exporter": "python",
   "pygments_lexer": "ipython3",
   "version": "3.7.6"
  }
 },
 "nbformat": 4,
 "nbformat_minor": 5
}
