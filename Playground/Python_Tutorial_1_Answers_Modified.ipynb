{
 "cells": [
  {
   "cell_type": "markdown",
   "metadata": {
    "id": "o10ZE_g0I_Z2"
   },
   "source": [
    "### Answers - Creating New Cells\n",
    "\n",
    "Create your new cell(s) below this one."
   ]
  },
  {
   "cell_type": "markdown",
   "metadata": {
    "id": "2tPz7H47I_Z3"
   },
   "source": [
    "### Answers - a little practice with help in Jupyter\n",
    "\n",
    "Create your new cell(s) below this one."
   ]
  },
  {
   "cell_type": "markdown",
   "metadata": {
    "id": "7do12ZKyI_Z4"
   },
   "source": [
    "#### Written answer\n",
    "\n",
    "Type your answer(s) here."
   ]
  },
  {
   "cell_type": "markdown",
   "metadata": {
    "id": "uvuwzikfI_Z6"
   },
   "source": [
    "### Answers - a little practice with magic functions\n",
    "\n",
    "Create your new cell(s) below this one."
   ]
  },
  {
   "cell_type": "markdown",
   "metadata": {
    "id": "GWrnLmA6I_Z6"
   },
   "source": [
    "### Answers - the infamous \"Hello World\" program\n",
    "\n",
    "Create your new cell(s) below this one."
   ]
  },
  {
   "cell_type": "markdown",
   "metadata": {
    "id": "SmzchB4OI_Z7"
   },
   "source": [
    "### Answers - types of numbers\n",
    "\n",
    "Create your new cell(s) below this one."
   ]
  },
  {
   "cell_type": "markdown",
   "metadata": {
    "id": "7p4xfP9tI_Z8"
   },
   "source": [
    "#### Written answer\n",
    "\n",
    "Type your answer(s) below:\n",
    "\n",
    "1. No answer needed -- just observe behavior of code.\n",
    "2. Write your answer for each case:\n",
    "    1. \n",
    "    2. \n",
    "    3. "
   ]
  },
  {
   "cell_type": "markdown",
   "metadata": {
    "id": "LanlXNWVI_Z8"
   },
   "source": [
    "### Answers - results of basic arithmetical operations\n",
    "\n",
    "Create your new cell(s) below this one."
   ]
  },
  {
   "cell_type": "markdown",
   "metadata": {
    "id": "gUpVfpZvI_Z9"
   },
   "source": [
    "### Answers - data type predictions\n",
    "\n",
    "Type your answer(s) below:\n",
    "\n",
    "1. \n",
    "2. \n",
    "3. \n",
    "4. "
   ]
  },
  {
   "cell_type": "markdown",
   "metadata": {
    "id": "V42cyzT9I_Z-"
   },
   "source": [
    "### Answers - more computations"
   ]
  },
  {
   "cell_type": "markdown",
   "metadata": {
    "id": "cGcmtNwlI_Z_"
   },
   "source": [
    "#### Written answers - Predictions\n",
    "\n",
    "Type list of predictions here.\n",
    "\n",
    "1. \n",
    "2. \n",
    "3. \n",
    "4. \n",
    "5. \n",
    "6. \n",
    "7. \n",
    "8. \n",
    "9. \n",
    "10. "
   ]
  },
  {
   "cell_type": "markdown",
   "metadata": {
    "id": "GxWVmggoI_aA"
   },
   "source": [
    "#### Answers in cells\n",
    "\n",
    "Create your new cell(s) below this one."
   ]
  },
  {
   "cell_type": "markdown",
   "metadata": {
    "id": "iH9y7-xMI_aA"
   },
   "source": [
    "### Answers - Starting out with variables\n",
    "\n",
    "Create your new cell(s) below this one."
   ]
  },
  {
   "cell_type": "markdown",
   "metadata": {
    "id": "eJFl3JcMI_aB"
   },
   "source": [
    "### Answers - predicting outcomes of programs with control flow statements\n",
    "\n",
    "Create your new cell(s) below this one."
   ]
  },
  {
   "cell_type": "markdown",
   "metadata": {
    "id": "Ep4zP42XI_aC"
   },
   "source": [
    "### Answers - writing simple programs with control flow statements\n",
    "\n",
    "Create your new cell(s) below this one."
   ]
  },
  {
   "cell_type": "markdown",
   "metadata": {
    "id": "pxmgwVUkI_aC"
   },
   "source": [
    "### Answers  - predicting outcomes of programs that contain loops\n",
    "\n",
    "Type out precisely what you think the output of each code block above will be exactly as it will appear when the block is run in its own cell:\n",
    "\n",
    "#### Block 1\n",
    "\n",
    "    Predicted first line of output\n",
    "    Predicted second line of output\n",
    "    ...\n",
    "\n",
    "#### Block 2\n",
    "\n",
    "    Predicted first line of output\n",
    "    Predicted second line of output\n",
    "    ...\n",
    "\n",
    "#### Block 3\n",
    "\n",
    "    Predicted first line of output\n",
    "    Predicted second line of output\n",
    "    ...\n",
    "\n",
    "#### Block 4\n",
    "\n",
    "    Predicted first line of output\n",
    "    Predicted second line of output\n",
    "    ...\n",
    "\n",
    "#### Block 5\n",
    "\n",
    "    Predicted first line of output\n",
    "    Predicted second line of output\n",
    "    ..."
   ]
  },
  {
   "cell_type": "markdown",
   "metadata": {
    "id": "KRK5lXMII_aD"
   },
   "source": [
    "### Answers - writing programs that repeat using loops\n",
    "\n",
    "Create your new cell(s) below this one."
   ]
  },
  {
   "cell_type": "markdown",
   "metadata": {
    "id": "9SONOB2CI_aE"
   },
   "source": [
    "### Answers - predicting the behaviors of functions with keyword arguments\n",
    "\n",
    "Type out precisely what you think the output of each line above will be exactly as it will appear when the line is run in its own cell:\n",
    "\n",
    "#### Line 1\n",
    "\n",
    "    Predicted output\n",
    "\n",
    "#### Line 2\n",
    "\n",
    "    Predicted output\n",
    "\n",
    "#### Line 3\n",
    "\n",
    "    Predicted output"
   ]
  },
  {
   "cell_type": "markdown",
   "metadata": {
    "id": "CQiwgz6-I_aE"
   },
   "source": [
    "#### Answers in cells\n",
    "\n",
    "Create your new cell(s) below this one."
   ]
  },
  {
   "cell_type": "markdown",
   "metadata": {
    "id": "EBGd1Fl3I_aF"
   },
   "source": [
    "### Answers -- writing functions\n",
    "\n",
    "Create your new cell(s) below this one."
   ]
  }
 ],
 "metadata": {
  "colab": {
   "name": "Python Tutorial 1 - Answer Notebook",
   "provenance": []
  },
  "kernelspec": {
   "display_name": "Python 3",
   "language": "python",
   "name": "python3"
  },
  "language_info": {
   "codemirror_mode": {
    "name": "ipython",
    "version": 3
   },
   "file_extension": ".py",
   "mimetype": "text/x-python",
   "name": "python",
   "nbconvert_exporter": "python",
   "pygments_lexer": "ipython3",
   "version": "3.8.5"
  }
 },
 "nbformat": 4,
 "nbformat_minor": 1
}
