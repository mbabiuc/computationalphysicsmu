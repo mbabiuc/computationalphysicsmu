{
 "cells": [
  {
   "cell_type": "markdown",
   "id": "8dc105e4",
   "metadata": {},
   "source": [
    "# VPython Simulations on Jupyter Notebook\n",
    "---\n",
    "Maria C. Babiuc-Hamilton"
   ]
  },
  {
   "cell_type": "markdown",
   "id": "d421b049",
   "metadata": {},
   "source": [
    "## 1. Instalation\n",
    "\n",
    "* Preliminary: if Anaconda-Navigator is not installed, follow the link: https://www.anaconda.com/products/individual and go through the installation instructions for your operating system.\n",
    "If possible, try to bring and keep your operating system up to date, and move big files, such as photos and videos, online."
   ]
  },
  {
   "cell_type": "markdown",
   "id": "cf2ac077",
   "metadata": {},
   "source": [
    "- Open a text based window for your operating system:  \n",
    "    * on MacOS open a *Terminal*: \n",
    "    \n",
    "    ``Finder->Applications->Utilities->Terminal``\n",
    "    * on Windows open a *Command Prompt* \n",
    "    \n",
    "    `` Start Menu->Windows System->Command Prompt``"
   ]
  },
  {
   "cell_type": "markdown",
   "id": "a85e4995",
   "metadata": {},
   "source": [
    "* Type in the command window: \n",
    "\n",
    "``conda install -c vpython vpython``\n",
    "\n",
    "``conda update -c vpython vpython``"
   ]
  },
  {
   "cell_type": "markdown",
   "id": "e37c2214",
   "metadata": {},
   "source": [
    "*Note* On Windows, if you get the error: \"'Conda' is not recognized as internal or external command\n",
    "\", try to do the following:\n",
    "Open a Jupyter Notebook from the Anaconda Navigator. A browser will pop up. From the pull down menu on the upper right select  ``New->Terminal``.\n",
    "In the ``Terminal`` type what is above."
   ]
  },
  {
   "cell_type": "markdown",
   "id": "c061c349",
   "metadata": {},
   "source": [
    "*Note*: more info can be found at: http://vpython.org/"
   ]
  },
  {
   "cell_type": "markdown",
   "id": "25bced03",
   "metadata": {},
   "source": [
    "* Open a Jupyter Notebook from the Anaconda Navigator. A browser will pop up. From the pull down menu on the right select \n",
    "``New->VPython``"
   ]
  },
  {
   "cell_type": "markdown",
   "id": "ef9ee993",
   "metadata": {},
   "source": [
    "* Name you notebook by clicking the *Untitled* and then start with your name and the name of the notebook. For example *Maria's Bouncing Ball*"
   ]
  },
  {
   "cell_type": "markdown",
   "id": "5e2c6ae3",
   "metadata": {},
   "source": [
    "## 2. Jupyter Notebook"
   ]
  },
  {
   "cell_type": "markdown",
   "id": "07531f89",
   "metadata": {},
   "source": [
    "Jupyter notebooks are organized into units called “cells”, that start with ``In[]``. Cells are of two types: \n",
    "\n",
    "* Markdown, which is a word editor where we write,\n",
    "* Code, where we will add the programming commands."
   ]
  },
  {
   "cell_type": "markdown",
   "id": "d0a51009",
   "metadata": {},
   "source": [
    "Click on the first cell, change it to *Markdown*, double click on it, then type:\n",
    "\n",
    "``## VPython Bouncing Ball Notebook``\n",
    "\n",
    "Now *execute* the cell by hitting\n",
    "Shift+Enter. For more about how *Markdown* see: https://www.markdownguide.org/cheat-sheet/."
   ]
  },
  {
   "cell_type": "markdown",
   "id": "d500e82b",
   "metadata": {},
   "source": [
    "# VPython Bouncing Ball Notebook"
   ]
  },
  {
   "cell_type": "markdown",
   "id": "a30e2eb9",
   "metadata": {},
   "source": [
    "## 3. Simple Python Commands\n",
    "\n",
    "A new empty cell should have been automatically created below the first cell, and this should be a\n",
    "*Code* cell. In this cell, type:\n",
    "\n",
    "``print(\"Hello World\")``\n",
    "\n",
    "Now run the code by hitting Shift+Ente or clicking the Run at the top of the notebook."
   ]
  },
  {
   "cell_type": "code",
   "execution_count": 1,
   "id": "98ae4d68",
   "metadata": {},
   "outputs": [
    {
     "name": "stdout",
     "output_type": "stream",
     "text": [
      "Hello World\n"
     ]
    }
   ],
   "source": [
    "print(\"Hello World\")"
   ]
  },
  {
   "cell_type": "markdown",
   "id": "4d408f66",
   "metadata": {},
   "source": [
    " You can do many things with **Python**. For example you can use it as a calculator. For example, type: "
   ]
  },
  {
   "cell_type": "code",
   "execution_count": 2,
   "id": "e30db332",
   "metadata": {},
   "outputs": [
    {
     "name": "stdout",
     "output_type": "stream",
     "text": [
      "68\n",
      "-4\n",
      "1.3333333333333333\n",
      "60\n"
     ]
    }
   ],
   "source": [
    "print (12+56)\n",
    "print (2-6)\n",
    "print(4.0/3.0)\n",
    "print(15*4)"
   ]
  },
  {
   "cell_type": "markdown",
   "id": "f036cf7a",
   "metadata": {},
   "source": [
    "Other different operators in Pythons are:\n",
    "** raises the left operand to the power of the right ,\n",
    "// does integer division by dividing the left operand to the right operand, and truncating its result to the next smallest integer,\n",
    "% gives the remainder of dividing the left hand operand by right hand operand, as is called Modulo.\n",
    "Try this:"
   ]
  },
  {
   "cell_type": "code",
   "execution_count": 3,
   "id": "d6b9d13d",
   "metadata": {},
   "outputs": [
    {
     "name": "stdout",
     "output_type": "stream",
     "text": [
      "343\n",
      "2\n",
      "1\n"
     ]
    }
   ],
   "source": [
    "power = 7**3\n",
    "print(power)\n",
    "quotient = 7 // 3  \n",
    "print(quotient)\n",
    "remainder = 7 % 3\n",
    "print(remainder)"
   ]
  },
  {
   "cell_type": "markdown",
   "id": "c39f0a3e",
   "metadata": {},
   "source": [
    "The equals sign in Python is not that same as in mathematics. It is used to initiate or define variables, with which you can do calculations. "
   ]
  },
  {
   "cell_type": "code",
   "execution_count": 4,
   "id": "b88cfc6f",
   "metadata": {},
   "outputs": [
    {
     "name": "stdout",
     "output_type": "stream",
     "text": [
      "-2\n"
     ]
    }
   ],
   "source": [
    "x = 3\n",
    "y = 5\n",
    "print(x-y)"
   ]
  },
  {
   "cell_type": "markdown",
   "id": "9d469ef3",
   "metadata": {},
   "source": [
    "The plus (+) sign can be used with the assign (=) sign to increment a variable in two ways:\n",
    "\n",
    "``i = i + 1`` adds the number 1 to the variable i. \n",
    "This can be written as:\n",
    "\n",
    "`` i +=1`` Try it out to see how it works:"
   ]
  },
  {
   "cell_type": "code",
   "execution_count": 5,
   "id": "635ac496",
   "metadata": {},
   "outputs": [
    {
     "name": "stdout",
     "output_type": "stream",
     "text": [
      "1\n",
      "2\n",
      "3\n"
     ]
    }
   ],
   "source": [
    "i = 1\n",
    "print(i)\n",
    "i = i + 1\n",
    "print(i)\n",
    "i += 1\n",
    "print(i)"
   ]
  },
  {
   "cell_type": "markdown",
   "id": "66d62880",
   "metadata": {},
   "source": [
    "## Loops and Conditional Statements\n",
    "Loops tell the computer to do a particular task over and over, until a conditional statement is met. \n",
    "Everything on the following indented lines will be executed repeatedly as long as the condition is true. \n",
    "The ``:`` and the indentation are part of *syntax* and are essential. \n",
    "Jupyter will automatically\n",
    "indent the first line after a conditional statement, but you must “unindent” when you get to the end of the\n",
    "statements that are to be repeated. Execute each of the following two blocks of code:"
   ]
  },
  {
   "cell_type": "code",
   "execution_count": 6,
   "id": "dba82b2c",
   "metadata": {},
   "outputs": [
    {
     "name": "stdout",
     "output_type": "stream",
     "text": [
      "1\n",
      "2\n",
      "3\n",
      "4\n"
     ]
    }
   ],
   "source": [
    "i = 1\n",
    "while i < 5:\n",
    "    print(i)\n",
    "    i += 1"
   ]
  },
  {
   "cell_type": "code",
   "execution_count": 7,
   "id": "e98a5768",
   "metadata": {},
   "outputs": [
    {
     "name": "stdout",
     "output_type": "stream",
     "text": [
      "i is equal to 2\n"
     ]
    }
   ],
   "source": [
    "i = 1\n",
    "while i < 5:\n",
    "    if i == 2:\n",
    "        print(\"i is equal to\",i)\n",
    "    i += 1"
   ]
  },
  {
   "cell_type": "markdown",
   "id": "61e42951",
   "metadata": {},
   "source": [
    "For more practice with the Python programming language go through *Computational_Module-00-IntroComputing.ipynb, Python_Tutorial_1_Modified*, and *Computational_Modules-[01A, 01B, 01C]-PythonIntro.ipynb*."
   ]
  },
  {
   "cell_type": "markdown",
   "id": "786f4191",
   "metadata": {},
   "source": [
    "## VPython and Drawing\n",
    "We are now going to move forward to 3D Geometric Objects. There are a number of three-dimensional objects that vpython know about. \n",
    "A full list can be found at https://vpython.org/contents/docs/primitives.html. \n",
    "We will introduce these shapes as needed throughout the course. \n",
    "The first that we will use is a sphere. If we start by entering:"
   ]
  },
  {
   "cell_type": "code",
   "execution_count": 8,
   "id": "cea8d96a",
   "metadata": {},
   "outputs": [
    {
     "data": {
      "text/html": [
       "<div id=\"glowscript\" class=\"glowscript\"></div>"
      ],
      "text/plain": [
       "<IPython.core.display.HTML object>"
      ]
     },
     "metadata": {},
     "output_type": "display_data"
    },
    {
     "data": {
      "application/javascript": [
       "if (typeof Jupyter !== \"undefined\") { window.__context = { glowscript_container: $(\"#glowscript\").removeAttr(\"id\")};}else{ element.textContent = ' ';}"
      ],
      "text/plain": [
       "<IPython.core.display.Javascript object>"
      ]
     },
     "metadata": {},
     "output_type": "display_data"
    }
   ],
   "source": [
    "from vpython import *\n",
    "from math import *"
   ]
  },
  {
   "cell_type": "markdown",
   "id": "94c316e9",
   "metadata": {},
   "source": [
    "The *math* module allows you to use math functions, and the *vpython* module has functions that allow you to do 3D animations easily. Now type:"
   ]
  },
  {
   "cell_type": "code",
   "execution_count": 9,
   "id": "3a62b546",
   "metadata": {},
   "outputs": [
    {
     "data": {
      "application/javascript": [
       "if (typeof Jupyter !== \"undefined\") {require.undef(\"nbextensions/vpython_libraries/glow.min\");}else{element.textContent = ' ';}"
      ],
      "text/plain": [
       "<IPython.core.display.Javascript object>"
      ]
     },
     "metadata": {},
     "output_type": "display_data"
    },
    {
     "data": {
      "application/javascript": [
       "if (typeof Jupyter !== \"undefined\") {require.undef(\"nbextensions/vpython_libraries/glowcomm\");}else{element.textContent = ' ';}"
      ],
      "text/plain": [
       "<IPython.core.display.Javascript object>"
      ]
     },
     "metadata": {},
     "output_type": "display_data"
    },
    {
     "data": {
      "application/javascript": [
       "if (typeof Jupyter !== \"undefined\") {require.undef(\"nbextensions/vpython_libraries/jquery-ui.custom.min\");}else{element.textContent = ' ';}"
      ],
      "text/plain": [
       "<IPython.core.display.Javascript object>"
      ]
     },
     "metadata": {},
     "output_type": "display_data"
    },
    {
     "data": {
      "application/javascript": [
       "if (typeof Jupyter !== \"undefined\") {require([\"nbextensions/vpython_libraries/glow.min\"], function(){console.log(\"GLOW LOADED\");});}else{element.textContent = ' ';}"
      ],
      "text/plain": [
       "<IPython.core.display.Javascript object>"
      ]
     },
     "metadata": {},
     "output_type": "display_data"
    },
    {
     "data": {
      "application/javascript": [
       "if (typeof Jupyter !== \"undefined\") {require([\"nbextensions/vpython_libraries/glowcomm\"], function(){console.log(\"GLOWCOMM LOADED\");});}else{element.textContent = ' ';}"
      ],
      "text/plain": [
       "<IPython.core.display.Javascript object>"
      ]
     },
     "metadata": {},
     "output_type": "display_data"
    },
    {
     "data": {
      "application/javascript": [
       "if (typeof Jupyter !== \"undefined\") {require([\"nbextensions/vpython_libraries/jquery-ui.custom.min\"], function(){console.log(\"JQUERY LOADED\");});}else{element.textContent = ' ';}"
      ],
      "text/plain": [
       "<IPython.core.display.Javascript object>"
      ]
     },
     "metadata": {},
     "output_type": "display_data"
    }
   ],
   "source": [
    "sphere()"
   ]
  },
  {
   "cell_type": "markdown",
   "id": "418041ea",
   "metadata": {},
   "source": [
    "You can manipulate the object, either with the mouse, or with your fingers on the track pad.\n",
    "Use the middle mouse button to zoom you in and out when you move the mouse (or the right and left mouse buttons together), and the right mouse button to change the viewpoint.\n",
    "Use two fingers on your track pad to zoom in or out on the object. Use Shift and one finger to move the point of view, and Control and one finger to rotate about the center of the screen.\n",
    "Will stop here. To learn more, try the notebook *BouncingBall*"
   ]
  }
 ],
 "metadata": {
  "kernelspec": {
   "display_name": "VPython",
   "language": "python",
   "name": "vpython"
  },
  "language_info": {
   "codemirror_mode": {
    "name": "ipython",
    "version": 3
   },
   "file_extension": ".py",
   "mimetype": "text/x-python",
   "name": "python",
   "nbconvert_exporter": "python",
   "pygments_lexer": "ipython3",
   "version": "3.7.6"
  }
 },
 "nbformat": 4,
 "nbformat_minor": 5
}
