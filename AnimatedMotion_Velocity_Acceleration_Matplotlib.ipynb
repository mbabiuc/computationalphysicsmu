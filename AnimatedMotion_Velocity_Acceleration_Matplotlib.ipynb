{
 "cells": [
  {
   "cell_type": "markdown",
   "id": "8317a012",
   "metadata": {},
   "source": [
    "# Implementing Motion with Constant Velocity and Acceleration\n",
    "## 1D motion using matplotlib for visualization"
   ]
  },
  {
   "cell_type": "code",
   "execution_count": 1,
   "id": "fd27b24a",
   "metadata": {},
   "outputs": [
    {
     "name": "stdout",
     "output_type": "stream",
     "text": [
      "enter initial velocity: 1\n"
     ]
    }
   ],
   "source": [
    "# initialize velocity \n",
    "v0 = eval(input(\"enter initial velocity: \"))"
   ]
  },
  {
   "cell_type": "code",
   "execution_count": 2,
   "id": "da9c0b92",
   "metadata": {},
   "outputs": [
    {
     "name": "stdout",
     "output_type": "stream",
     "text": [
      "enter initial acceleration: 10\n"
     ]
    }
   ],
   "source": [
    "# initialize acceleration \n",
    "a0 = eval(input(\"enter initial acceleration: \"))"
   ]
  },
  {
   "cell_type": "code",
   "execution_count": 3,
   "id": "373bdc4e",
   "metadata": {},
   "outputs": [],
   "source": [
    "# initialize time, step, number of iterations\n",
    "t = 0.0\n",
    "dt = 0.1\n",
    "n = 1000\n",
    "\n",
    "# declare empty lists to hold time, and position\n",
    "time = []\n",
    "position = []\n",
    "xa = []"
   ]
  },
  {
   "cell_type": "markdown",
   "id": "b3f5ca4e",
   "metadata": {},
   "source": [
    "The physics describing the motion with constant velocity is:\n",
    "$$ x = v_0 t$$\n",
    "\n",
    "The physics describing the motion with constant acceleration is:\n",
    "$$ v = v_0 + a_0 t$$\n",
    "$$ x = v_0 t + a_0 t^2/2 $$"
   ]
  },
  {
   "cell_type": "code",
   "execution_count": 4,
   "id": "ee21245a",
   "metadata": {},
   "outputs": [],
   "source": [
    "# iterate over the number of steps using a loop\n",
    "for i in range(n):\n",
    "    time.append(t)\n",
    "    position.append(v0*t)\n",
    "    xa.append(v0*t + a0/2.0*t**2)\n",
    "    t = t + dt"
   ]
  },
  {
   "cell_type": "code",
   "execution_count": 5,
   "id": "b25b1ecb",
   "metadata": {},
   "outputs": [
    {
     "data": {
      "text/plain": [
       "<matplotlib.legend.Legend at 0x7fb670973a50>"
      ]
     },
     "execution_count": 5,
     "metadata": {},
     "output_type": "execute_result"
    },
    {
     "data": {
      "image/png": "[encoded data removed]",
      "text/plain": [
       "<Figure size 432x288 with 1 Axes>"
      ]
     },
     "metadata": {
      "needs_background": "light"
     },
     "output_type": "display_data"
    }
   ],
   "source": [
    "import matplotlib.pyplot as plt\n",
    "plt.figure()                    # start a figure\n",
    "plt.plot(time, position, label=\"constant velocity\")\n",
    "plt.plot(time, xa, label=\"constant acceleration\")\n",
    "\n",
    "plt.xlabel('t (s)')             # add labels\n",
    "plt.ylabel('x (m)')\n",
    "plt.legend(loc=2)    # legend in upper-left corner  (1 is upper-right, 3 is lower-left, \n",
    "\n",
    "\n",
    "# plt.show() "
   ]
  },
  {
   "cell_type": "markdown",
   "id": "cb1ba550",
   "metadata": {},
   "source": [
    "## Animation using matplotlib\n",
    "*https://scipython.com/book2/chapter-7-matplotlib/examples/animating-a-bouncing-ball/*"
   ]
  },
  {
   "cell_type": "markdown",
   "id": "474eee1f",
   "metadata": {},
   "source": [
    "Let's now combine a motion with constant velocity in the horizontal ($x$) direction, and with constant acceleration in the vertical ($y$) direction, and animate the motion!\n",
    "*The ball's position, trajectory history and height label all change with each frame.*\n",
    "We will make the ball fall and bounce on the ground. "
   ]
  },
  {
   "cell_type": "code",
   "execution_count": 6,
   "id": "cfe2df8e",
   "metadata": {},
   "outputs": [
    {
     "name": "stdout",
     "output_type": "stream",
     "text": [
      "enter initial velocity in the x direction: 1\n"
     ]
    }
   ],
   "source": [
    "# initialize velocity \n",
    "v0x = eval(input(\"enter initial velocity in the x direction: \"))"
   ]
  },
  {
   "cell_type": "code",
   "execution_count": 7,
   "id": "0cd48ba5",
   "metadata": {},
   "outputs": [
    {
     "name": "stdout",
     "output_type": "stream",
     "text": [
      "enter initial velocity in the y direction: 10\n"
     ]
    }
   ],
   "source": [
    "v0y = eval(input(\"enter initial velocity in the y direction: \"))"
   ]
  },
  {
   "cell_type": "code",
   "execution_count": 8,
   "id": "2f9d8885",
   "metadata": {},
   "outputs": [],
   "source": [
    "# Acceleration due to gravity, m.s-2.\n",
    "g = 9.81\n",
    "# The maximum range of ball's trajectory to plot.\n",
    "xmax = 10\n",
    "ymax = 10\n",
    "# The time step for the animation.\n",
    "dt = 0.1 \n",
    "# Initial position and velocity vectors.\n",
    "t0 = 0\n",
    "x0, y0 = 0, ymax/2 # initial position on the ball.\n",
    "\n",
    "# The coefficient of restitution for bounces (-v_up/v_down).\n",
    "#cor = 0.65"
   ]
  },
  {
   "cell_type": "markdown",
   "id": "da376c98",
   "metadata": {},
   "source": [
    "We define a generator function, *get_pos* that instead of *return* will use *yield* which allows it to keep on producing the ball's position vector, $(x, y)$ until the ball's x-coordinate reaches xmax.\n",
    "At this point the generator is exhausted and produces None, and the animation stops."
   ]
  },
  {
   "cell_type": "code",
   "execution_count": 9,
   "id": "506c87a4",
   "metadata": {},
   "outputs": [],
   "source": [
    "def get_pos():\n",
    "# A generator yielding the ball's position at time t.\"\"\"\n",
    "    t, x, y, vx, vy = t0, x0, y0, v0x, v0y\n",
    "    while x < xmax:\n",
    "# motion with constant velocity on the x direction\n",
    "        x = x + vx * dt\n",
    "# motion with constant acceleration on the y direction\n",
    "        y = y + vy * dt\n",
    "        vy = vy - g * dt\n",
    "#update time    \n",
    "        t = t + dt \n",
    "# make the ball bounce\n",
    "        if y < 0:\n",
    "            y = 0\n",
    "            vy = -vy\n",
    "        elif y > ymax:\n",
    "            y = 0\n",
    "            vy = -vy\n",
    "        yield x, y # produces a sequence of values"
   ]
  },
  {
   "cell_type": "code",
   "execution_count": 10,
   "id": "fde22f02",
   "metadata": {},
   "outputs": [],
   "source": [
    "# first build the figure\n",
    "import matplotlib.pyplot as plt\n",
    "import matplotlib.animation as animation"
   ]
  },
  {
   "cell_type": "markdown",
   "id": "5b2449a8",
   "metadata": {},
   "source": [
    "We draw the figure, initialize the plot and ball. "
   ]
  },
  {
   "cell_type": "code",
   "execution_count": 11,
   "id": "9da6eb51",
   "metadata": {},
   "outputs": [],
   "source": [
    "def init():\n",
    "# Initialize the animation figure.\"\"\"\n",
    "    ax.set_xlim(0, xmax)\n",
    "    ax.set_ylim(0, ymax)\n",
    "    ax.set_xlabel('x/m')\n",
    "    ax.set_ylabel('y/m')\n",
    "    line.set_data(xdata, ydata)\n",
    "    ball.set_center((x0, y0))\n",
    "    height_text.set_text(f'Height: {y0:.1f} m')\n",
    "    return line, ball, height_text"
   ]
  },
  {
   "cell_type": "markdown",
   "id": "839bdca7",
   "metadata": {},
   "source": [
    "Now we append the line with the updated position."
   ]
  },
  {
   "cell_type": "code",
   "execution_count": 12,
   "id": "2a2c787d",
   "metadata": {},
   "outputs": [],
   "source": [
    "def animate(pos):\n",
    "# For each frame, advance the animation to the new position, pos.\"\"\"\n",
    "    x, y = pos\n",
    "    xdata.append(x)\n",
    "    ydata.append(y)\n",
    "# the lines below keep updating the plot with the new position    \n",
    "    line.set_data(xdata, ydata)\n",
    "    ball.set_center((x, y))\n",
    "    height_text.set_text(f'Height: {y:.1f} m')\n",
    "    return line, ball, height_text"
   ]
  },
  {
   "cell_type": "code",
   "execution_count": 13,
   "id": "8123cafa",
   "metadata": {},
   "outputs": [
    {
     "data": {
      "image/png": "[encoded data removed]",
      "text/plain": [
       "<Figure size 432x288 with 1 Axes>"
      ]
     },
     "metadata": {
      "needs_background": "light"
     },
     "output_type": "display_data"
    }
   ],
   "source": [
    "# Set up a new figure, with equal aspect ratio so the ball appears round.\n",
    "fig, ax = plt.subplots()\n",
    "ax.set_aspect('equal')"
   ]
  },
  {
   "cell_type": "markdown",
   "id": "bbb496c7",
   "metadata": {},
   "source": [
    "The frames are controlled by *FuncAnimation* which is given the generator function, *get_pos*, which returns the next position of the ball each time it iterates. This position is handed on to the animate function instead of the integer index of the frame."
   ]
  },
  {
   "cell_type": "code",
   "execution_count": 14,
   "id": "e28d2145",
   "metadata": {},
   "outputs": [],
   "source": [
    "# These are the objects we need to keep track of.\n",
    "line, = ax.plot([], [], lw=2)\n",
    "ball = plt.Circle((x0, y0), 0.1, color='black')\n",
    "height_text = ax.text(xmax*0.5, y0*0.8, f'Height: {y0:.1f} m')\n",
    "ax.add_patch(ball)\n",
    "xdata, ydata = [], []\n",
    "\n",
    "interval = t # change to control the interval\n",
    "ani = animation.FuncAnimation(fig, animate, get_pos, blit=True,\n",
    "                      interval=interval, repeat=False, init_func=init)\n",
    "#plt.show()"
   ]
  },
  {
   "cell_type": "code",
   "execution_count": 15,
   "id": "6237cd5d",
   "metadata": {},
   "outputs": [
    {
     "data": {
      "text/html": [
       "<video width=\"432\" height=\"288\" controls autoplay>\n",
       "  <source type=\"video/mp4\" src=\"data:video/mp4;base64,AAAAIGZ0eXBNNFYgAAACAE00ViBpc29taXNvMmF2YzEAAAAIZnJlZQAAUTttZGF0AAACrgYF//+q\n",
       "3EXpvebZSLeWLNgg2SPu73gyNjQgLSBjb3JlIDE2MyByMzA2MCA1ZGI2YWE2IC0gSC4yNjQvTVBF\n",
       "Ry00IEFWQyBjb2RlYyAtIENvcHlsZWZ0IDIwMDMtMjAyMSAtIGh0dHA6Ly93d3cudmlkZW9sYW4u\n",
       "b3JnL3gyNjQuaHRtbCAtIG9wdGlvbnM6IGNhYmFjPTEgcmVmPTMgZGVibG9jaz0xOjA6MCBhbmFs\n",
       "eXNlPTB4MzoweDExMyBtZT1oZXggc3VibWU9NyBwc3k9MSBwc3lfcmQ9MS4wMDowLjAwIG1peGVk\n",
       "X3JlZj0xIG1lX3JhbmdlPTE2IGNocm9tYV9tZT0xIHRyZWxsaXM9MSA4eDhkY3Q9MSBjcW09MCBk\n",
       "ZWFkem9uZT0yMSwxMSBmYXN0X3Bza2lwPTEgY2hyb21hX3FwX29mZnNldD0tMiB0aHJlYWRzPTkg\n",
       "bG9va2FoZWFkX3RocmVhZHM9MSBzbGljZWRfdGhyZWFkcz0wIG5yPTAgZGVjaW1hdGU9MSBpbnRl\n",
       "cmxhY2VkPTAgYmx1cmF5X2NvbXBhdD0wIGNvbnN0cmFpbmVkX2ludHJhPTAgYmZyYW1lcz0zIGJf\n",
       "cHlyYW1pZD0yIGJfYWRhcHQ9MSBiX2JpYXM9MCBkaXJlY3Q9MSB3ZWlnaHRiPTEgb3Blbl9nb3A9\n",
       "MCB3ZWlnaHRwPTIga2V5aW50PTI1MCBrZXlpbnRfbWluPTEwIHNjZW5lY3V0PTQwIGludHJhX3Jl\n",
       "ZnJlc2g9MCByY19sb29rYWhlYWQ9NDAgcmM9Y3JmIG1idHJlZT0xIGNyZj0yMy4wIHFjb21wPTAu\n",
       "NjAgcXBtaW49MCBxcG1heD02OSBxcHN0ZXA9NCBpcF9yYXRpbz0xLjQwIGFxPTE6MS4wMACAAAAI\n",
       "8mWIhAAR//73iB8yy2n5OtdyEeetLq0fUO5GcV6kvf4gAAADABacmUP9qv8E8/qAy+9LCZl4XpGf\n",
       "jXzjl3ax+6IUFF2OXgVTSthrmi9ngWH2FPw1dCx3ToVXgABqjs/QVQzBk7SZsl2sS1JEf+xJWZUC\n",
       "McR/WFeuoao23r0XFzP/YJgo3CKOfAsexDc9b/w7L2eA/r7vT2NuXOn/foDF0x5m5t5ArvnF/Wf0\n",
       "1wFpbMqRorw0HcemDLq54GcN4m3/N2ODH+Ym/c0nOmFc5EqmfL+OH/7gg70U6eEAWKcW2h+61q9w\n",
       "ThWXMasgK97rjjgamUacADWg3ynT0hkTjp3Gphshy1jzUVwVHcXOl6aFR+inHH2y+sNv54X1sE2x\n",
       "FUOh/pHcw88Rg346HWibx3aROcsjntZCLQcJaCT5nrtqXRZkAORlNHk9nZAoaXq5cl/IiYbE/320\n",
       "pWcM0xuQvpDcYUAifdAB8hOFePfuCCtzYvBg5djmAYSNrvh0szJ+uYt2NFBt0gJy8slgLMZj/Rn9\n",
       "3szqRqaVHF6ked+rc6CFhNIXFEGAsWQE/E9sw1rBeN7pnmPYV8+XXRkqBas4tQI/rVkyoK3UfuqG\n",
       "VeAmFn5QoxR6bf2TzRMFwGs7wrIulZCTIqyUAQtMZ+6CVywVpm5o99dIfDRg/a26bFlCeZhRw0fo\n",
       "rZslC+vOxkVgV91N24R9yN1UOJRcAucX+VO4hCu/Bm0jRZJzVAXJLIFf4mGi1lCEb2mtwsMsMxmt\n",
       "YtuZtcCwDZvWZbV/8X2NDSzV0000OQpV29ceQwFnosQcV5UiUtLs8sHfL9rTUXSO+lmzfCjuy9HK\n",
       "JgyY3wigosWFfdXgAhSbrL7g6vuO3O4+2Q+K1LN0xL+UliAj5mXj2fJ1MZpuQ5SkUsglmoNFDjEB\n",
       "uduP0BwrjfTgpVJchbLoNk2EuVKAl/d9BviaUs5STUQpCP2TRpsI6UupBhMKIgVTepJEPD+11ZT6\n",
       "iDX/X37MW0qt99/i7xX2YmVbH+IyVH7qpgUrkIR6Cb2ToCiD/ZAvTNKaA00ZNix0sXQVVtOPsAHB\n",
       "yub2UhtdvU2G8wXifK0RtUa7qKyrYZ2ZlTl+lWqpFjLkyr5OT1TFIuxYIjs2Rtkgq+PylXT7AMqH\n",
       "fUEYaWTyfbYRE8++ElsXQvBcHSxuNKKfGOb9DdHzyxxkODJi2sMUDOEdj4++lFqb5DQrDA43q580\n",
       "so8IKyIDoYbNp5KrdP7K8jIVcdSWDSKOeRIXLe2fkf5L6bmkFdLVfvhGXTTa0D8mDPLgQUlzSOdE\n",
       "/QKU6xzm3HiUm3FfWa/U5jcvuTDPXVz8ICfMVJeXoD4XTxoVqSPzGEGEA20l73gUxIv6zGNIcjAA\n",
       "RgPpPG+tSnhLrQl3QXDn2DOJdIXTDKf3T2+dbT3smPntZh9GzkAq7BUZUprGkbyM1tE0/Mcu1YVe\n",
       "bA4NDrC8NromGeeok5OP682qa5QfFB+NydxxtfxgT7GyHLmmeNbfMbQqLheFfKcVTp2Bj6PxbNYw\n",
       "n7xt0D1pr3sG1OkmMzVmdTFgd22OlYePHBaVb3WRGugA0uk6un93nYfQ/PjPhRAiUFFE6cCPn48b\n",
       "HlRMkr/srR6pAi2UhwSCk7kh9sH415ChR/3hUs87oodcbIQmzbZCfQa3k+Ev8J2OC2hIDy58+TcQ\n",
       "lc9rlYrQVQQLKz6e1Y3PriBFPSqmdFS1MakFref4TFh44a/lL/gS0mns2pHwBX2CAZppuJagccAA\n",
       "5puA3uqDiaTnJ4vEdI7e6rg+uPmEP5bXpr1aIW4j/0HdKPYsulXSw0MyJN4tZv8Cff/B9r5NjNJP\n",
       "irKSiL3hZ2fnQEFr15gwTJW21LnUGntAqwNNJmyRPzQQkISZDi30juQdI0kXICKd5udmbiBoNkyx\n",
       "Q8rO+vuBbrxfFMj6j31j0mNVpBYrWh0GjAo9yfts1rt2ib1Z4ggMmhU6ttqDKmciAo1Ed1kgL6MO\n",
       "b7JTd7hImppgnf5NzWKuy/6KGy5GzPq/+Q9OO+gSXasy02jaMGzsKTyOvWXHzN90Vw41RnbExO+I\n",
       "6tjnnTAL2DEyzUslKGrzasAddSkFHyTijDESVqkC40/x39mhKl3zmeTXMKAsHBPBf0DjBRI+EYPp\n",
       "pTqEf8mr1DGWv9WFoObdE4bgKr0NdhyNlzW6bGyfev8AKm02tWYggYjBterRm8I6btR9KQCKaPvw\n",
       "TZl3RQhlX3BicsEjdo4j6KcJOrT///Td6oq2u+5XscyjT6lyzk5mC62fkpRx8KXfG8wajOYL9lSH\n",
       "Vyc3P58xPRIWg13+mi+73OBWfOOtXPSBk9qOxFkXoKpRNNdGCZGObpf0WX3JD6nOi7gkaYoOZsz1\n",
       "wJpi96/KUUKdhTgQDjWR0H11gzYkiBq1sCJzSlvSWy278q1hb7O+/iLQhv1RUvqJTclOYykJPM8e\n",
       "dgrfXnpAoT299aKMWvoHpYYGut5VaLWrCgB9uzT56sZCbo44TSOsyHTygbU7VvM436532OkUWcPt\n",
       "gc8epfOxz75HflUgA69SdR0ZTNLiiVTPyIGmW6xJbbih1tVNsyjP8t0TviGqc3jIw+qe+VBj09+v\n",
       "lnYbsVxhBftfOEK/e+MAnm7PpWen0KX0a8F7xM76EBrLK1UKH6U1MEGeal3SGuFIxavKVvB0k1y9\n",
       "fad5NlmOf9/Z/8CZM5DNoOdt0QWK3lgiB23mbipbRM2uQEeh17kNmHkd2vlm6OGTONCr6NpKi9RS\n",
       "VVYnhEeUBmh02+XGiJsNu5G6FLgHk9CbfQcsVlYZmrLhjyDlj0i2kICMQO732SOs60Hh6Mh1oD7u\n",
       "YHLNuDo8FHP6sgJ6DH7A6AAsC52W/qGScwc25T/8AIFTFhhZjDN1IzQXFGJBcT3oK1naF/5GZoh0\n",
       "Rd55sMGDNA/Aek1Khdovh/+QTfRA1P7zh1n+T7+wHNOHZF0NbfjztPpNHTLAcqsiGekklW95P6k4\n",
       "Jv/GZyx4a9YS8SjqooNTjZQGdNskyCo3rrlUd4e1BlCe/UU0/EQVzM189CY1/UowxWSRi5UL7zV5\n",
       "976H9KccyT4AAYMAAAKJQZokbEEf/rUqgBydc15EABbhaRe0QIPLMR/5+zkt9Y3oAqUjDvhcBZlj\n",
       "Xy3crt+uG2EOm9GrXV8/DXWsqJd4nDDFXe5ppaz5tolWeEobomZBvCR+mhetS3FincABhSbolBT6\n",
       "alJVnwI8vMbS1IbAJUEfgNfQuNc+BjCWzb3b4nrfjsbdOnoCo1wpOffPsl/jWdlQnF8bnEGSSG0d\n",
       "fuAWIgkdQ1/33bubdYNuAy5uLXGkOR+KGBLorv3pq/qR4YzFclPzhIc5qxuaaeswPurKKqej49EY\n",
       "Oa3y70fOZmNdoxpCMTxwxqGR001YhhxVxgT1ffh2wt1yK42fX8Di1Ttsw/bR5chdFCYcNV3W96ZP\n",
       "UvSW6RXE9hMxJZsmySISBaH9ZXWxliquXxVWL6QHYhdkIGU1BnwJZ8Gsht/dfWCtmPX/alRBAPBV\n",
       "UHIUQoI2cKmJnLFFP5eC3F1yHMi12n2Y95F+H8FkUdJ0uU6Y59szDOEgPKGKgK8ALA9i5Ul/ZIN1\n",
       "aoYM3q4d5zXP3vdjEJp47Q4MXa/tvzLU0VLx1/ADYK4aXbMtzXHerZEx9cBX/Vunt9wGjuYUe9jq\n",
       "+eVwadunEflAo1/lo2wCtVqm1NO5Qszt/zTt/qgn0s5fz+YJW7Z2nTf16kw0vqfPwkzmafrOVpuP\n",
       "/88Xq3lnYbI+Ob/TlXF6Iu9NvLLrNiN53yHzw/DbKZemMVv+w0LQx3PC1k9G/SbPG2wT7geQMrAu\n",
       "+B5KNn4WGx7uivWiNb+d+y8qtTYJxIksa9F6xWz15faqNe4rybNeD2vly8m/iExTiWgQ2NsJ4K/f\n",
       "ZWI10VF8buZ8cwBaN4Iyb51t7mXiZxLUjqpr8Tk1dJ1o7P0JIAAAAMFBnkJ4h38A/9/zFeKey5zn\n",
       "UDIaMCa/ABexepAhPBqzStZVx2NmS8utphA8IiWsQXU1+Wboy+AyFDDT4dryh7iTHjgDGRI/bO1b\n",
       "r3HkL8RtYPDs4AkqIVGnmCqhqUjTYf7aJygzIbIMTIj6MMr5yh0u5Kx9NH5c9ZrOcYq8AG/NOH0p\n",
       "5gEt/RYWDBclmSUB/N9kthO8A4M3BbpIUulxJOtNtCe68DVueYyy+vBOdYvBlQ+5XXNks/WGHRX2\n",
       "4T+l848dAAAAdgGeYXRDfwCPPtDTaOi4xohVXSAAf3dq6cQyWXjF68gyVxcOGhT3XY0IAKp243Po\n",
       "itxiMHa4LIB8/4I8pwFRnM09m4ibx+DQVxZvJR9KYWILsMWGFaijcRrPKHXKpVdIDZ30C9Wfl8Qa\n",
       "MASQHWpOmVOWlmB3A+4AAACeAZ5jakN/AEdr0BBUAQ38g3gA2UFmu+IwKGXXlKQ/Dxkf9+0ksRqS\n",
       "mZiru4/UDE2ySL0Ej1L6RAm1BBd8alYH4QPr70ARjK5TsIJ164sEbJhzubuVtW28LRJYD59QUYim\n",
       "nivXz/2J7yf4a8mAvrXC/VdoePQ0igJ3cNNe3MRtmXMZ/cpz9my0knkQsPQQh7uh6PVYmsas/59g\n",
       "WcMAakEAAAI5QZpoSahBaJlMCCP//rUqgBx//6AHHL0LNi9qZ4WbG5s2yyoembObHTPkDBnJl3Re\n",
       "NtiCPgDxDAKMJeJSDinAYtVQgl3ItyoDUzdERnu0aEvS/a4PwofuoyKpHWzC/A0KqHJfY44vVytp\n",
       "evh9spOW+TtRjiTvIdoaP31aqjtUk4IkImbP/B1hrqLv/3huApCLLHEYGlIM48k8GntFJCa9VzNt\n",
       "kzpvVlKVWXJ3ZyFNi75HhYoZXIy20XzszhyfTP9nm/u4mDMfR9g1mn39ImgJg+MUlaQ/CJcrKNP/\n",
       "jI1pqsGP0tZpmmanna/3BdNTbooE7IryTENup19g9Yi81oRfjq3ZLfb0i8FrvlFmJsNdhwBjSr3G\n",
       "p505hdyYt3KQRaFnMTD3hn5HpFV2ZOHztLCUJHMen38Onh14gOQykccPjBxppyX5UqgDfKPERJW7\n",
       "Zzowwipa/hU24XrCVo7xrPYB8QCuGHLfEUsxWIdageX9wkGHt8WvA7nRU4uXUlqiSOFNgykwxVnZ\n",
       "9M8yJ6pa20jb1wx+bePQPq61vuj7xHcuhaRis2cy3OvTVvSGuO/SSsxSp7mDCGVE2PrO1fkLMSn/\n",
       "0Ar4esbKK1X6zJDTTijQq8Fyiwi9WRAMxK/6cAOBfTIPXfg5oOqr6CFKDv9qTeqJ/z02X4JBZSc0\n",
       "+DMCZwVd2J8nY372V+kyJo8WBgw8ahWokgB8vD2C0soJgOQG7LfoMWaCEirLOFcKsa7Fo+HlafFp\n",
       "H+c+tqeVr7EAAAChQZ6GRREsO/8A/+F+HHUADrXP7EJB7fwiiPmRvyDMU5aeTT96dx1V39Bp12vT\n",
       "KHHrgNNLqzyf89Fq5+Jr4X/PCr2tusfZHV6rPN6yWAwy9fKt7JEE3lmu2thOczNivGxLJBdMXQ//\n",
       "J3/Qc1MusU0jqXBOcr/c6BvaFfzMZWaXkFXoz/pvXzEMf2zsehOvbrg9iBSiaRQstAtX1DmCbOt0\n",
       "hIEAAAB6AZ6ldEN/AVeFTIwqACIPZ2k6dr9YXSr9xipadiqJhoy1b0ADolAqkF73O4gv6/4ywKmE\n",
       "zR5EjbM5cEZCDZDOZkrxw7ElR9xge4MyiqRnmn9S/rpg5eBXWDGbGQTUhdiq1WHvcgaDxhSJVHl/\n",
       "E3sUC44xbzrWtsQKVMEAAAA8AZ6nakN/AVcBjXZhxVKoidkmU9yiA+HreKkSbXKbSpdqADZQWSXP\n",
       "JDtr6Y+aJ3zHK/lFmhX/Edw7CoxYAAABD0GarEmoQWyZTAgj//61KoAGU5l3C2C0184AON9Kyxcz\n",
       "Z6nic7TcpYFQla1sALCe5Rd8PsrHwhgflE7XFN/A/8zQgAIsdira1iEt4I3QafjGKERA2K5oDqUH\n",
       "u/tDbeu8d7We59Caah1zZy7v+kXzxqyTbj+dpGOxVPoFDwuUOpKWELdV54VqoLJg9wA8Sb5L+TIj\n",
       "TOaLT8BXrLGjChtOWz7dXkf3tWY+w3mRVtFLRVVf+RvqPYXPEBZ+4jpsJ/F1qZojvpPQRVz77YYT\n",
       "voWxKkT/tN08aTIfhTOv3dg2HpOdhQdF//tZ2EsKW0o3DY8I2FPVpR31uBz5noburWqdy5bxBssR\n",
       "w6wCFWpxp9F7LcAAAACCQZ7KRRUsO/8A/+F/rYFXdG2F9pWAAIyugCRz6CsH1QnZNt5d2HHQj3Kh\n",
       "JiTu6XmtWEBQcgp3CPUzSJYaHU06uM97fhj/GdRTjpP6jJsubBb+6480l2KZqmVdQ4t/Wbg5lTYs\n",
       "jHOk3u/CyYRdtM7X72/niN2xpy8zqZmaVIWSfF7YwwAAAFQBnul0Q38AAkr7LHfndC1HwAlh+LoM\n",
       "NIYaSza478Q4qnE7xiOw4jpz5DsjINRfKlN80iLzfU0+b0zWlMScRF5ia+3GXznL8/T5AyMsiXtt\n",
       "4dQWKxAAAABOAZ7rakN/AAJLXsh5iBuAFvVG7AF+EG5OUJnjA3Qjqy/Ik1tjZp6IWZTJPMbuJWt1\n",
       "Ce7FjDkXAjfFl2VufV1V/rJyoEddsArRLSOF/6C4AAAAxEGa8EmoQWyZTAgj//61KoAAKT6S48TZ\n",
       "NuzmddEjIhaAS4AFg6pP+a4nfa8mYl1yY2xkkFjTwpQuoKMXuFLRElLFtWRF5MCNOIxmBDv3FCXn\n",
       "JA8ZO/8wZaS7i5LaRd2u/pzePBkuSdesOvc488zmUnGdC/if+fNu3MDv4DH6XDDwZuO3ZFz+FnoX\n",
       "kb1UFI2b3YMTEnTW3ixIkWWy+TKElAoLm0hRsoI7ffBUHpgHhx8yCF0kK8xPhNoyyeuXLY9Fq7ch\n",
       "hE8AAAB+QZ8ORRUsO/8A/+F/rYFXdYLu8engBx7oBfW1BbQM5c1M+bCOoLUW29KwjVW8tc2NQXnw\n",
       "DAnIDcHCSyER9EBS6jnRsuqJae8yn854GLVGab3Jj2RnAi5nHVs+JNpp0uw4KEjlFmww++HRq0oe\n",
       "r9Z5TYDBLdm7kI71I60pX+5xAAAAYAGfLXRDfwACSvssd/JXAC3qjdgC+q/ok8xCasJeNkO3TPx2\n",
       "EZMdeU9QfWEgx6AJrtMZi27dVcydZY22BLFotyUhEEMocUXTdk+pLoCl5RJAXYYI+YoMdqBLZv81\n",
       "r9eooQAAAGYBny9qQ38AAkteyHmIG4AW7rXI9MTrqhpm0aaw+idzy4RGs/ZPUszgskbTJ2tLui1m\n",
       "W4YMWUuJXvQxfyMoYAwEhs25edyeQszKwdNFxhqGUnTkP0sTC9l7ESBwZJNZrbtH6K5Blw8AAAGf\n",
       "QZs0SahBbJlMCCP//rUqgAApfEf8LEK9QBE1kKaUQnxXITuCJF8pK9lPiJFDtfz4jQ4BzVVe1JNY\n",
       "L8LMD5t2gRMQIv0+ZRwtoCYJlhko89KYb9QC9QHTbBsXnkJYHvFs97rXNpPoHl3JJLqwns+960zU\n",
       "7cXPCcb05rHzYBzdkD+PvffLtTn/VU38ULvCX8X/LPRAErKgMxP/v9mq422d0xs4HRcZrYo8WerN\n",
       "dePNAAPZd9z4UQ7NY+ZbdAm++sYZLE33VY/IW+N86CLh2jwga1gb1QhIZMgcPOqBb2UyOrdAJrUd\n",
       "9AJhqDVGrfhlorh0tzymLTafQCGkEHejYNJ+x+cviKyCpZD4R/mur7nv7ilafi8XwASSOZWNCYrA\n",
       "KgnVw89jB9g44Nww6EPXK8iloL1Tt8ohuXk9jsBZRAyzZ2ztPrEF0fkmFDIryTz3EDunUJsMwiNA\n",
       "D4NzhFpFVcT19lY1OKixwLq6aBD36lKp+X0hr+/BFzAYaNwWzeSRr9dTD9kLWE+tLGQLZMilENnC\n",
       "SxB8U7OjyK66dXHL5X+KgAAAAF9Bn1JFFSw7/wD/4X+tgVd1gu7vLF4AW0W6yLHISSy/Nb4rvXo5\n",
       "in6i9YnkZX9qath0toxDjusdMScLcAXyQ9EBYKDrPCjS5kzvK4TJdwFD0V6/hLksOsAyWVISOm95\n",
       "YQAAAGcBn3F0Q38AAkr7LHanyABdPUxQL35Fw3jobVQm/srPQWeXCOY1mczx8W+2Xm/ZI9lzf9WX\n",
       "I7uk4z2NExHTDB+kbA77nUqAStfzwFrj9MnY75Pm+o7jthcwk8djK5CfmWJnDaf9vCrAAAAARwGf\n",
       "c2pDfwACS17IdDrTUxfQALpHQ5V7f/dZsupFhwMjc+w0uWJP57PdpkV+HGc5muqFcBfeDMpzzoc+\n",
       "WfrRjFjyviTXbGbwAAAA8UGbeEmoQWyZTAgj//61KoAAKUUOoAFvXpkz7sguY6whjTDmtlWu58/j\n",
       "8P6xB9iqsE4Cy+EotIW1ExCy0cnq52KonO7YFroQPdy1fjAVWOrwaJvW7gKk2DLA1I7v1TEiHAF0\n",
       "eThMeg9Rtf/58XahvfhaK10jtdljqg/VXlUij4lvBUY/89+Tk/zo0DZM8WpftaczJzEzEkZT6a6Y\n",
       "KwahuJ+VrhR1DrpRCZ+W413o2fsgNwTSZyLT1/dkpE3K6tT0Q0eqvhc/ZoUWmOt4ekUMig4bBqng\n",
       "pGSnafce2ACf7hxqMUPjUbM5ApszRfoYZo5G4hsAAAB6QZ+WRRUsO/8A/+F/rYFXdYLu8engCPkM\n",
       "SuMBNNqxi9LKU3M1t+ImtePoEpTJ+phGI+j+u3iOnpVk1V2c19lDiNwm4/ivYPXyN5vJMjgBagnW\n",
       "T7LbrhlnaanNoUQwlLk2Gv/GJF0zwiXZUO1r/D1rSSSMVtiIEXfYLJAAAAA2AZ+1dEN/AAJK+yx2\n",
       "hgHNvOTu4QWhQAF1VnNxEs6OeL8On4A3/e6lOyUlHkG9qANjaW91TSbfAAAAUgGft2pDfwACS17I\n",
       "eYgbgBuxKdGtdlTSdi7SdjVGzQ0ydCi1m4uHyTH6wlBoGqE+wIcJ2pwRAJ3OSZUFiKbjyeK2zzxn\n",
       "/MpL1Co+0h/48j3+bRUAAAFuQZu8SahBbJlMCCH//qpVAABSlavVgAW9cKodX4HdvjY3+E0hyFmJ\n",
       "LaLZ516w/G6D2V49hmarCO/kCkUHknsrP/6mW+J4mU3JyMrvGnGSzV6ElK18fMCpknXxMkKToUQ6\n",
       "KDJb+5OSZ71VgvojeW7gyBhOwfbi9TEE6ijNm4ARLli8texv39rijTPQ/wghAIyyhCxlEFtkcDQg\n",
       "IjYsaUq16faRKjhsjnZApNYOavAyKUpDvVBfaN8mEpB14hkVOVwn0fPhrGs41ElK8g0x7xP3i8NW\n",
       "jrWMXJLZ1tDs8k9xBGGJtobZg0hpCkwMyS7WhfcTCUs7hKZ/fKsawKAdHFqQE1RMMwXFjCALfmqn\n",
       "8iarP6RlnFM/RYw5AA8uBiCrXNjkZ/ikcSoE6e73drefN9oamzPMLZJt7S9me/FB6mJDJhQUvyx0\n",
       "oXgeMbFLBfAdVIo47ULkSKqNf0xP8GJjyIwjmxD2fdYOalUoA+0PuTdYAAAAg0Gf2kUVLDv/AP/h\n",
       "f62BV3WC7uzkvAC2kMSuQ6bL+V80v+LgtArsTs5LFerw7gQWmTFXm+yV/gIScMLQWLKQ+U3NlgoJ\n",
       "OIzEhxIvsrk4Qx20d1i+JtV3vbGYjGjgWO5REUUmXbt4fGIKUknTw1SupkH9bDqG2WYGntEo02tZ\n",
       "geVBbjOxAAAAVwGf+XRDfwACSvssdoYbfQALpQGcy2SI27XS/mAvsNfC9A1ie/UnrkhRGM3UdC/1\n",
       "YPq0mW3qV8Wz073w4go5C4DCXja4eXmUZh+zUZESLxK8NB97/IH5HgAAAEoBn/tqQ38AAkteyHcw\n",
       "3AC3qjAMnReNcGsqBhrpV0AD0pF/efCLKAbz9NhbGhG/zuHNCE5qbANKzCFQU7pqPUueDyLqB12g\n",
       "G6y8gQAAAS1Bm/5JqEFsmUwUTBD//qpVAABShvRAAIyvOSpXLPcEzMHNXbCHyP5r13fQLz1Fdg5j\n",
       "AObf1kRqV2vP+wsGqHpU5PPw6k4TcbJ7p+rMUUhrKVrkLah/sYaKO2Bq+OKE5/gBeECzIHKUb/gl\n",
       "guVhNkzFHrcnmcsrPbSpnu8aWZ4JWNN36GvyF/cK0hSROrsifyP5AKCf8GY6NecBWSCUnkXDTwfy\n",
       "lWaTQNOJAX/pIirneEwSRXsxjt3vgkTUMl5b8bNF7x8dwT+e7epMJs0Tm5ktPgl2l/MhpZqBYRKU\n",
       "qVx+NMoXUG0FUjS3Hs5QRzBa/KhuwfR509sNbMjLuQPAycaZPElJq/YaH8fMRG0a7WlVsvMGpzxs\n",
       "6os/6BWjNlLtLfF0jt5Wsse7sz2YN34jAAAAeAGeHWpDfwFqprBRYLRMRnHJ6Ouk7UALYJMaxFKJ\n",
       "G22KJY8CTrEnn+VgeXyIND29/eKyBaeT3dKl0IGHcw+QuVFQ9qtnHuvjXo3CNoGEuMsHFt+dvikR\n",
       "sXYnrmTht4KnIF78p1kA+3emt+7gOITg8HoUnOT0euGqYAAAAIZBmh9J4QpSZTAgh//+qlUAAFJ8\n",
       "fAAEY/j6lYmmpm2nso30XCwI1BmJ59gzNBcdQYBTUxcq7qVC0lWiA7dZVk++5jlURjaWHR/uK+jM\n",
       "XOS+5Mcmbf0xSHXTd59WTH19XgClcmmJSGlsWcpvWetZOAEuaLERbATYmFFGPFqh1+ZrxkWS8EgN\n",
       "SwAAANJBmiBJ4Q6JlMCCP/61KoAAKT0BIQAHHvNgyfs4k1MVSMfvBTcU+PHcngp6lw7Y+R5RvN5y\n",
       "kdLPozBB4bzJFk6osSBzl0wjo9EfUpnPwtiusrCBd0MQ6Eb8X6Esd4/P6tf9loitd2aWbitbTul9\n",
       "/4uR4PyR77Fw3Z3IlX9KrTSa/1EkL6jxGPcHokLTXaFtvg/c5GzEgvgqDecuRizOT40+C+qM8rHq\n",
       "Q5qJm0B8gyVuLqnAocWBCFUND944ylo01y3PBHIbrUEdZF8blVC13XuQABEAAACSQZpDSeEPJlMC\n",
       "CP/+tSqAAAXfJeqXp8xACWq6pHmGr/DzCCtQaL5qiEQfPOWYDskvGqMFhoiV3qZQPMTFGiRR/txo\n",
       "NRmTq9k/bSsZP7iVLtPOZeQfyNj7JLG1td6x/VFkm8Zcoodkg5YkBTkiXW1pJ17pN8P6in0+Qv1A\n",
       "ewfd0fIeZCZCHa8DdnB8CFaLkYfE09AAAABcQZ5hRRE8N/8ASWz+g+M0uAK32aqkIhfOJQupiazw\n",
       "Wq/z9JFDNMnrUNWVwsQjbdnCfXPqUd1wnsVyB98qVqCrNDI2yIsXf8mDKgu4kFJ4uBJGVkD2LPFU\n",
       "O50+/58AAAA4AZ6CakN/AADilCBEWkt12bwpCTFeAD06WeBdeJ8qW7aswmY7E1R4rUeTLaj2shS3\n",
       "nY1KpjrC/MAAAAF/QZqHSahBaJlMCCP//rUqgAApWGpmAAt6ZHt9vVPNIakvqLbt7VrTViYqOkw/\n",
       "K9NfwDqqz8psPq43DKpFZGmuO2C4sMcmmrMneNmIUc8sCWbCRIpg/x1brjnJjD17dxckdMpr8UC5\n",
       "UlPjCQ2vXr5j/o01woSNjbys67vmwoCEz8X8W9P0RqC/GQwyv+4Fj5baMpHXXz2i/ZiQNvlG+AF7\n",
       "9ALvulpUCt6/r15oocZ/5XPxEQ29cFYUQ3iUufdAGEBL+Bma7mzDlpe0t6RWcc9vrpVv6Clbodlm\n",
       "+cTUx3UW3JKZhlQ4WuSGMZKDcHk0rH795TC8ObYWyk8d/EcwwzGPCWTkZWbVNp4V4ND5rtJhVqjX\n",
       "U84FXzvGoIim0bJFKJjS1CsdFIka8HVrcUROdj9EdqiWpgzIefvYub4QyfTb9Ae3tRCWvfGXbBBR\n",
       "MPJBMbD47hcScvm6aT6dDpBrczu15GMum7DDoEKs449gddcsgSFwW/9cUEVSYZpdp2FbGGcAAACj\n",
       "QZ6lRREsO/8AM+SAFnPUM2l23hwA49zsbEU0C/fR6kJ3jocyxISpTO1pxdXai85u3+0d9oJVsLzQ\n",
       "GxYaW4lNxXABGwDMoBnpRWc4haaDXGzm2E0K9n4n3kLs/GKvLiGHF8umrtSm3AOZNqmNPIQ5MglE\n",
       "14pqG9+SS7PqSG9f7nbSMtGYRa3Ag9+0FMPii/jT3S1aoCmxmmh7pGzDEZS14nRMWQAAAGkBnsR0\n",
       "Q38AAkr7LHQ7GlpAAukcvphLsirbJeD+/R63lkicQc8etnhlMD7sDP+uLquv9DxrL6ho4g3DmB/m\n",
       "Rq9VJoAth+Ajrs6eGOtIzmC34pp/U1zbxqHPfXX8yUihXvmL76SDOiJ4z6kAAABWAZ7GakN/AAJL\n",
       "Xsh4gHp9AAuggVhJ6NX2TVIOEjeegwOclfT0Bau1qVtcs8Fs5p2I291zUmWpyuOhLP6WSt++z2Ze\n",
       "6W8efbgUn0x0K1seQg9gBBqq4aEAAAGzQZrLSahBbJlMCCP//rUqgAApTGpRpsAWDe0CyVIpEeTH\n",
       "eNdIP8CBGj7R2a1z5lNWfFb6wMdVaf7hfHCEc6SfVUXBvzFevr6TNqccES+WPxVeVpmym+GmCpCV\n",
       "EERMKLr9lifHyYDh5DTu7OLOyC5663cl3NK0aEGFxwFefcVFw9PDlqQoQ/8R9hb+F1Rr72gvhPjw\n",
       "83pb9vynQcVDNBCHyDX29dIOmsmFivKZAzygs1X9Sq10/b1NRYAY8EMyGIMwApSBI5NV0uL5oK+p\n",
       "ZF3gCZtvf+/6Sh8buOtUP6EZUy8LOUgYozGkNfJJ/F8koaolemo3JHLlHKL0wveuciw9Z4X9E2FP\n",
       "UizfKlPar0a4fmPygLy0MWXbV+8dzXQTVCQWDT8RIHrqprJl3NAib3KVRc024E6UbIix3axM91Sc\n",
       "K5FNUEDxtRTXl9zUmU0a99BiTOd7sjSS8oWjrtIWFfK4sBUzZFba6iTcm1WIyD5hqFD4lS5YecEd\n",
       "QM5t+jVujC8BrOlP/G7uoCaPYM3pM+xJ9kIFV/pAljwhvRAvrS+Aa7hE/cWoljCM1XYCf+65ojUB\n",
       "L8JcAAAAhUGe6UUVLDv/ADPkgBZ8GHHSEfgBE1UMm8i126Ukj+eHGFe3xwnQhLVetfwxLJeGFS3W\n",
       "sKWCjsGDHAyb8suTjdOoIqL+oELRMeEPi37q4/KWVnp3x52gbeXEKw9mk6T7HkF7PmnaKWsd7r51\n",
       "b2wwZcjvi5C8BqSVPt+ypJThPZFfz/5rrhAAAABsAZ8IdEN/AAJK+yx2p8gAXVcl3V5lSjRaiD9Y\n",
       "Hp3MzVl2OlUxMQfFC5WEhsvLCbTWX+f+92ytd+sr2ONWqypJVQziAcGqMIPzNAQPmQQXQCy9NN4c\n",
       "fqO94J5UuulvTW/bYRNTi2kxCjhBfHrRAAAAUgGfCmpDfwACS17IeYJBjF/dmjOTVdBEXJACBk0B\n",
       "VhoVp6iI1wLEToh2sP9ET/Ntm6OGZrTxnha+aSWKj3JkEh3eASHbdWdSAqZSDA33VDVg4UAAAAGs\n",
       "QZsPSahBbJlMCCP//rUqgAApRCrOwBGV6ZL97ev4zyzrVk4Yh0InWkHTOpjXnbC7dEl7wDlXRzOo\n",
       "nibdFDPfIaawT9/jwVaY5xhhcTBjb5hZpz6c8HBoe2PBcJrcW56V/pfugPpLjOns7v1N9Rz4ybak\n",
       "Bg4Gi0Tf6qcA9kVBoFTG6HzFxAVOlvUW6W5L4yByW0bcfIWIKKrcEnUMCFRlEZJaGlCNCbYqdfb4\n",
       "ENAr9WwBIIKhhO6eiB1JGc/e92GIzc1Ns0zNocUB/7HQsWPvFHhQ/jQL13KmwOnzCPCzA9sq2YB/\n",
       "D92UdnSv3Iw9GoV5tYNpfKxCMVIyWQiI1XYaG084FOBEBNJMsADKBADEqEZY7k8oebjhGz9iDeGG\n",
       "pw2IniAeUQHfiBaD+hzhRnpe08c7pJVAExdU2HFPql3B2T+6fPFTS/OZbFeyBHV+lD1DYqh2jEmG\n",
       "lO/Kn6mWHMnF5e1RaG1mXlQw2W//roNcYaZTVF5eBfWew6ri3dyQF4dG//+s3hsRv2+q3CsFD/+k\n",
       "qlOMLGPrfIEI4y5ZLsZ0xSGaMezyXQrLvfk9NMAAAACeQZ8tRRUsO/8AM+SAFnwYcacVEQAjJvJw\n",
       "yJFojgfcOGsiTThp6BnuykqymkPV85cHxHZ7lEsyoMKzSzfKZel6jNdMA7pbmXwgVsy2jfWUvUA+\n",
       "PIjxjRF28wQEPf+yMjoLNSSdlBjci73MtOFCzRFkl+M8lhEMxsCH/F1Jx9tAe5gi548uL6ZAgvs+\n",
       "WFd0JTrTelvBuS16KOGMDw6o1hEAAABkAZ9MdEN/AAJK+yx2p8gAXVcl2ULNBczwCdkMzUS0Dqxd\n",
       "dT+bl/NebgP+fxkNlZrL96CsvGIzqMCl1fCoJGYxWVPKvfei4IujfB0RG/iEo0O2BiKdim+NHjCT\n",
       "j+m7Hz2+dLOqwQAAAFEBn05qQ38AAkteyHiVrgBbvUxy4iEK9yChnTlty0b8jVTTf/jcvNpQ3aeq\n",
       "nONvk8HBEiX7OyCLD2Iji543GuOj4U0UhNz/hmCqcolue+vOW/kAAAC7QZtRSahBbJlMFEwR//61\n",
       "KoAAKUUOoAImvTJNXuunNz1hdIjP5/izbUysCe1/B6/qZsT48c3PRxlF2ngtxjLlAXUJQB1gYx7a\n",
       "6/zTV57CGw1L1JtVBR+kJboO5JUUv9ylrMw5xWFgEh4OI5ZWVQ8BLKjti+QtkqUi5VRk3j3tkoNx\n",
       "/DbXQW4l+5MPOtjbOewD/ArAPz6lb/2QB2AlHTSAUSMVLYFr8QnHWd5FqgSr3XMza7W54xQu6LEa\n",
       "MgAAAEEBn3BqQ38ASXIyTBV8Bptn0ALZE5+HESWXT79nnaBOf7df0Jq77u03XZ0VzLD8QKvl+QtC\n",
       "A9FBbNaawjPVbGsn5gAAASdBm3VJ4QpSZTAgj//+tSqAAClNJvkAC1NgEbsZ6hQCLPr7jmf0RtTD\n",
       "KzVTekQc01ukje4QrvBzyycdCLzDQq6J+YU2o+GOuLLQwQ7GA8C3ucTzw1Qvip7X+DOicv/HrUHy\n",
       "zNqmhJJsq2DJv69sZ/0N2vyUbUJ+kvj7vl4L9uFc3jMRoHhoRgbieVJmyM2umWnf0j3hY6BJRRyb\n",
       "w6HZ/spNucxKrMP5RvZ7RhWjnCpgGcs9PMy9Qd+VpjC9T+I5L76qeE83NVjJwhRPl668wDAOkJeD\n",
       "SSXsGJcMpZytnDYL9ohXtae+8lQnzCXpwkMScBoBVd+HhHHPvlQzqS0Vac5dFixpKkVd2Mo2Wpbz\n",
       "bAxkrGUlYb3Q+4GNDPctlqof0lfLvw2DoIyBAAAAbUGfk0U0TDv/ADPijRZ73OEsqn4AN2QXMEm6\n",
       "o1joK+MHMZtJObZ+KA2xfHW0vTzwFStY5Md0Tvk2WmnPP65zWI0YcFx9OQBijUj1ljFWFyrBDJ7k\n",
       "MCYuk4NQ3aVoMvCEv4oLi5wz36Oi4twsSBAAAAA0AZ+ydEN/AAJK+yx49DABi+525DpQAfmrsWDH\n",
       "5GR1UCUt11W4hlrunlKWr7mTjYLpY7H5MAAAAFsBn7RqQ38AAkteyHmIG4AW9acf6a7ZYprXFdDW\n",
       "9UyKRv5rh99KaeJK+PgUgyIhnK9qjtpXL3JbeZFcQjIXe/i8L2vKaVOIFSM3NyTsA165saXn07cn\n",
       "+w+B5t0hAAAB3kGbuUmoQWiZTAgj//61KoAAKVhqZgALemR7fb1T1B7kl1cBtHf30MyTzOFgUZEb\n",
       "1pRItCszy9XhUXKbB7d9Vnp0G5Kfv/zR3sz3/kzxILl5pgGKYDOLg5y8Jyvw9rFunBNnhBiobyG9\n",
       "Wopo4IanJfKBpeNGfeioHw+r+dlZZP6zs9vAF0DQz4hkmf0WcBv7CdawSr1yFbtg2vwKdHBA8AUh\n",
       "qspXpcVaxcJAyfwzbUbDpKIYmaPuTHaUaxDLfWc3ZKVgJV4AN3wi896v6qUPUTi9gwI5nHeWTZdP\n",
       "XQP1+99Ct84rNB5F0LrAV4unH+L4I1Fcuyc6Tvn7KmfQMuzpmqzKzrw0xM4+y6KQgix3FQvvWr/B\n",
       "FPwKnYL7iiMIKcA59DEqhU7Veq3IO+TTkagYWfRPc7DIMBDIxnN/Z6dNtPtRmnmUXIMqPAj6RZ0n\n",
       "nzvzwEgvKBHvaQGdBlFmIm31JyS+rJquQkCJYMrInxWkI5g5561//jFwi0BamQCB5pWKsLFc+wz/\n",
       "oXa2qCK3G40YHyoHDYW3NaK2Vk0ZBBdeP90L15kiQstarDpxdqNTEShUIaKSTFakzMzHWuUnmLk1\n",
       "P0gWh/JtoVgTXFHfX0yMukmzoQEjM+ElCacmSb/pY2AAAAChQZ/XRREsO/8AM+SAFnwYcboYsjH0\n",
       "mAFvVuC+9CWjtGk1Pv+j7baCHwSDtEtXbgI2wAIDxqDl6qkYqi3U4pkQbpKCKnPo3MOnLAzsup7S\n",
       "xC9ZLrSNHcvlhYBDQq4gJtT0aNbn/GckHHlkY8hP3XPCchzgBpNXYm/0rTeS2I1KDdYdN9IFUxZX\n",
       "KB5TmI752uGr9Q4s7zW9gJMcY5QMu5MDdccAAABPAZ/2dEN/AAJK+yx457aXoAFztEPASBeqe9WZ\n",
       "NJ90ddEUpY16A/WIyRXrDtsaQdhCdKlWCrzU5XThRVjwF9PkB7qa9dKstKaOzxvwZg3UsQAAAHYB\n",
       "n/hqQ38AAkteyHiVrgBuyEZyv2SddHgMtTy3tNz030Ybo78cgkS50Vy616foqqI1DqO/VPHNGsSH\n",
       "qeeIpvBy/w45PqY42zJVmsPHBgWWoYGlJWqRwBp3R551gT0YLTx0knKn7ctZtmwOrxdgB/GZdH+p\n",
       "KUFlAAABpEGb/UmoQWyZTAgj//61KoAAKU0gDMrgBdJcS4seV1Wo0XnGSOP+ltdUzgImsZ+qj4if\n",
       "0t0ZPa6Wpmxn/EMEYb1nupPU0mHel2DqTEZ8TDCqqwxcusjtIkSmDezPh8ZKdUvLvE7Nk992upMf\n",
       "KhC9YZ1uMhYxRReZUo5lUBZ/kBgyTcZ5gEW/spNrQusM5l1QS8F8lIWM8FmFTfesgT4TU4KEhUcR\n",
       "+AJ6dCRNK+g37QD0XtpNv3kKoHnqwCnQcV5biefMQ/NFLKwFS8H/UDnivZsa0+Ybwn6a4xJgkSjC\n",
       "6WtgbbZf07S2WJoPH4bmg7S+7T7bkU0C+OLMK+6oUL8MM5aDs7pI8vrr3523Xd6Gsd4yoCOnSn29\n",
       "xW3VyaEkhqigLtg/nqy8vT7b9N6f6RR1E7+TdGuzqlGE7qxQ45tICnpMExECuq5sGwqxx5tlfW+E\n",
       "mRlWwsMdZ+FDthoGPHx23Ym0DQoM3eyJZwYuMBM7o7X9y5HsqPv3YoLLvgA612IRBujW7nKY/E+0\n",
       "OnjNH2Rzz5t9D0WnZZgt8XIg/RGetiAixQ6GwQAAAIBBnhtFFSw7/wAz5IAWfBhx0hH4AN1NvI+t\n",
       "v39+XEhyIOuWi2nuZ9lgas9JZ8iNnacclGQJrvTv6ycVqXqWuTCZg/eoZOqXDoMrKcQh/E5Sl16T\n",
       "0CcxX1532M6SAGlAJG83SF84q2dOCK8a5EYzqwt35jjJ/7Vnx9jkWfs54Ydp5AAAAF0Bnjp0Q38A\n",
       "Akr7LHanyABdVN/2SHJUi5DFlXE6tTd65EPqleDxutscVZsjQHGv4UtoQj7skRL0q6MnDOvImFhF\n",
       "Dcw2POuwnISLkQm+Sc+X48fFog7+8Vg6JS8gq+MAAAChAZ48akN/AAJLXsh20egADje78qJdfbGH\n",
       "xdOBR8IsTHSJecT+YH/GhmBzN1antq9qXXqyLj3sS9wRUZUycN/2BhoSqym1Wxt6OmZS/+1o6v1Z\n",
       "lz2Go88IT2VivvtTRurTEtz16vVMZGvmdQKka9zpU0ZSkQMZJCButGRaXgTMq+WSdVud6jVVO/FZ\n",
       "nHEaKqJVDD30m+P4wlFc4xnTW0QSYG0AAAG+QZohSahBbJlMCCH//qpVAABUvHwAAdpeclC7WOeY\n",
       "UndinZSMH/n+GenGqtCrZ+CLWsCL9+i+Lc5tuLl2LQoRLop+g+TzpoZUr5+EHw5V981D/qzOK2qf\n",
       "f5DpeBtDoMIKozjU6W4j6ooE162I+iFYGquju2NPtLl40AhfdzsflYdGkI2Bo1lXHz6+oyhTzaNN\n",
       "fELEyr89umlsECSe73DCyIHcrqE/4RTHTtYiL7LS5RFTXs617k2i1yn6JXeUZn6Yada1SiQCxd1b\n",
       "6Ko0QXCa0s1xyMupwZmnTzmIzQGCfH3y8iphycxU7AHUCTpKmgYoMQdOs3hRoO3AbL7xJ/J+jPfz\n",
       "/RjTZ4q9P8uqwrMQqSs05/ClaHfKfoTb9J0IBX05HQZdFRRL1xIs0wNKDzuc7I2aFtRLd6h1W1LT\n",
       "A5tehUDYz5FI61xo6RIEE7H8tRrdvwzDOsJtGB+BKL3B8iSp9Rkc2GJAcr/dO7MmGixpLBOC6zMs\n",
       "rA0aV27XaotuyTnTSPLwQQGq7dA1w6g2vMSEH4oFLY6efGNlIH1KyYVHqfGcO3d6B6VU9NgeRKQ/\n",
       "HVGY5yT1tmLaCnpXiH+NRoAAAABwQZ5fRRUsO/8AM+SAFnwYciHyw6eMARM3k6lNUrZaK7naFoQs\n",
       "ehSPjZPd1oETWr4EdhK85va8H36R8rpAoN/Qa+I1JQTme0dTB9Ku0gTBeG9O82adnk1zU5Q47QIL\n",
       "RaOn8SnQZph/IF/7/n7BnPV2YAAAAHABnn50Q38AAkr7LHanyABdVyXbXju07pfJnLcQDsOAl4GY\n",
       "rP2eYbLS7FdbdiotAk9Gy4uvSCQ2SACb3CtG7QKymWyRrT8bREf1e6ScPjEBNc7H/BsnFyCzTo1O\n",
       "NgbNdOE0gygUodfMujarcwW0RqMxAAAAZQGeYGpDfwACS17IpID1fQAlntgxiqByYxFvprLiQrYq\n",
       "ikisOZxt6OmSTkfJy40HcFfUqnl3DFKINpkkIcZesms7KKNsf1Wf8y35GX7p6tBFCMtjMO48DnM6\n",
       "tz9MV9K1ZajX9hmAAAAAlEGaYkmoQWyZTAgh//6qVQAAVMRU0AbbUgZWK7B8MErlJU2kRugCYfwg\n",
       "6CV7JIsRbleK5WsvcKJ5LK/wGFU/UXwD1Dg94wx1CSSMLV6xuKqvkfFL7Rrxd+bLOaZ/4qTLAQYI\n",
       "pujULhFCiOABO9GMIgervuPlrLGoEnWO/2nIN7TBn42Fsh4v4OTK+8yUB6Xn8TToc+EAAACUQZqD\n",
       "SeEKUmUwII///rUqgAAqZQ6gBMVqycg2Tg+IqQhRbzHaM72Wx3hI9CfePRc6iqFeVqgmz/rOzrMf\n",
       "vsPRW1J0avxyLIabSaUQ4tAhmEf+3LInWurZybJyLaZb6A4gu/X9odfbwJ0nsn2SbCMeXWbHvPse\n",
       "aW/p9PtdGTW5NsQFIuqwUduYm8m4dsG9eCFC6AFtZQAAAM1BmqdJ4Q6JlMCCP/61KoAAKTudprMV\n",
       "CU7rjAAup1Qvm0uZsgjAzVCFv+JPZI7EMWRb6HygT8gbaeXeIdY5gnM7SXY6Vr0oWYSEHunZpeOo\n",
       "Q+VO1pIXTfVTsA9D5unq1cvd5Tdxg1p2wP/+YzoHYHFaJ+/3tu5JXRHcLEyiuOZ/xdNB3loGsqHl\n",
       "/3VWdp0ifYE1O8RP6IWzu2AyiIsAu7az+j6R+g96ooL5o7U1MBLajwBk2ojic/f1M12mHvH31E0u\n",
       "aWdMim4r+bG/ZGl5AAAAQ0GexUURPDv/ADPijRZ73OELMqzKlj3/YQADZv4Dl0I0C4fd7xIjjb8d\n",
       "C6eCwyZGGSeQuIIn+6R0zEqP7KlngHcEAvkAAAA6AZ7kdEN/AAJK+yxf+y10UPw0ruIACIHX9MZb\n",
       "B1OYEFWYkJ3m0RoN0WS27K44+vzUN+k9Sb+7d88j4QAAAFEBnuZqQ38AAkteyG61NdGYmAAQCYjs\n",
       "F8C15wC7DLSfsleGYfz5Ihnxf7OgwyH6H3Y7BobGdHjN2QNCccMZbzlwLhfQ5Lc7VvqpJNTh6Kfc\n",
       "/CEAAAGlQZrrSahBaJlMCCP//rUqgAApOxPyCqwAuq9MmfLpfddq7qpCkrxRFmd2Lf3N7ZCS3T6E\n",
       "3foXS5PtfoLyolkqvgL8ZvfbEB6wKk4i6PoqTPmLmmj/XzmqQ4xkxR4IlgrHeB/fGJOK+JBE6bx0\n",
       "xI+9LrHC0eLH4+L7LAEDGWQqytDbq/+frGXuzF+r8SttqltXyFx2i81M2BdxN0IS4MU3QTDk16Jl\n",
       "Cln5o//YkpEDhVWDgYjYRrU2bELEjCaQTppXD4dTlhWIIKr5boXomK98sHJfJhyGQl6rII+Rdgqf\n",
       "fOIOxPHbUrlE4WGSonKvmDEHL/FcA8Grs/xOllf4IibCKYDF97Q554+dAmUaRq1Enqwk0NTp92HP\n",
       "KomH2uuQRT+voN84zqJaRH/f8gvJZvcS/g+hIwrJ9DbmKkqZ+pEF6Hpha0sz0NtYTLPvzGLrZ9SG\n",
       "DE2hKI3ObVqmLd7xC2u57O6mNgBDBtPkvdkU0/EtgSkpcYh7l+8ABJOj9Fr5gd5AAzPk+4p5ISoM\n",
       "WGe+Pt4MBCT1/sEbg8bDqoMCWPVK+KbVRUmjXAAAALJBnwlFESw7/wAz5IAWfBhxwhPzxABxrjiO\n",
       "yFmHTG4IM0V2I1ZHYPOg2ONbpnKQhBUfOg75j1vZRlcLDSH/nVjl1ttQR5Y1vtm409QgqiM6dUn8\n",
       "3q2QFzrLtXLE0U2erNDxar783dWW6da/pta/7IM+jQQQmpa0eIKRa3A8eAMw30vLCzKFAJTZIEP8\n",
       "aTJc760pftcI8yX07vglT93VekRKiVmUUxdP3UJPmJNW1vLB9+54AAAAcwGfKHRDfwACSvssdqfI\n",
       "AE7GQsKofJuSnrZTvHzO0i01Hoy94sfXFppQw55mAUblMciVsvM08XVXUd0cxwIAt0xmaNYrBiG+\n",
       "HbeM5PGzYKTrUnE4C7nKWrAYDjyYz3xbBakVXxYA/5fZFiwjryg/vI7z1t0AAAB0AZ8qakN/AAJL\n",
       "XshhQJcAJmohL1LAhkuH2e3JSe+mstNFE03ui9FKyZYSP5CPjYT1+kbZLKr8Uj7wvwKkXFa2dIGz\n",
       "YavhP4Lv/zq4aCax/YTRGDcytllbNXNhMv2q3QJMhKUALHMB95svsTapeq1qwELsLPgAAAGKQZsv\n",
       "SahBbJlMCCP//rUqgAApO4Ox0sABuyNYuGARc+tacKJJiREvi1b/xWvThlAF929OJktvK7aKoO/l\n",
       "qwnsIfUWcC6CPONk/LwY9abcs4y9bs0jtSUPqkBnxBndVhiDStZetffBpgMChPmdA8yhmCzrJnpo\n",
       "0ip8YD3QZGEOqbslsZi4MaPAPUF8rUILheqqiN/3lnZ7p2gwl2YToEMOr8oFbgiFbPr/oZ+vHMka\n",
       "XoD+NPAxZXXNWcE2Vy+Kaal1+l8b//9WSMWgvHD/35Gk/P5YJ/pSK5YaJqY2mF3G2vc43cIUHjKM\n",
       "xTRzcY2Cp4555FEjuUkG5I5W9uANcasIlG+nfBhWkYDAhbdv6hcldOUvOe58QOBlVwYgvZ8MkLO0\n",
       "k3vTtN/FNRVkVK0ldoUeS1Yily5jAXx7LyL3pY3N8qaY0duqY9fXnIKO6DXWl70OGizCGPYjD/6+\n",
       "AJTQw3O1zloy35Q4eabok9fGBTCrgsW0i6gc1URrFsROhYGLoFMDEvhdSFOyGrJBuAAAAOBBn01F\n",
       "FSw7/wAz5IAWfBhx0HEEAF1SelyDapCGkeSjUZXbLfLc+ZQeMFnz/BSpGQRlHva4F7wP2hnWMjW8\n",
       "sHoqmihPO94fRzJvQD3x2Ng3xVFB2yWEPv1wpTvbqJ2Zbwo40E02wcTA9i9oHTa6+nqDpMFixGwG\n",
       "pMmYQOaxiTmuDoZyhiYZOeIR7kZw/8XeTl5CuuW2t08vNNwXCPsRq0B0WVg8Bfkva+rT8ZlTC5Kb\n",
       "C4Xx5iDFFB+/jYC82CG35rgcVsAnodlCfJmsvJamV706x3A90seVGjxiJw4UZ8irQQAAAHMBn2x0\n",
       "Q38AAkr7LHfmTxje+gAXL9ER/y3SW/3TuvuD8GbXrujppZqFCGhY19t76y0i3qWki3y1aJ/fNvIe\n",
       "W9aix8goyeiGpmSVTA5646NXqoEJYOtl9IywUnkjV4oi6HDJdLS1tnNQLOV62kQCcNuUEA6BAAAA\n",
       "ZwGfbmpDfwACS17IeJWuAE1egmp+S4hFrmdrqqF2iApPs/2QlYLiP5sy01/RVs4xOZjrL8zpW1wJ\n",
       "JoIUxGa8YX1L6x3/7dEnFd4ALP+5i8KYvs/m7mh0rgz7v1HqizYCNuFhI+JMYoEAAAHsQZtzSahB\n",
       "bJlMCCP//rUqgAApRTnYAXVeUXfWlL+GE3HIF99kzodFhX+D0bW0JRgrX35Xoq1TBp3oOipWQQMB\n",
       "tacss/wdJuV2cPfY1FhtG11SXlEYpi/Pb673+Aiq6Fc3TMniCEdZKShnY2GIORTKCRBVmp2nhv85\n",
       "aTFkEsca2p+4M/NUh+8kVkGI2N6s2rA4KAL2+4qcsubIE0lO0+GPd9r8kGea6/EpAMHNAIKVPaMm\n",
       "U5LG8jfHEJKkAk3+bzZ9lfv2T8Vjlhj4j5jX+O277ZRGIoLoufk+eAgMfBfxjIympP6qqaDhGtzY\n",
       "v5zZrujk2/ZK0eXKEgH2KyXE2Iw1kHIdC5pv8Fk5N6nukDqDFYaJDIZJ/G7zLS5SGSCHUugoqhnu\n",
       "GX//9tZxMjVkYW02MidSD6bMVDtXCX8WuBlWONroaCXM09oS8rTQma30raMU+WS6G8VzBvpNWYIg\n",
       "nES7lkq0I2CURDwJ8QgFpRMDFHAxbEt/QTKnD14tPXNln2X2RBlmW4HhhVnNwu3bXkD9DvUF5smQ\n",
       "tsEqaPsou6/O96UJppM2ieOttvfX74Ex6vEaHa0ZvYaAp4Eu0/GXrUBEiDuafYKN2hy/T5XDiBkm\n",
       "jNaEvPWpEa4DMDXPPMEJEkwGKRdMQGHf/8E3+hRiAAAAhEGfkUUVLDv/ADPkgBZ8GHHPJX4ALept\n",
       "4ZEJ5BpS3a/1eFSw395DyLemY3MUpHfQc7zfUssDqDY30zMrCanLIuK3r3zxRkwIKJ/0iFBVToyS\n",
       "j1BraePxkMa8aKsYXqBOSaDWDlc/o7HatiRXbBrdUiGUW/lqI8DpsmEbIYZT6xkBKvl+tgAAAGYB\n",
       "n7B0Q38AAkr7LHaGAdDRoAE5ImTX4HZnGgQVgktc8vGEL3HexiCiI7PsjLIbjN9/caPJVZpFxGCe\n",
       "bepjhUdNos3c94D8O46irvdTjqCyxms+Hylih8HRPd7r5nYJ4+f5+USiTXkAAACPAZ+yakN/AAJL\n",
       "XshzUpLgBNDquYjy1qEwjzjiwcX5/ijkWtPwpxc74ZHNIX1SNs+ZQ5TohkBzV2gWhJBzNcDJdZdI\n",
       "v6DZIP7oTBNrWbd2Y+I/1RPRaAri6rhAX8Q9ZW2hPhhRJLLW5A0HRHF/TYOhfgLOd0GOKHB5jRdK\n",
       "TTPDO5E6iWnslvaL+me/oM3oasgAAAGLQZu3SahBbJlMCCP//rUqgACc8zfxG0KkAEQfSssLsCwC\n",
       "iEObiHKizYYy13IYCNZGoOPYrRD1UXuBqljyuZgGeMoH5hBl/7oyn+ChWp2DkMrqblYpcaZPWcnD\n",
       "dCFBb/mbrD0DawaDWldxdtCm4/uR9g8MQOGH6vBQRE4sGif4guqP3Li2IaYl/kRyFZl314TXTftF\n",
       "+S0MbXyOUmAifbNbK4kLrYtnby8gi+zC8eFCC9cNjaHqYBrM+UfngwAe5sRYeH4AE5WcT6rdjIri\n",
       "13CpzRYzYtNhLtQfdRJDFiga+LUCBaQ19JMIRlq7MqLaz4GMdTcjasHQY70BgSUO6RBBAQ88NQfN\n",
       "WSFbshHt5c5ZKCxZv96coKG9iRx8mefFCZpR5ZZr53LxWJEyL2bxry3zz7zCZKmAO5S5gNrzN6bQ\n",
       "ugenQtMqqDnLNUfR+HEcM5Sd4r409Ms7IivUqpS0cBtvozsCoMMONS3azcT+85rxvDLiODozWEBA\n",
       "5Ctmwng/7WUDPQyXdrr7x2XL2YAAAACvQZ/VRRUsO/8AM+SAF9a52/U4VKK5IAL5qzsT/+8xW+JM\n",
       "HRurR1NpfcPK9eaea0VShag6LOqAhXNHalwuPOwEAPTpr64pwVjcTtiA+jkMyz+fsejNuWimQj1D\n",
       "BmW2ktr+rEcnG+dqHhDSAG2j1BZ2m6CgjQgz7kQ8yzmHrR/A+msZ/KavMLGqtBzOAAYUplrSGevV\n",
       "6iQP30eOzCqoBB/pX+NOOdPnJgSX+sDpvS9qUwAAAGYBn/R0Q38AAkr7RhoVwA3Q+ZyrggFw93zD\n",
       "URvH2jXrrKL6Q507y/YjoqAY5MnKC5iyL9MAWsg6mrmi7vnXLHcJ3YIsCwYBpYUMpCxxQu9iEXRL\n",
       "fANjm736PxW7IWQzqiOFmP0UUyAAAABkAZ/2akN/AANf1f2CSwuTDEmPTZoAE46s3G5j9zDVQb2F\n",
       "ZGKvUGzrR/RdUbeTzHIPob7N/wq+GmiTOlK/N9zhWxryo6xdPF4Uo1ZiYlupXMnP4URLW7vAtUBn\n",
       "wYkz/2ce/TLDwQAAANFBm/pJqEFsmUwII//+tSqAAJzNUlPUGmRAFdPRj+k9wtmfujXOESLn63am\n",
       "3qzcydxybGRm3itWSFptXQIUKCQX3ZjRGVCpPqb3MgUVsG/JMD/wfjCAJ65dOhmajGqgQgVDEVTO\n",
       "qRfnyHIa8q5jpMIY2w4x81wivFbORi/yfgd48iiYnYvvhrJuyz49I+NRddOur6kOSEPgaeBs+rob\n",
       "H7T0PIKeWa9bhkUK/1bxRWStmlfFNabJBi9zniKfQr9kED3hkXMNA8q5Q0AmP0nKCDfhuQAAADpB\n",
       "nhhFFSw3/wBJcjJPgiPOAFvXJcaj3nU/P6kcIEs+rNkN0AST9TSZmxRmZGbtl2DnpkDoWJKlvYDo\n",
       "AAAATAGeOWpDfwAGmU1vbvOh4tj64AEFc9VUtlt+o13ufxRNvKmmV5OWP6fCr84qk5Y2Yi5tTpVZ\n",
       "DWst9RoTsa1oh4rXR+EQe6FEMtzdzXUAAAEHQZo+SahBbJlMCCH//qpVAAEx5ADFP3eCWH2AG43k\n",
       "p2NTB52OAZKt6vmCZYoeDq+2oqJ56pPHOgSXYMZDga/TetrH5m7zBY+HMkLMfwqPg8cGORRXQk6Y\n",
       "dX1/Ifgar9HgqpnPWjskAoCcqwmD5RJk5/maIkD1LD6rNjmjSNrhxymUVe2Ig1jmj33/17gJbJGp\n",
       "sP7rMClArpedQoSCuFuVj1PnE4x5yvZWM3/sQwjfcXgskqUY+ocni5EY5weztIk3XwQGmVh3BXN+\n",
       "qoy9ft/iG2JrgucxzBBOpIiZGlhcrJL+8X26JXY3H4v9o8YTwi6S+Aw0ZAl/tCZ1N0uZ253wCj7/\n",
       "UsfbVF4AAAB3QZ5cRRUsO/8AM+SAG+wNwfUrUZx8AG0mdcs7fCBLSUX4jUFZfmz/Pf/3W4EyuaX5\n",
       "amcHSSjbeEHeL7WhM/ucnV2Kh5jqkc9WeB5JA7RWudCr+tnK1ENl+hawYEfGxdYmON+lcqEz3orC\n",
       "imOvIHmKUuuevXv4YVsAAABqAZ57dEN/AAaHu4lzNrpuoAQp7x2PEyM8WkPgPGMKj3IXfK+488cH\n",
       "122YfvxNhfhffGO5ddtHLksGPPARRehMxbPyRipJYspxmZrhHac0mfXKwmq4regF/ddxCp+otZFn\n",
       "H9DTHstfG66dfwAAAGgBnn1qQ38ABoe7kPm5ACdtP6loNXAvt5tfFuUHiVc96BowOPyE6tV5STtl\n",
       "yQhM7gv72Tp6ZCcAYF86TfWMv1p6fETjEtKQtjDMde1HPGYglmrAEgvKDXRrPT6DxfxGPo2uX1mo\n",
       "dd2tgAAAAVNBmmJJqEFsmUwId//+qZYAAmC/dU2WOIAWxv1PqAg1pKGdQwQY6AuFko/F4usvgLgW\n",
       "5wfrlM8Yr8Wa0E2/bViP8Umq5xHOBPti6vzY3E0EFt6OKScrHvpmWQ8U8X2ESBoDuy/zUmrh30jU\n",
       "2d57GQhBeBSCUoDMr+B7EVn2qsML0yHJa1J2iTV7P20GehLzVLPwYa96A8CNNKom4ffDbo1ZBUXB\n",
       "QJRatnH3joA/MYvtB6Sy5nZaI51jXS63SMdtSE3jauvs6x94VIgvEweHK0DDZ5eblVWZ5wGh14G6\n",
       "N8USCShWf9te4IA2kqb7E1DEoh0KoDgK7SILZ3lBz7WsgkC/9dwvuuh51qC3x/udWttrVNoYQSZG\n",
       "KZsbeqE4srd9gMzOGomXkCLHGoxxmQn6E865O7YykW2Be1RHcSn38MnMVVFkh1uw7IFEGiBnviBP\n",
       "mj5cZvAAAAC1QZ6ARRUsO/8AM+SAG9LaTNnbByhzCpOjlAC6rnzSxChSofWqelD+UvW+a9i7Dn48\n",
       "7S9Fe4zYGRLVQXldUjpg39tDlDz1go8MwMXj61cDRVD4whdfVDz+Ky/lBY4BVU7FeOSMdeDsriPU\n",
       "zA2XlLK9Vt93b1fukle1lXnSCqPMb48+b///4WXqSBkv7sQmfvtt5IfPZZMhVXvc3ZWVWIltqqm1\n",
       "z+sG9k216Peo0nCiiLTQiY0JQQAAAGABnr90Q38ABpesHytqZ2iagt5oAJ2NLgYwO09ICKqe2NAW\n",
       "QAWNizIjcPdmi2dwQrVGXwgNul4c/Jj6OGsRB1vaPdcYY5Ka+a5mZ9m+sLANID154jbgjcCfA/j9\n",
       "/Q7tGYEAAACgAZ6hakN/AAaYuyUa1zzrgYATVR00r5+KIllqytn1v4Mq5jjmP5hTeHUmxnfRdcct\n",
       "7GaaDlXEgTb5RFLXhZU1mMe+Q2aJE+wVwJGtDOhKcdg/3J1I8jb0hfiq+g+d98/wC2IzCfRujwa1\n",
       "+F6mX/79yVAk/8FQgHjRRLvMupAszCNMUfxHHnBKXVUV3hsI4kG+xd8X3qiShGl1xeGLrAUTEQAA\n",
       "AMdBmqNJqEFsmUwIb//+p4QAAn0t9cgBNXnupUKfAKE3UBF0gXZ0oTUxog4oNSmzTLTTeP/BAUMx\n",
       "OYBHSwCaEjr38be7+QWatLwAAT55/XVyTl7msvxoaG1xhiOKBLEC6hhMEgkjJQTNi8KN/m/yyTzq\n",
       "7IFeV3E+kBG2Z8iXAY10onkzqYpPQWD/G50MSIjm/k6ZFOHNc3v0Id7Gd05c4Kt2ENUGsdBhufCn\n",
       "edWz/8RoNYg3Grh8el+65nSuP0MTZhXoylJXLMLwAAAHwm1vb3YAAABsbXZoZAAAAAAAAAAAAAAA\n",
       "AAAAA+gAACcQAAEAAAEAAAAAAAAAAAAAAAABAAAAAAAAAAAAAAAAAAAAAQAAAAAAAAAAAAAAAAAA\n",
       "QAAAAAAAAAAAAAAAAAAAAAAAAAAAAAAAAAAAAAAAAAIAAAbsdHJhawAAAFx0a2hkAAAAAwAAAAAA\n",
       "AAAAAAAAAQAAAAAAACcQAAAAAAAAAAAAAAAAAAAAAAABAAAAAAAAAAAAAAAAAAAAAQAAAAAAAAAA\n",
       "AAAAAAAAQAAAAAGwAAABIAAAAAAAJGVkdHMAAAAcZWxzdAAAAAAAAAABAAAnEAAACAAAAQAAAAAG\n",
       "ZG1kaWEAAAAgbWRoZAAAAAAAAAAAAAAAAAAAKAAAAZAAVcQAAAAAAC1oZGxyAAAAAAAAAAB2aWRl\n",
       "AAAAAAAAAAAAAAAAVmlkZW9IYW5kbGVyAAAABg9taW5mAAAAFHZtaGQAAAABAAAAAAAAAAAAAAAk\n",
       "ZGluZgAAABxkcmVmAAAAAAAAAAEAAAAMdXJsIAAAAAEAAAXPc3RibAAAALdzdHNkAAAAAAAAAAEA\n",
       "AACnYXZjMQAAAAAAAAABAAAAAAAAAAAAAAAAAAAAAAGwASAASAAAAEgAAAAAAAAAAQAAAAAAAAAA\n",
       "AAAAAAAAAAAAAAAAAAAAAAAAAAAAAAAAABj//wAAADVhdmNDAWQAFf/hABhnZAAVrNlBsJaEAAAD\n",
       "AAQAAAMAUDxYtlgBAAZo6+PLIsD9+PgAAAAAHHV1aWRraEDyXyRPxbo5pRvPAyPzAAAAAAAAABhz\n",
       "dHRzAAAAAAAAAAEAAABkAAAEAAAAABRzdHNzAAAAAAAAAAEAAAABAAADEGN0dHMAAAAAAAAAYAAA\n",
       "AAEAAAgAAAAAAQAAFAAAAAABAAAIAAAAAAEAAAAAAAAAAQAABAAAAAABAAAUAAAAAAEAAAgAAAAA\n",
       "AQAAAAAAAAABAAAEAAAAAAEAABQAAAAAAQAACAAAAAABAAAAAAAAAAEAAAQAAAAAAQAAFAAAAAAB\n",
       "AAAIAAAAAAEAAAAAAAAAAQAABAAAAAABAAAUAAAAAAEAAAgAAAAAAQAAAAAAAAABAAAEAAAAAAEA\n",
       "ABQAAAAAAQAACAAAAAABAAAAAAAAAAEAAAQAAAAAAQAAFAAAAAABAAAIAAAAAAEAAAAAAAAAAQAA\n",
       "BAAAAAABAAAMAAAAAAEAAAQAAAAAAgAACAAAAAABAAAQAAAAAAIAAAQAAAAAAQAAFAAAAAABAAAI\n",
       "AAAAAAEAAAAAAAAAAQAABAAAAAABAAAUAAAAAAEAAAgAAAAAAQAAAAAAAAABAAAEAAAAAAEAABQA\n",
       "AAAAAQAACAAAAAABAAAAAAAAAAEAAAQAAAAAAQAADAAAAAABAAAEAAAAAAEAABQAAAAAAQAACAAA\n",
       "AAABAAAAAAAAAAEAAAQAAAAAAQAAFAAAAAABAAAIAAAAAAEAAAAAAAAAAQAABAAAAAABAAAUAAAA\n",
       "AAEAAAgAAAAAAQAAAAAAAAABAAAEAAAAAAEAABQAAAAAAQAACAAAAAABAAAAAAAAAAEAAAQAAAAA\n",
       "AgAACAAAAAABAAAUAAAAAAEAAAgAAAAAAQAAAAAAAAABAAAEAAAAAAEAABQAAAAAAQAACAAAAAAB\n",
       "AAAAAAAAAAEAAAQAAAAAAQAAFAAAAAABAAAIAAAAAAEAAAAAAAAAAQAABAAAAAABAAAUAAAAAAEA\n",
       "AAgAAAAAAQAAAAAAAAABAAAEAAAAAAEAABQAAAAAAQAACAAAAAABAAAAAAAAAAEAAAQAAAAAAQAA\n",
       "EAAAAAACAAAEAAAAAAEAABQAAAAAAQAACAAAAAABAAAAAAAAAAEAAAQAAAAAAQAAFAAAAAABAAAI\n",
       "AAAAAAEAAAAAAAAAAQAABAAAAAABAAAIAAAAABxzdHNjAAAAAAAAAAEAAAABAAAAZAAAAAEAAAGk\n",
       "c3RzegAAAAAAAAAAAAAAZAAAC6gAAAKNAAAAxQAAAHoAAACiAAACPQAAAKUAAAB+AAAAQAAAARMA\n",
       "AACGAAAAWAAAAFIAAADIAAAAggAAAGQAAABqAAABowAAAGMAAABrAAAASwAAAPUAAAB+AAAAOgAA\n",
       "AFYAAAFyAAAAhwAAAFsAAABOAAABMQAAAHwAAACKAAAA1gAAAJYAAABgAAAAPAAAAYMAAACnAAAA\n",
       "bQAAAFoAAAG3AAAAiQAAAHAAAABWAAABsAAAAKIAAABoAAAAVQAAAL8AAABFAAABKwAAAHEAAAA4\n",
       "AAAAXwAAAeIAAAClAAAAUwAAAHoAAAGoAAAAhAAAAGEAAAClAAABwgAAAHQAAAB0AAAAaQAAAJgA\n",
       "AACYAAAA0QAAAEcAAAA+AAAAVQAAAakAAAC2AAAAdwAAAHgAAAGOAAAA5AAAAHcAAABrAAAB8AAA\n",
       "AIgAAABqAAAAkwAAAY8AAACzAAAAagAAAGgAAADVAAAAPgAAAFAAAAELAAAAewAAAG4AAABsAAAB\n",
       "VwAAALkAAABkAAAApAAAAMsAAAAUc3RjbwAAAAAAAAABAAAAMAAAAGJ1ZHRhAAAAWm1ldGEAAAAA\n",
       "AAAAIWhkbHIAAAAAAAAAAG1kaXJhcHBsAAAAAAAAAAAAAAAALWlsc3QAAAAlqXRvbwAAAB1kYXRh\n",
       "AAAAAQAAAABMYXZmNTguNzYuMTAw\n",
       "\">\n",
       "  Your browser does not support the video tag.\n",
       "</video>"
      ],
      "text/plain": [
       "<IPython.core.display.HTML object>"
      ]
     },
     "execution_count": 15,
     "metadata": {},
     "output_type": "execute_result"
    }
   ],
   "source": [
    "from IPython.display import HTML\n",
    "HTML(ani.to_html5_video())"
   ]
  },
  {
   "cell_type": "code",
   "execution_count": null,
   "id": "46c2fab1",
   "metadata": {},
   "outputs": [],
   "source": []
  }
 ],
 "metadata": {
  "kernelspec": {
   "display_name": "Python 3",
   "language": "python",
   "name": "python3"
  },
  "language_info": {
   "codemirror_mode": {
    "name": "ipython",
    "version": 3
   },
   "file_extension": ".py",
   "mimetype": "text/x-python",
   "name": "python",
   "nbconvert_exporter": "python",
   "pygments_lexer": "ipython3",
   "version": "3.7.10"
  }
 },
 "nbformat": 4,
 "nbformat_minor": 5
}
