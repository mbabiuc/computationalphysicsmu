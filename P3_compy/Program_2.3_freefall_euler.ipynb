{
 "cells": [
  {
   "cell_type": "code",
   "execution_count": null,
   "metadata": {},
   "outputs": [],
   "source": [
    "#\n",
    "# Program 2.5: Free fall with modular Euler (freefall_euler.ipynb)\n",
    "# J Wang, Computational modeling and visualization with Python\n",
    "#\n",
    "\n",
    "import numpy as np              # get numpy functions\n",
    "import matplotlib.pyplot as plt # get matplotlib plot functions\n",
    "%matplotlib notebook\n",
    "g = 9.8                         # gravitational constant\n",
    "\n",
    "def Euler(diffeq, y0, t, h): # uses docstring \"\"\"...\"\"\"\n",
    "    \"\"\" Euler's method for n ODEs:\n",
    "        Given y0 at t, returns y1 at t+h \"\"\"\n",
    "    dydt = diffeq(y0, t)     # get {dy/dt} at t\n",
    "    return y0 + h*dydt       # Euler method on a vector  \n",
    "    \n",
    "def freefall(y, t):          # returns {dy/dt}, the RHS of ODEs\n",
    "    dydt = np.zeros(2)       # initialize 2-element numpy array \n",
    "    dydt[0] = y[1]           # f1(), \n",
    "    dydt[1] = -g             # f2(), \n",
    "    return dydt              # note: returns whole array dydt[]\n",
    "     \n",
    "def go(v0):                  # main program, v0=initial velocity\n",
    "    y0 = [0.0, v0]           # initial values\n",
    "    t, h = 0.0, 0.02         # init time, step size\n",
    "    ta,ya,yb = [],[],[]      # declare arrays for plotting\n",
    "    while t<1.0:             # loop for one second\n",
    "        ta.append(t)         # record time and position\n",
    "        ya.append(y0[0])\n",
    "        yb.append(v0*t-g*t*t/2.0)\n",
    "        y1 = Euler(freefall, y0, t, h)   # Euler's method\n",
    "        for i in range(len(y0)):         # reseed y0\n",
    "            y0[i] = y1[i]\n",
    "        t = t + h\n",
    "\n",
    "    plt.figure()                # start a figure\n",
    "    plt.plot(ta,ya, ta,yb,'--') # draw 2nd curve as dashed\n",
    "    plt.xlabel('t (s)')         # add labels\n",
    "    plt.ylabel('y (m)')\n",
    "    plt.show()                  # show figure\n",
    "    \n",
    "go(5.0)                     # run the program"
   ]
  },
  {
   "cell_type": "code",
   "execution_count": null,
   "metadata": {
    "collapsed": true
   },
   "outputs": [],
   "source": []
  }
 ],
 "metadata": {
  "kernelspec": {
   "display_name": "Python 3",
   "language": "python",
   "name": "python3"
  },
  "language_info": {
   "codemirror_mode": {
    "name": "ipython",
    "version": 3
   },
   "file_extension": ".py",
   "mimetype": "text/x-python",
   "name": "python",
   "nbconvert_exporter": "python",
   "pygments_lexer": "ipython3",
   "version": "3.6.1"
  }
 },
 "nbformat": 4,
 "nbformat_minor": 2
}
