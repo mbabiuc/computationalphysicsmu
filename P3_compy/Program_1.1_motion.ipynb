{
 "cells": [
  {
   "cell_type": "code",
   "execution_count": null,
   "metadata": {},
   "outputs": [],
   "source": [
    "#\n",
    "# Program 1.1: Motion with constant acceleration (motion.ipynb)\n",
    "# J Wang, Computational modeling and visualization with Python\n",
    "#\n",
    "\n",
    "import matplotlib.pyplot as plt # get matplotlib plot functions \n",
    "import sys\n",
    "%matplotlib notebook\n",
    "\n",
    "if (sys.version_info[0] < 3):\n",
    "    a, v0 = input('enter a, v0 (eg 1.0, 0.0) : ')   # read input 2.xx \n",
    "else:\n",
    "    a, v0 = eval(input('enter a, v0 (eg 1.0, 0.0) : '))   # 3.xx\n",
    "t, h, n = 0.0, 0.1, 20          # init time, step size, number of steps\n",
    "ta, xa = [], []                 # time and position arrays for plotting \n",
    "\n",
    "for i in range(n):              # loop for n steps  \n",
    "    ta.append(t)                # record time and position\n",
    "    xa.append(v0*t + a*t*t/2.0)\n",
    "    t = t + h                   # update time \n",
    "\n",
    "plt.figure()                    # start a figure; no indent->end of loop    \n",
    "plt.plot(ta, xa, '-o')          # plot data\n",
    "plt.xlabel('t (s)')             # add labels\n",
    "plt.ylabel('x (m)')\n",
    "plt.show()                      # show figure"
   ]
  },
  {
   "cell_type": "code",
   "execution_count": null,
   "metadata": {
    "collapsed": true
   },
   "outputs": [],
   "source": []
  }
 ],
 "metadata": {
  "kernelspec": {
   "display_name": "Python 3",
   "language": "python",
   "name": "python3"
  },
  "language_info": {
   "codemirror_mode": {
    "name": "ipython",
    "version": 3
   },
   "file_extension": ".py",
   "mimetype": "text/x-python",
   "name": "python",
   "nbconvert_exporter": "python",
   "pygments_lexer": "ipython3",
   "version": "3.6.1"
  }
 },
 "nbformat": 4,
 "nbformat_minor": 1
}
